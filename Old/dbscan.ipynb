{
 "cells": [
  {
   "cell_type": "code",
   "execution_count": 2,
   "id": "4721b632",
   "metadata": {},
   "outputs": [],
   "source": [
    "import yfinance as yf\n",
    "import pandas as pd\n",
    "import numpy as np\n",
    "import matplotlib.pyplot as plt\n",
    "import seaborn as sns\n",
    "from sklearn.cluster import DBSCAN"
   ]
  },
  {
   "cell_type": "code",
   "execution_count": 3,
   "id": "fd07519c",
   "metadata": {},
   "outputs": [],
   "source": [
    "closing_prices = pd.read_pickle(\"./data/stocks/closing_prices.pkl\")"
   ]
  },
  {
   "cell_type": "code",
   "execution_count": 7,
   "id": "22ed3fbd",
   "metadata": {},
   "outputs": [],
   "source": [
    "from data_processing.preprocessing import sharpe_normalize, risk\n",
    "from data_processing.preprocessing import normalize\n",
    "\n",
    "closing_prices = pd.read_pickle(\"./data/stocks/closing_prices.pkl\")\n",
    "sharpe = sharpe_normalize(closing_prices)\n",
    "closing_prices_l2 = normalize(closing_prices)"
   ]
  },
  {
   "cell_type": "code",
   "execution_count": 5,
   "id": "55ff4b80",
   "metadata": {},
   "outputs": [],
   "source": [
    "def cols(df):\n",
    "    colnames = list(df.columns)\n",
    "    return [df[c].values for c in colnames]\n",
    "\n",
    "def diams(df):\n",
    "    cs = cols(df)\n",
    "    mat = [[0 for c in cs] for c in cs]\n",
    "    for i in range(len(cs)-1):\n",
    "        for j in range(i+1,len(cs)):\n",
    "            ci = cs[i]\n",
    "            cj = cs[j]\n",
    "            dij = np.linalg.norm(ci-cj)\n",
    "            mat[i][j]=dij\n",
    "            mat[j][i]=dij\n",
    "    return mat"
   ]
  },
  {
   "cell_type": "code",
   "execution_count": 14,
   "id": "170fc453",
   "metadata": {},
   "outputs": [],
   "source": [
    "class dbcluster:\n",
    "    def __init__(self,dataframe,ep,ms):\n",
    "        self.df = dataframe\n",
    "        self.ticks = list(dataframe.columns)\n",
    "        self.diams = diams(dataframe)\n",
    "        self.diammin = min([min([a for a in r if a>0]) for r in self.diams])\n",
    "        self.diammax = max([max(r) for r in self.diams])\n",
    "        self.clustering = DBSCAN(eps=ep, min_samples=ms).fit_predict(self.diams)\n",
    "        self.no_clusters = len(set(self.clustering))-1\n",
    "        self.tick2cluster = {self.ticks[i]:self.clustering[i] for i in range(len(self.ticks))}\n",
    "        self.good_ticks = [t for t in self.ticks if self.tick2cluster[t]!=-1]\n",
    "        self.good_clustering = [t for t in self.clustering if t!= -1]\n",
    "        "
   ]
  },
  {
   "cell_type": "code",
   "execution_count": 33,
   "id": "882d3607",
   "metadata": {},
   "outputs": [],
   "source": [
    "dt = dbcluster(sharpe,30,2)"
   ]
  },
  {
   "cell_type": "code",
   "execution_count": 35,
   "id": "25e4300d",
   "metadata": {},
   "outputs": [],
   "source": [
    "clusters_no2 = {}\n",
    "clusters_no3 = {}\n",
    "clusters_no4 = {}\n",
    "clusters_no5 = {}\n",
    "for e in range(10,30):\n",
    "    clusters_no2[e]=dbcluster(sharpe,e,2)\n",
    "    clusters_no3[e]=dbcluster(sharpe,e,3)\n",
    "    clusters_no4[e]=dbcluster(sharpe,e,4)\n",
    "    clusters_no5[e]=dbcluster(sharpe,e,5)"
   ]
  },
  {
   "cell_type": "code",
   "execution_count": 37,
   "id": "27742897",
   "metadata": {},
   "outputs": [],
   "source": [
    "noclusters2 = [clusters_no2[e].no_clusters for e in range(10,30)]\n",
    "noclusters3 = [clusters_no3[e].no_clusters for e in range(10,30)]\n",
    "noclusters4 = [clusters_no4[e].no_clusters for e in range(10,30)]\n",
    "noclusters5 = [clusters_no5[e].no_clusters for e in range(10,30)]"
   ]
  },
  {
   "cell_type": "code",
   "execution_count": 42,
   "id": "d5a5c309",
   "metadata": {},
   "outputs": [],
   "source": [
    "ngticks2 = [len(clusters_no2[e].good_ticks) for e in range(10,30)]\n",
    "ngticks3 = [len(clusters_no3[e].good_ticks) for e in range(10,30)]\n",
    "ngticks4 = [len(clusters_no4[e].good_ticks) for e in range(10,30)]\n",
    "ngticks5 = [len(clusters_no5[e].good_ticks) for e in range(10,30)]"
   ]
  },
  {
   "cell_type": "code",
   "execution_count": 38,
   "id": "a170badc",
   "metadata": {},
   "outputs": [
    {
     "data": {
      "text/plain": [
       "[4, 6, 7, 10, 15, 18, 25, 29, 33, 38, 48, 54, 63, 63, 68, 61, 53, 49, 41, 32]"
      ]
     },
     "execution_count": 38,
     "metadata": {},
     "output_type": "execute_result"
    }
   ],
   "source": [
    "noclusters2"
   ]
  },
  {
   "cell_type": "code",
   "execution_count": 39,
   "id": "93078cbc",
   "metadata": {},
   "outputs": [
    {
     "data": {
      "text/plain": [
       "[0, 0, 1, 2, 3, 3, 7, 8, 8, 11, 12, 14, 17, 20, 24, 27, 28, 26, 20, 16]"
      ]
     },
     "execution_count": 39,
     "metadata": {},
     "output_type": "execute_result"
    }
   ],
   "source": [
    "noclusters3"
   ]
  },
  {
   "cell_type": "code",
   "execution_count": 40,
   "id": "49bf7818",
   "metadata": {},
   "outputs": [
    {
     "data": {
      "text/plain": [
       "[0, 0, 0, 0, 0, 1, 2, 4, 4, 5, 7, 9, 10, 10, 12, 16, 16, 16, 16, 15]"
      ]
     },
     "execution_count": 40,
     "metadata": {},
     "output_type": "execute_result"
    }
   ],
   "source": [
    "noclusters4"
   ]
  },
  {
   "cell_type": "code",
   "execution_count": 41,
   "id": "5394425c",
   "metadata": {},
   "outputs": [
    {
     "data": {
      "text/plain": [
       "[0, 0, 0, 0, 0, 0, 2, 2, 4, 4, 5, 5, 6, 6, 7, 10, 11, 11, 11, 13]"
      ]
     },
     "execution_count": 41,
     "metadata": {},
     "output_type": "execute_result"
    }
   ],
   "source": [
    "noclusters5"
   ]
  },
  {
   "cell_type": "code",
   "execution_count": 46,
   "id": "0b688bbf",
   "metadata": {},
   "outputs": [
    {
     "data": {
      "text/plain": [
       "[0, 0, 0, 0, 0, 0, 12, 13, 32, 40, 51, 61, 71, 80, 93, 123, 170, 208, 264, 329]"
      ]
     },
     "execution_count": 46,
     "metadata": {},
     "output_type": "execute_result"
    }
   ],
   "source": [
    "ngticks5"
   ]
  },
  {
   "cell_type": "code",
   "execution_count": null,
   "id": "f265dbdb",
   "metadata": {},
   "outputs": [],
   "source": [
    "goodtick2 = [clusters_no2[e].good_ticks for e in range(10,30)]\n",
    "goodtick3 = [clusters_no3[e].good_ticks for e in range(10,30)]\n",
    "goodtick4 = [clusters_no4[e].good_ticks for e in range(10,30)]\n",
    "goodtick5 = [clusters_no5[e].good_ticks for e in range(10,30)]"
   ]
  }
 ],
 "metadata": {
  "kernelspec": {
   "display_name": "Python 3 (ipykernel)",
   "language": "python",
   "name": "python3"
  },
  "language_info": {
   "codemirror_mode": {
    "name": "ipython",
    "version": 3
   },
   "file_extension": ".py",
   "mimetype": "text/x-python",
   "name": "python",
   "nbconvert_exporter": "python",
   "pygments_lexer": "ipython3",
   "version": "3.11.3"
  }
 },
 "nbformat": 4,
 "nbformat_minor": 5
}
