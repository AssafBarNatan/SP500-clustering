{
 "cells": [
  {
   "cell_type": "markdown",
   "id": "826bda5e",
   "metadata": {},
   "source": [
    "# Loading Ticker Data and save to data folder"
   ]
  },
  {
   "cell_type": "code",
   "execution_count": 1,
   "id": "6f78e355",
   "metadata": {},
   "outputs": [],
   "source": [
    "import yfinance as yf\n",
    "import pandas as pd\n",
    "import numpy as np\n",
    "import matplotlib.pyplot as plt\n",
    "import seaborn as sns"
   ]
  },
  {
   "cell_type": "markdown",
   "id": "89a2b256",
   "metadata": {},
   "source": [
    "yahoo_download takes a ticker and returns a dataframe of:\n",
    "- Daily close price\n",
    "- Daily volume\n",
    "- Daily HML"
   ]
  },
  {
   "cell_type": "code",
   "execution_count": 2,
   "id": "af5b0bd4",
   "metadata": {},
   "outputs": [],
   "source": [
    "def yahoo_download(ticker_name, period = '1y'):\n",
    "    \"\"\"\n",
    "    yahoo_download downloads the daily financial data for a specific ticker \n",
    "    and stores it in a Pandas dataframe.\n",
    "    \n",
    "    To download discrete data (dividends, number of shares as times goes on)\n",
    "    see documentation at:    https://pypi.org/project/yfinance/\n",
    "    \"\"\"\n",
    "    try:\n",
    "        ticker = yf.Ticker(ticker_name)\n",
    "        df = ticker.history(period = period)[[\"Open\", \"High\", \"Low\", \"Close\", \"Volume\"]]\n",
    "        df[\"HML\"] = df[\"High\"] - df[\"Low\"]\n",
    "    except Exception as e:\n",
    "        print(f\"Failed to download data for {ticker}: {e}\")\n",
    "        return None\n",
    "    \n",
    "    return df[[\"Close\", \"Volume\", \"HML\"]]"
   ]
  },
  {
   "cell_type": "code",
   "execution_count": 3,
   "id": "27f95dec",
   "metadata": {},
   "outputs": [
    {
     "name": "stderr",
     "output_type": "stream",
     "text": [
      "BRK.B: No data found, symbol may be delisted\n"
     ]
    },
    {
     "name": "stdout",
     "output_type": "stream",
     "text": [
      "Ticker: BRK.B has null values, and I will skip it\n"
     ]
    },
    {
     "name": "stderr",
     "output_type": "stream",
     "text": [
      "BF.B: No price data found, symbol may be delisted (period=1y)\n"
     ]
    },
    {
     "name": "stdout",
     "output_type": "stream",
     "text": [
      "Ticker: BF.B has null values, and I will skip it\n"
     ]
    }
   ],
   "source": [
    "SP500_tickers = pd.read_html('https://en.wikipedia.org/wiki/List_of_S%26P_500_companies')[0]['Symbol'].tolist()\n",
    "SP500_data = {}\n",
    "\n",
    "for ticker in SP500_tickers:\n",
    "    try:\n",
    "        SP500_data[ticker] = pd.read_pickle(f\"./data/stocks/{ticker}_raw.pkl\")\n",
    "    except FileNotFoundError:\n",
    "        df = yahoo_download(ticker)\n",
    "        # gets rid of tickers with any missing values\n",
    "        if df.isnull().values.any() or df.empty:\n",
    "            print(f\"Ticker: {ticker} has null values, and I will skip it\")\n",
    "        else:\n",
    "            df.to_pickle(f\"./data/stocks/{ticker}_raw.pkl\")\n",
    "            SP500_data[ticker] = df"
   ]
  },
  {
   "cell_type": "markdown",
   "id": "ca38166f",
   "metadata": {
    "scrolled": true
   },
   "source": [
    "Some tickers - VLTO, KVUE, and GEHC have only been added to the S&P500 in the last few months, and some of their data is missing. We can manually remove them from our analysis.\n",
    "\n",
    "The main difference between the GOOG and GOOGL stock ticker symbols is that GOOG shares have no voting rights, while GOOGL shares do. We will keep them in for now..."
   ]
  },
  {
   "cell_type": "code",
   "execution_count": 4,
   "id": "e7fe73b3",
   "metadata": {},
   "outputs": [],
   "source": [
    "bad_ticks = [\"VLTO\", \"KVUE\", \"GEHC\"]\n",
    "\n",
    "for tick in bad_ticks:\n",
    "    SP500_data.pop(tick, None)"
   ]
  },
  {
   "cell_type": "markdown",
   "id": "0f3d6dd3",
   "metadata": {
    "scrolled": true
   },
   "source": [
    "# Saving Some Data"
   ]
  },
  {
   "cell_type": "code",
   "execution_count": 5,
   "id": "0d881cb3",
   "metadata": {},
   "outputs": [],
   "source": [
    "closing_prices = {tick : SP500_data[tick][\"Close\"] for tick in SP500_data.keys()}\n",
    "closing_prices = pd.DataFrame.from_dict(closing_prices)\n",
    "closing_prices.to_pickle(f\"./data/stocks/closing_prices.pkl\")\n",
    "\n",
    "volumes = {tick : SP500_data[tick][\"Volume\"] for tick in SP500_data.keys()}\n",
    "volumes = pd.DataFrame.from_dict(volumes)\n",
    "volumes.to_pickle(f\"./data/stocks/volumes.pkl\")\n",
    "\n",
    "HMLs = {tick : SP500_data[tick][\"HML\"] for tick in SP500_data.keys()}\n",
    "HMLs = pd.DataFrame.from_dict(HMLs)\n",
    "HMLs.to_pickle(f\"./data/stocks/HMLs.pkl\")"
   ]
  }
 ],
 "metadata": {
  "kernelspec": {
   "display_name": "Python 3 (ipykernel)",
   "language": "python",
   "name": "python3"
  },
  "language_info": {
   "codemirror_mode": {
    "name": "ipython",
    "version": 3
   },
   "file_extension": ".py",
   "mimetype": "text/x-python",
   "name": "python",
   "nbconvert_exporter": "python",
   "pygments_lexer": "ipython3",
   "version": "3.9.12"
  }
 },
 "nbformat": 4,
 "nbformat_minor": 5
}
