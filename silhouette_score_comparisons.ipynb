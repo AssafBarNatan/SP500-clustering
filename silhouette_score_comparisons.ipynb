{
 "cells": [
  {
   "cell_type": "markdown",
   "id": "4a4caa64",
   "metadata": {},
   "source": [
    "This notebook shows how the silhouette score decreases as we increase the number of clusters, and as we smooth out the closing price data with a rolling average"
   ]
  },
  {
   "cell_type": "code",
   "execution_count": 1,
   "id": "d59c4f2b",
   "metadata": {},
   "outputs": [],
   "source": [
    "import yfinance as yf\n",
    "import pandas as pd\n",
    "import numpy as np\n",
    "from sklearn.cluster import KMeans\n",
    "import matplotlib.pyplot as plt\n",
    "from sklearn import metrics"
   ]
  },
  {
   "cell_type": "code",
   "execution_count": 2,
   "id": "5251a2c1",
   "metadata": {},
   "outputs": [],
   "source": [
    "def get_rolling_average(dataframe,nodays):\n",
    "    dfnew = dataframe.copy()\n",
    "    cols = dfnew.columns\n",
    "    for c in cols:\n",
    "        dfnew[c]=dfnew[c].rolling(nodays,center=True).mean()\n",
    "    dfnew = dfnew.dropna(axis='rows')\n",
    "    return dfnew"
   ]
  },
  {
   "cell_type": "code",
   "execution_count": 3,
   "id": "cd453d8f",
   "metadata": {},
   "outputs": [],
   "source": [
    "def prices_to_perc_change(prices):\n",
    "    return [100*(prices[i+1]-prices[i])/prices[i] for i in range(len(prices)-1)]\n",
    "\n",
    "def convert_to_perc(dataframe):\n",
    "    return pd.DataFrame({t:prices_to_perc_change(closing_prices[t]) for t in closing_prices.columns})"
   ]
  },
  {
   "cell_type": "markdown",
   "id": "a6e890ee",
   "metadata": {},
   "source": [
    "There may be external factors that force all prices to change more than they normally would on certain days; we can eliminate that variation by normalizing the rows wrt to the L1 norm."
   ]
  },
  {
   "cell_type": "code",
   "execution_count": 4,
   "id": "87f0626e",
   "metadata": {},
   "outputs": [],
   "source": [
    "def l1_row_normalization(dataframe):\n",
    "    dft = dataframe.T.copy()\n",
    "    maxpercchanges = {i:max((dft[i].apply(abs)).values) for i in dft.columns}\n",
    "    for i in dft.columns:\n",
    "        dft[i] = dft[i]/maxpercchanges[i]\n",
    "    return dft.T\n",
    "\n",
    "def convert_perc_normalized(dataframe):\n",
    "    return l1_row_normalization(convert_to_perc(dataframe))"
   ]
  },
  {
   "cell_type": "code",
   "execution_count": 5,
   "id": "32b22578",
   "metadata": {},
   "outputs": [],
   "source": [
    "def l2_normalization(dataframe):\n",
    "    dfn = dataframe.copy()\n",
    "    for ticker in dfn:\n",
    "        dfn[ticker] = dfn[ticker]/np.linalg.norm(dfn[ticker])\n",
    "    return dfn\n",
    "\n",
    "def normalize_transpose(dataframe):\n",
    "    return l2_normalization(dataframe).T"
   ]
  },
  {
   "cell_type": "code",
   "execution_count": 11,
   "id": "997a390e",
   "metadata": {},
   "outputs": [
    {
     "name": "stderr",
     "output_type": "stream",
     "text": [
      "C:\\Users\\safibn\\Anaconda3\\lib\\site-packages\\sklearn\\cluster\\_kmeans.py:1332: UserWarning: KMeans is known to have a memory leak on Windows with MKL, when there are less chunks than available threads. You can avoid it by setting the environment variable OMP_NUM_THREADS=2.\n",
      "  warnings.warn(\n"
     ]
    },
    {
     "name": "stdout",
     "output_type": "stream",
     "text": [
      "[0 1 2 2 1 0 1 2 0 2 0 1 2 1 2 0 0 1 2 2 0 1 2 1 0 1 2 2 0 2 2 0 2 2 2 2 2\n",
      " 2 1 2 2 1 1 2 1 1 1 1 0 2 2 2 2 2 2 1 2 0 0 0 2 0 2 0 2 2 2 1 2 2 1 2 2 1\n",
      " 0 1 1 1 2 2 1 2 2 0 2 1 1 1 1 0 1 1 2 2 1 1 0 2 2 0 0 0 1 2 1 2 1 2 2 1 1\n",
      " 2 0 2 1 2 2 1 2 1 0 0 2 2 2 1 2 1 2 0 2 1 2 0 2 2 0 1 2 2 1 2 1 2 0 2 2 1\n",
      " 2 0 0 0 0 2 2 2 2 2 2 2 1 2 1 2 2 2 2 1 2 0 2 2 0 1 2 1 2 2 0 0 2 2 0 2 2\n",
      " 2 0 2 2 2 1 1 2 1 0 2 2 0 1 1 0 2 1 1 2 2 2 2 1 2 0 2 2 1 2 2 0 2 2 1 2 2\n",
      " 2 1 2 0 2 2 2 2 2 2 2 2 0 2 1 2 1 2 0 2 2 2 2 2 0 0 1 0 1 2 0 2 2 1 1 0 2\n",
      " 2 1 2 2 2 2 2 2 2 2 2 0 0 2 2 2 1 2 2 0 2 1 2 2 2 1 1 1 2 2 2 2 1 2 0 2 1\n",
      " 0 1 1 1 1 1 2 2 2 1 2 2 1 0 0 2 2 1 1 2 0 2 2 1 2 1 2 1 2 0 2 2 0 1 1 0 1\n",
      " 1 0 2 2 2 0 0 2 1 2 2 1 1 1 1 2 1 2 1 2 1 2 1 1 1 0 1 2 2 0 1 2 0 2 2 2 2\n",
      " 2 0 2 2 2 0 2 2 2 2 2 1 2 1 2 1 2 2 2 2 0 2 2 2 0 1 0 0 2 1 2 1 2 1 2 1 0\n",
      " 2 1 0 2 1 1 2 2 2 1 0 2 0 1 2 0 2 1 1 2 1 2 2 2 1 2 1 0 2 2 2 2 1 2 2 2 1\n",
      " 2 1 1 2 2 0 1 0 0 2 2 2 2 2 1 2 2 2 2 2 1 2 1 0 2 2 2 1 2 0 1 2 2 0 2 2 1\n",
      " 1 1 2 2 2 2 2 1 2 2 2 2 2 2 0 1]\n"
     ]
    },
    {
     "name": "stderr",
     "output_type": "stream",
     "text": [
      "C:\\Users\\safibn\\Anaconda3\\lib\\site-packages\\sklearn\\cluster\\_kmeans.py:1332: UserWarning: KMeans is known to have a memory leak on Windows with MKL, when there are less chunks than available threads. You can avoid it by setting the environment variable OMP_NUM_THREADS=2.\n",
      "  warnings.warn(\n"
     ]
    },
    {
     "name": "stdout",
     "output_type": "stream",
     "text": [
      "[0 2 1 1 2 1 2 1 0 1 0 2 1 2 1 0 0 2 1 1 0 2 1 2 0 2 1 1 1 1 1 0 1 1 1 1 1\n",
      " 1 2 1 1 2 2 1 2 2 2 2 0 1 1 1 1 1 1 2 1 0 0 0 1 0 1 0 1 1 1 2 1 1 2 1 1 2\n",
      " 0 2 2 2 2 1 2 1 1 0 1 2 2 2 2 0 2 2 1 1 2 2 0 1 1 0 0 0 2 1 2 1 2 1 1 2 2\n",
      " 1 0 1 2 1 1 2 1 2 0 0 1 1 1 2 1 2 1 0 1 2 1 0 1 1 0 2 1 1 2 1 2 1 0 1 1 2\n",
      " 1 0 0 0 0 1 1 1 1 1 1 1 2 1 2 1 1 1 1 2 1 0 1 1 0 2 1 2 1 1 0 0 1 1 0 1 1\n",
      " 1 0 1 1 1 2 2 1 2 0 1 1 0 2 2 0 1 2 2 1 1 1 1 2 1 0 1 1 2 1 1 1 1 1 2 1 1\n",
      " 1 2 1 0 1 1 1 1 1 1 1 1 0 1 2 1 2 1 0 1 1 1 1 1 0 0 2 0 2 1 0 1 1 2 2 0 1\n",
      " 1 2 1 1 1 1 1 2 1 1 1 0 0 1 1 1 2 1 1 0 1 2 1 1 1 2 2 2 1 1 1 1 2 1 0 1 2\n",
      " 0 2 2 2 2 2 1 1 1 2 1 1 2 0 0 1 1 2 2 1 0 1 1 2 1 2 1 2 1 0 1 1 0 2 2 0 2\n",
      " 2 0 1 1 1 0 0 1 2 1 1 2 2 2 2 1 2 1 2 1 2 1 2 2 2 0 2 1 1 0 2 1 0 1 1 1 1\n",
      " 1 0 1 1 1 0 1 1 1 1 1 2 1 2 1 2 1 1 1 1 0 1 1 1 0 2 0 0 1 2 1 2 1 2 2 2 0\n",
      " 1 2 0 1 2 2 1 1 1 2 0 1 0 2 1 0 1 2 2 1 2 1 1 1 2 1 2 0 1 1 1 1 2 1 1 1 2\n",
      " 1 2 2 1 1 0 2 0 0 1 1 1 1 1 2 1 1 1 1 1 2 1 2 0 1 1 1 2 1 0 2 1 1 0 1 1 2\n",
      " 2 2 1 1 1 1 1 2 1 1 1 1 1 1 0 2]\n"
     ]
    },
    {
     "name": "stderr",
     "output_type": "stream",
     "text": [
      "C:\\Users\\safibn\\Anaconda3\\lib\\site-packages\\sklearn\\cluster\\_kmeans.py:1332: UserWarning: KMeans is known to have a memory leak on Windows with MKL, when there are less chunks than available threads. You can avoid it by setting the environment variable OMP_NUM_THREADS=2.\n",
      "  warnings.warn(\n"
     ]
    },
    {
     "name": "stdout",
     "output_type": "stream",
     "text": [
      "[2 1 0 0 1 0 1 0 2 0 2 1 0 1 0 2 2 1 0 0 2 1 0 1 2 1 0 0 2 0 0 2 0 0 0 0 0\n",
      " 0 1 0 0 1 1 0 1 1 1 1 2 0 0 0 0 0 0 1 0 2 2 2 0 2 0 2 0 0 0 1 0 0 1 0 0 1\n",
      " 2 1 1 1 0 0 1 0 0 2 0 1 1 1 1 2 1 1 0 0 1 1 2 0 0 2 2 2 1 0 1 0 1 0 0 1 1\n",
      " 0 2 0 1 0 0 1 0 1 2 2 0 0 0 1 0 1 0 2 0 1 0 2 0 0 2 1 0 0 1 0 1 0 2 0 0 1\n",
      " 0 2 2 2 2 0 0 0 0 0 0 0 1 0 1 0 0 0 0 1 0 2 0 0 2 1 0 1 0 0 2 2 0 0 2 0 0\n",
      " 0 2 0 0 0 1 1 0 1 2 0 0 2 1 1 2 0 1 1 0 0 0 0 1 0 2 0 0 1 0 0 0 0 0 1 0 0\n",
      " 0 1 0 2 0 0 0 0 0 0 0 0 2 0 1 0 1 0 2 0 0 0 0 0 2 2 1 2 1 0 2 0 0 1 1 2 0\n",
      " 0 1 0 0 0 0 0 0 0 0 0 2 2 0 0 0 1 0 0 2 0 1 0 0 0 1 1 1 0 0 0 0 1 0 2 0 1\n",
      " 2 1 1 1 1 1 0 0 0 1 0 0 1 2 2 0 0 1 1 0 2 0 0 1 0 1 0 1 0 2 0 0 2 1 1 2 1\n",
      " 1 2 0 0 0 2 2 0 1 0 0 1 1 1 1 0 1 0 1 0 1 0 1 1 1 2 1 0 0 2 1 0 2 0 0 0 0\n",
      " 0 2 0 0 0 2 0 0 0 0 0 1 0 1 0 1 0 0 0 0 2 0 0 0 2 1 2 2 0 1 0 1 0 1 0 1 2\n",
      " 0 1 2 0 1 1 0 0 0 1 2 0 2 1 0 2 0 1 1 0 1 0 0 0 1 0 1 2 0 0 0 0 1 0 0 0 1\n",
      " 0 1 1 0 0 2 1 2 2 0 0 0 0 0 1 0 0 0 0 0 1 0 1 2 0 0 0 1 0 2 1 0 0 2 0 0 1\n",
      " 1 1 0 0 0 0 0 1 0 0 0 0 0 0 2 1]\n",
      "[1 3 1 1 3 1 0 3 2 3 2 0 1 3 1 2 2 0 1 1 1 0 1 0 2 0 1 1 1 1 3 1 1 3 3 1 3\n",
      " 3 0 3 1 0 0 1 0 0 3 3 2 1 3 1 3 1 3 3 1 2 1 1 3 1 1 1 1 1 1 3 1 3 0 3 1 3\n",
      " 2 0 3 3 3 1 0 3 1 1 3 3 3 0 3 1 3 3 1 3 3 3 1 1 3 1 1 2 3 1 0 1 3 1 1 3 3\n",
      " 1 2 1 3 1 1 3 1 3 2 1 3 1 3 3 3 0 1 1 3 3 3 2 1 1 2 0 1 3 0 1 3 3 2 1 3 3\n",
      " 1 1 2 1 2 3 1 1 1 1 3 1 0 1 3 3 1 3 1 0 3 2 1 3 2 3 1 3 3 3 2 2 3 1 2 1 3\n",
      " 3 1 3 3 3 0 3 1 0 2 1 1 2 3 0 2 3 0 3 1 1 1 1 3 3 1 3 1 0 1 1 1 1 1 3 1 3\n",
      " 1 3 3 2 1 1 3 3 3 1 3 1 1 1 3 3 0 1 2 1 3 1 3 3 2 2 3 2 3 3 2 1 1 0 3 1 3\n",
      " 1 3 3 1 3 1 1 3 1 1 1 2 2 1 1 1 0 1 1 1 3 0 3 1 1 0 3 3 1 1 3 3 3 3 2 1 3\n",
      " 2 3 3 0 3 3 1 1 3 3 1 1 0 1 2 3 3 3 0 1 2 1 3 0 3 0 3 3 1 2 3 3 2 3 0 1 3\n",
      " 3 1 1 1 1 1 2 1 3 3 3 0 0 3 3 1 0 1 0 3 0 3 3 3 0 2 0 3 1 2 0 1 2 3 1 3 3\n",
      " 3 2 3 3 1 1 3 3 1 1 3 3 1 0 1 0 1 1 3 1 1 1 1 3 2 3 2 1 1 3 3 3 3 0 3 0 2\n",
      " 3 3 2 1 0 3 1 1 1 3 2 3 1 3 1 1 1 3 3 1 0 1 1 1 0 1 3 2 3 1 1 3 0 1 3 1 3\n",
      " 1 3 0 1 1 2 3 2 2 1 1 3 3 1 3 1 1 3 1 1 0 1 3 2 1 1 3 3 3 2 3 1 3 2 1 1 3\n",
      " 0 3 1 3 1 3 1 3 3 1 1 1 1 1 2 3]\n"
     ]
    },
    {
     "name": "stderr",
     "output_type": "stream",
     "text": [
      "C:\\Users\\safibn\\Anaconda3\\lib\\site-packages\\sklearn\\cluster\\_kmeans.py:1332: UserWarning: KMeans is known to have a memory leak on Windows with MKL, when there are less chunks than available threads. You can avoid it by setting the environment variable OMP_NUM_THREADS=2.\n",
      "  warnings.warn(\n",
      "C:\\Users\\safibn\\Anaconda3\\lib\\site-packages\\sklearn\\cluster\\_kmeans.py:1332: UserWarning: KMeans is known to have a memory leak on Windows with MKL, when there are less chunks than available threads. You can avoid it by setting the environment variable OMP_NUM_THREADS=2.\n",
      "  warnings.warn(\n"
     ]
    },
    {
     "name": "stdout",
     "output_type": "stream",
     "text": [
      "[2 0 2 2 0 2 3 0 1 0 1 3 2 0 2 1 1 3 2 2 2 3 2 3 1 3 2 2 2 2 0 2 2 0 0 2 0\n",
      " 0 3 0 2 3 3 2 3 3 0 0 1 2 0 0 0 2 0 0 2 1 2 2 0 2 2 1 2 2 2 0 2 0 3 0 2 0\n",
      " 1 3 3 0 0 2 3 0 2 1 0 0 0 3 0 1 0 0 2 0 0 0 2 2 0 2 2 1 0 2 3 2 0 2 2 0 0\n",
      " 2 1 2 0 2 2 0 2 0 1 2 0 2 0 0 0 3 2 2 0 0 0 1 2 2 1 3 2 0 3 2 0 0 1 2 0 0\n",
      " 2 2 1 2 1 0 2 2 2 2 0 2 3 2 0 0 2 0 2 3 0 1 2 0 1 0 2 0 0 0 1 1 0 2 1 2 0\n",
      " 0 2 0 0 0 3 0 2 3 1 0 2 1 0 3 1 0 3 0 2 2 2 2 0 0 2 0 2 3 2 2 2 2 2 0 2 0\n",
      " 2 0 0 1 2 2 0 0 0 2 0 2 2 2 0 0 3 2 1 2 0 2 0 0 1 1 0 1 3 0 1 2 2 3 0 2 0\n",
      " 2 0 0 2 0 2 2 0 2 2 2 1 1 2 2 2 3 2 2 2 0 3 0 2 2 3 0 0 2 2 0 0 0 0 1 2 0\n",
      " 1 0 0 3 0 0 2 2 0 0 2 2 3 2 1 0 0 0 3 2 1 2 0 3 0 3 0 0 2 1 0 0 1 0 3 2 0\n",
      " 0 1 2 2 2 2 1 2 0 0 0 3 3 0 0 2 3 2 3 0 3 0 0 0 3 1 3 0 2 1 3 2 1 0 2 0 0\n",
      " 0 1 0 0 2 2 0 0 2 2 0 0 2 3 2 3 2 2 0 2 2 2 2 0 1 0 1 1 2 0 0 0 0 3 0 3 1\n",
      " 0 0 1 2 3 0 2 0 2 0 1 0 2 0 2 2 2 0 0 2 3 2 2 2 3 2 0 1 0 2 2 0 3 2 0 2 0\n",
      " 2 0 3 2 2 1 0 1 1 2 2 0 0 2 0 2 2 0 2 0 3 2 0 1 2 2 0 0 0 1 0 2 0 1 2 2 0\n",
      " 3 0 2 0 2 0 2 0 0 2 2 2 2 2 1 0]\n"
     ]
    },
    {
     "name": "stderr",
     "output_type": "stream",
     "text": [
      "C:\\Users\\safibn\\Anaconda3\\lib\\site-packages\\sklearn\\cluster\\_kmeans.py:1332: UserWarning: KMeans is known to have a memory leak on Windows with MKL, when there are less chunks than available threads. You can avoid it by setting the environment variable OMP_NUM_THREADS=2.\n",
      "  warnings.warn(\n"
     ]
    },
    {
     "name": "stdout",
     "output_type": "stream",
     "text": [
      "[1 3 1 1 3 1 0 3 2 3 2 0 1 3 1 2 2 0 1 1 1 0 1 0 1 0 1 1 1 3 3 1 1 3 3 1 3\n",
      " 3 0 3 1 0 0 1 0 0 3 3 2 3 3 3 3 1 3 3 1 1 1 1 3 1 1 1 1 1 1 3 1 3 0 3 1 3\n",
      " 1 0 0 3 3 1 0 3 1 1 3 3 3 0 0 2 3 3 1 3 3 3 1 1 3 1 1 2 3 1 0 1 3 1 1 3 3\n",
      " 1 2 1 3 1 1 3 1 0 2 1 3 1 3 3 3 0 1 1 3 3 3 2 3 1 2 0 1 3 0 1 3 3 2 1 3 3\n",
      " 1 1 2 1 1 3 1 3 1 1 3 1 0 1 3 3 1 3 1 0 3 2 1 3 2 3 1 3 3 3 2 2 3 1 2 1 3\n",
      " 3 1 3 3 3 0 3 1 0 2 3 1 1 3 0 2 3 0 3 1 1 1 1 3 3 1 3 1 0 1 1 1 1 1 3 1 3\n",
      " 1 3 3 2 1 1 3 3 3 1 3 1 1 1 3 3 0 1 2 1 3 1 3 3 2 2 3 2 0 3 2 1 1 0 3 1 3\n",
      " 1 3 3 1 3 1 1 3 1 1 1 2 1 1 1 1 0 1 3 1 3 0 3 1 1 0 3 3 1 1 3 3 3 3 1 1 3\n",
      " 2 3 3 0 3 3 1 1 3 3 3 1 0 1 2 3 3 3 0 1 2 1 3 0 3 0 3 3 1 2 3 3 1 3 0 1 3\n",
      " 3 1 1 1 3 1 2 1 3 3 3 0 0 3 3 1 0 1 0 3 0 3 0 3 0 2 0 3 1 2 0 1 2 3 1 3 3\n",
      " 3 2 3 3 1 1 3 3 1 1 3 3 1 0 3 0 1 1 3 1 1 1 1 3 2 3 2 1 1 3 3 3 3 0 3 0 2\n",
      " 3 3 2 1 0 3 1 3 1 3 2 3 1 3 1 1 1 3 3 1 0 1 1 1 0 1 3 2 3 1 1 3 0 1 3 1 3\n",
      " 1 3 0 1 1 2 3 2 2 1 1 3 3 1 3 1 1 3 1 3 0 1 3 2 1 1 3 3 3 2 3 1 3 2 1 1 3\n",
      " 0 3 1 3 1 3 1 3 3 1 1 1 1 1 2 3]\n"
     ]
    },
    {
     "name": "stderr",
     "output_type": "stream",
     "text": [
      "C:\\Users\\safibn\\Anaconda3\\lib\\site-packages\\sklearn\\cluster\\_kmeans.py:1332: UserWarning: KMeans is known to have a memory leak on Windows with MKL, when there are less chunks than available threads. You can avoid it by setting the environment variable OMP_NUM_THREADS=2.\n",
      "  warnings.warn(\n"
     ]
    },
    {
     "name": "stdout",
     "output_type": "stream",
     "text": [
      "[0 1 4 0 1 0 2 0 3 1 3 2 0 1 4 3 3 2 4 4 0 2 4 2 3 2 4 4 4 4 0 0 4 1 1 0 1\n",
      " 4 2 1 0 2 2 4 1 2 1 1 3 4 1 4 1 0 4 1 4 0 0 0 1 0 4 3 4 4 0 1 0 4 2 4 0 1\n",
      " 0 2 1 1 1 4 2 1 0 3 4 1 1 2 1 3 1 1 4 1 1 1 0 4 1 0 0 3 1 0 2 0 1 0 4 1 1\n",
      " 4 3 4 1 4 4 1 4 1 3 3 0 4 1 1 4 2 4 0 1 1 1 3 4 0 3 2 0 4 2 0 1 4 0 4 1 1\n",
      " 4 4 3 4 3 1 4 4 4 0 1 4 2 4 1 4 4 4 0 2 1 3 0 0 3 1 4 1 4 1 3 3 1 4 3 4 1\n",
      " 1 4 0 1 0 2 1 0 2 3 4 4 0 1 2 3 4 2 1 4 4 4 4 1 1 0 4 0 2 4 0 0 0 0 1 0 1\n",
      " 0 1 4 3 4 4 1 1 1 4 0 0 0 0 1 4 2 0 3 0 1 0 4 1 3 3 1 3 1 1 3 0 4 1 1 0 1\n",
      " 0 1 1 0 1 0 4 1 4 4 0 3 3 4 0 0 1 4 4 0 0 2 4 4 0 2 1 1 4 4 1 1 1 1 0 0 1\n",
      " 3 1 1 1 1 1 0 4 4 1 4 4 2 0 3 4 1 1 2 4 3 4 0 2 4 2 4 1 4 3 1 4 0 1 2 4 1\n",
      " 1 3 4 4 0 0 3 0 1 1 1 2 2 1 1 0 1 4 2 1 2 4 1 1 2 3 2 1 0 3 2 4 3 4 4 1 4\n",
      " 1 3 4 4 4 0 1 1 4 0 4 1 4 2 4 2 4 0 1 0 4 4 0 1 0 1 3 3 0 1 4 1 1 2 1 2 3\n",
      " 1 1 3 0 2 1 0 4 4 1 3 4 0 1 4 0 4 1 1 0 2 0 0 0 2 4 1 3 4 4 4 4 2 4 1 4 1\n",
      " 4 1 2 0 0 3 1 3 3 4 4 1 4 4 1 0 4 0 4 4 2 4 1 3 0 4 1 1 1 3 1 4 4 3 4 0 1\n",
      " 2 1 0 1 4 1 0 1 4 4 4 4 4 4 3 1]\n"
     ]
    },
    {
     "name": "stderr",
     "output_type": "stream",
     "text": [
      "C:\\Users\\safibn\\Anaconda3\\lib\\site-packages\\sklearn\\cluster\\_kmeans.py:1332: UserWarning: KMeans is known to have a memory leak on Windows with MKL, when there are less chunks than available threads. You can avoid it by setting the environment variable OMP_NUM_THREADS=2.\n",
      "  warnings.warn(\n"
     ]
    },
    {
     "name": "stdout",
     "output_type": "stream",
     "text": [
      "[0 1 4 0 1 0 2 0 3 1 3 2 0 1 4 3 3 2 4 4 0 2 4 2 3 2 4 4 4 4 0 0 4 1 1 0 1\n",
      " 4 2 1 0 2 2 4 1 2 1 1 3 4 1 4 1 0 4 1 4 0 0 0 1 0 4 3 4 4 0 1 0 4 2 4 0 1\n",
      " 0 2 1 1 1 4 2 1 0 3 4 1 1 2 1 3 1 1 4 1 1 1 0 4 1 0 0 3 1 0 2 0 1 0 4 1 1\n",
      " 4 3 4 1 4 4 1 4 1 3 3 0 4 1 1 4 2 4 0 1 1 1 3 4 0 3 2 0 4 2 0 1 4 0 4 1 1\n",
      " 4 4 3 4 3 1 4 4 4 0 1 4 2 4 1 4 4 4 0 2 1 3 0 0 3 1 4 1 4 1 3 3 1 4 3 4 1\n",
      " 1 4 0 1 0 2 1 0 2 3 4 4 0 1 2 3 4 2 1 4 4 4 4 1 1 0 4 0 2 4 0 0 0 0 1 0 1\n",
      " 0 1 4 3 4 4 1 1 1 4 0 0 0 4 1 4 2 0 3 0 1 0 4 1 3 3 1 3 1 1 3 0 4 1 1 0 1\n",
      " 0 1 1 0 1 0 4 1 4 4 0 3 3 4 0 0 1 4 4 0 0 2 4 4 0 2 1 1 4 4 1 1 1 1 0 0 1\n",
      " 3 1 1 2 1 1 0 4 4 1 4 4 2 0 3 4 1 1 2 4 3 4 0 2 4 2 4 1 4 3 1 1 0 1 2 4 1\n",
      " 1 3 4 4 0 0 3 0 1 1 1 2 2 1 1 0 1 4 2 1 2 4 1 1 2 3 2 1 0 3 2 4 3 4 4 1 4\n",
      " 1 3 1 4 4 0 1 1 4 0 4 1 4 2 4 2 4 0 1 0 4 4 0 1 0 1 3 3 0 1 4 1 1 2 1 2 3\n",
      " 1 1 3 4 2 1 0 4 4 1 3 4 0 1 4 0 4 1 1 0 2 0 0 0 2 4 1 3 4 4 4 4 2 4 1 4 1\n",
      " 4 1 2 0 0 3 1 3 3 4 4 1 4 4 1 0 4 0 4 4 2 4 1 3 0 4 1 1 1 3 1 4 4 3 4 0 1\n",
      " 2 1 0 1 4 1 4 1 4 4 4 4 4 4 3 1]\n"
     ]
    },
    {
     "name": "stderr",
     "output_type": "stream",
     "text": [
      "C:\\Users\\safibn\\Anaconda3\\lib\\site-packages\\sklearn\\cluster\\_kmeans.py:1332: UserWarning: KMeans is known to have a memory leak on Windows with MKL, when there are less chunks than available threads. You can avoid it by setting the environment variable OMP_NUM_THREADS=2.\n",
      "  warnings.warn(\n"
     ]
    },
    {
     "name": "stdout",
     "output_type": "stream",
     "text": [
      "[3 1 1 3 4 3 2 4 0 4 0 2 3 4 3 0 0 2 1 3 3 2 1 2 3 2 3 1 3 1 4 3 3 4 4 3 4\n",
      " 1 1 1 3 2 2 3 4 2 4 4 3 1 4 1 1 3 1 4 1 3 3 3 4 3 3 3 3 3 3 4 3 1 2 1 3 1\n",
      " 3 2 4 4 4 1 2 4 3 3 1 4 4 2 4 0 4 4 1 4 4 4 3 3 4 3 3 0 4 3 2 3 1 3 3 4 4\n",
      " 3 0 1 4 3 1 4 1 4 0 3 4 1 4 4 1 2 3 3 4 4 4 0 1 3 0 2 3 1 2 3 4 1 3 1 4 4\n",
      " 1 3 0 3 3 4 1 1 3 3 4 3 2 1 4 1 1 1 3 2 4 0 3 4 0 4 1 4 1 4 0 0 4 3 3 1 4\n",
      " 4 3 4 4 4 2 4 3 2 0 1 3 3 1 2 0 1 1 4 1 1 3 3 4 4 3 1 3 2 3 3 3 3 3 4 3 4\n",
      " 3 4 1 0 3 1 4 4 4 1 4 3 3 3 4 1 2 3 0 3 4 3 1 1 0 0 4 0 4 4 0 3 1 4 4 3 1\n",
      " 3 4 4 3 4 3 3 4 3 3 3 0 3 1 3 3 4 3 1 3 4 2 1 1 3 2 4 4 1 3 4 4 4 4 3 3 4\n",
      " 0 4 4 2 4 4 3 1 1 4 1 1 2 3 0 1 1 4 2 3 0 3 4 2 1 2 1 4 3 0 1 4 3 4 2 3 4\n",
      " 4 3 3 1 4 3 0 3 4 4 4 2 2 4 4 3 4 1 2 4 2 1 4 4 2 0 2 4 3 0 2 1 0 1 3 4 1\n",
      " 4 0 1 1 3 3 1 4 1 3 1 4 1 2 1 2 3 3 1 3 3 3 3 4 3 4 0 3 3 1 1 4 4 2 4 2 0\n",
      " 4 4 0 3 2 4 3 1 3 4 0 1 3 4 1 3 3 4 1 3 2 3 3 3 2 1 4 0 1 3 1 1 2 1 4 3 4\n",
      " 1 4 2 3 3 0 4 3 0 1 3 4 1 1 4 3 1 4 1 1 2 3 4 0 3 3 4 4 4 0 4 1 1 3 3 3 4\n",
      " 2 4 3 4 3 4 3 4 1 3 3 1 1 1 0 4]\n"
     ]
    },
    {
     "name": "stderr",
     "output_type": "stream",
     "text": [
      "C:\\Users\\safibn\\Anaconda3\\lib\\site-packages\\sklearn\\cluster\\_kmeans.py:1332: UserWarning: KMeans is known to have a memory leak on Windows with MKL, when there are less chunks than available threads. You can avoid it by setting the environment variable OMP_NUM_THREADS=2.\n",
      "  warnings.warn(\n"
     ]
    },
    {
     "name": "stdout",
     "output_type": "stream",
     "text": [
      "[0 1 4 2 1 2 3 2 5 1 5 3 2 1 0 5 5 3 4 4 2 3 4 3 0 3 0 4 0 4 2 0 0 2 1 2 1\n",
      " 4 4 4 2 3 3 4 1 3 1 1 0 4 2 4 4 2 4 1 4 0 0 0 1 2 4 0 0 0 2 1 2 4 3 4 2 1\n",
      " 0 3 1 1 1 4 3 4 0 0 4 1 1 3 1 0 1 1 4 2 1 1 2 4 2 2 0 5 1 2 3 2 1 2 2 1 1\n",
      " 0 5 4 1 0 4 1 4 1 5 0 2 4 1 1 4 3 0 0 1 1 1 5 4 2 5 3 2 4 3 2 1 4 5 0 2 1\n",
      " 0 0 5 0 0 2 4 4 0 0 1 4 3 4 1 4 4 4 2 3 2 5 0 2 5 1 4 1 4 4 5 5 1 0 0 4 4\n",
      " 1 0 2 1 2 3 1 2 3 5 4 0 0 4 3 5 4 4 1 4 4 4 4 1 2 2 4 2 3 0 0 0 2 2 1 2 2\n",
      " 2 1 4 5 0 4 2 1 1 4 2 0 0 2 1 4 3 2 5 2 2 2 4 4 0 5 1 0 1 1 5 2 4 1 1 0 4\n",
      " 2 1 2 2 1 2 0 1 0 0 0 5 0 4 0 2 1 0 4 0 2 3 4 4 2 3 1 1 4 0 1 4 1 1 2 2 1\n",
      " 0 1 1 1 1 1 2 4 4 1 4 4 3 2 0 4 4 1 3 0 5 0 2 1 4 3 4 1 0 5 4 2 0 1 3 0 1\n",
      " 1 0 0 4 2 0 0 2 1 1 4 3 3 1 1 2 1 4 3 2 3 4 1 1 3 5 3 2 0 0 3 4 5 4 4 1 4\n",
      " 2 5 4 4 0 2 4 2 4 2 4 1 4 3 4 3 4 0 4 2 0 0 2 1 5 1 0 0 2 4 4 1 2 3 1 3 5\n",
      " 2 1 5 0 3 1 2 4 0 1 5 4 0 1 4 0 4 1 4 2 3 0 2 2 3 0 1 0 4 4 0 4 3 4 2 0 1\n",
      " 4 1 3 0 2 5 1 0 5 4 0 2 4 0 1 2 4 2 4 4 3 0 1 5 2 0 1 1 1 5 1 4 4 0 0 2 1\n",
      " 3 1 2 4 4 1 0 1 4 0 0 4 0 4 5 1]\n"
     ]
    },
    {
     "name": "stderr",
     "output_type": "stream",
     "text": [
      "C:\\Users\\safibn\\Anaconda3\\lib\\site-packages\\sklearn\\cluster\\_kmeans.py:1332: UserWarning: KMeans is known to have a memory leak on Windows with MKL, when there are less chunks than available threads. You can avoid it by setting the environment variable OMP_NUM_THREADS=2.\n",
      "  warnings.warn(\n"
     ]
    },
    {
     "name": "stdout",
     "output_type": "stream",
     "text": [
      "[5 0 2 5 4 5 3 5 1 4 1 3 5 4 2 1 1 3 0 2 5 3 0 3 2 3 2 0 2 0 5 2 2 5 0 5 4\n",
      " 0 0 0 5 3 3 5 4 3 4 4 2 0 5 0 0 5 0 4 2 5 2 2 4 5 5 2 2 2 5 4 5 0 3 0 5 0\n",
      " 2 3 4 4 4 2 3 5 2 2 0 4 0 3 4 2 4 4 5 4 4 4 5 2 5 5 5 1 4 5 3 5 0 5 5 4 4\n",
      " 2 1 0 4 2 2 4 0 4 1 2 5 2 4 4 0 3 2 2 0 4 4 1 0 5 1 3 5 0 3 5 0 0 1 2 4 4\n",
      " 2 2 1 2 2 4 0 0 2 2 4 5 3 0 0 0 0 0 5 3 4 1 2 5 1 4 0 0 0 0 1 1 4 2 2 0 0\n",
      " 0 2 5 4 5 3 4 5 3 1 0 2 5 0 3 1 0 0 4 0 0 5 5 0 5 5 0 5 3 2 2 2 5 5 4 5 4\n",
      " 5 4 0 1 2 2 4 4 4 2 5 5 2 5 0 0 3 5 1 5 4 5 0 0 2 1 4 2 4 4 1 5 2 4 0 2 0\n",
      " 5 4 4 5 4 5 2 4 2 2 5 1 2 0 5 5 4 2 0 2 5 3 0 0 5 3 4 4 2 2 4 0 4 4 5 5 4\n",
      " 2 4 4 3 0 4 5 0 0 4 0 0 3 5 2 0 0 4 3 2 1 2 5 3 0 0 0 0 5 1 0 5 2 4 3 2 4\n",
      " 4 2 2 0 5 5 1 5 0 4 0 3 3 4 0 5 4 0 3 5 3 0 4 4 3 1 3 5 5 2 3 0 1 0 5 4 0\n",
      " 4 1 0 0 2 5 0 5 0 5 0 4 2 3 0 3 5 2 0 5 2 2 5 4 1 4 2 2 5 0 0 4 5 3 0 3 1\n",
      " 4 4 1 2 3 4 5 0 2 0 1 0 2 0 2 2 5 4 0 5 3 2 5 5 3 2 4 2 0 5 2 0 3 2 4 2 4\n",
      " 2 4 3 2 5 1 0 2 1 0 2 4 0 2 4 5 0 5 0 0 3 2 4 1 5 2 0 4 4 1 4 2 0 1 2 5 4\n",
      " 3 4 5 0 5 4 2 0 0 2 2 0 2 0 1 0]\n"
     ]
    },
    {
     "name": "stderr",
     "output_type": "stream",
     "text": [
      "C:\\Users\\safibn\\Anaconda3\\lib\\site-packages\\sklearn\\cluster\\_kmeans.py:1332: UserWarning: KMeans is known to have a memory leak on Windows with MKL, when there are less chunks than available threads. You can avoid it by setting the environment variable OMP_NUM_THREADS=2.\n",
      "  warnings.warn(\n"
     ]
    },
    {
     "name": "stdout",
     "output_type": "stream",
     "text": [
      "[5 0 2 5 4 5 3 5 1 4 1 3 5 4 2 1 1 3 0 2 5 3 0 3 2 3 2 0 2 0 5 2 2 4 0 5 4\n",
      " 0 0 0 5 3 3 2 4 3 4 4 2 0 0 0 0 5 0 4 2 5 2 5 4 5 2 2 2 2 5 4 5 0 3 0 5 0\n",
      " 2 3 4 4 4 2 3 0 2 2 0 4 0 3 4 2 4 4 0 4 4 4 5 2 4 5 5 1 4 5 3 5 0 5 2 4 4\n",
      " 2 1 0 4 2 2 4 2 4 1 2 5 2 4 4 0 3 2 2 0 4 4 1 0 5 1 3 5 0 3 5 0 0 5 2 4 4\n",
      " 2 2 1 2 2 4 0 0 2 2 4 2 3 0 0 0 0 0 5 3 4 1 2 5 1 4 0 0 0 0 1 1 4 2 2 2 0\n",
      " 0 2 5 4 5 3 0 5 3 1 0 2 5 0 3 1 0 0 4 0 0 2 2 0 4 5 0 5 3 2 2 2 2 5 4 5 4\n",
      " 5 4 0 1 2 2 4 4 4 2 5 5 5 5 0 0 3 5 1 5 4 5 0 0 2 1 4 1 4 4 1 5 2 4 0 2 0\n",
      " 5 4 4 5 4 5 2 4 2 2 5 1 2 2 5 5 4 2 0 2 5 3 0 0 5 3 4 4 2 2 4 0 4 4 5 5 4\n",
      " 2 4 4 3 0 4 5 0 0 4 0 0 3 5 2 0 0 4 3 2 1 2 5 3 0 0 0 0 2 1 0 4 5 4 3 2 4\n",
      " 4 2 2 0 5 5 1 5 0 4 0 3 3 4 0 5 4 0 3 5 3 0 4 4 3 1 3 4 2 1 3 0 1 0 2 4 0\n",
      " 4 1 0 0 2 5 0 4 0 5 0 4 2 3 0 3 2 2 0 5 2 2 5 4 5 4 2 2 5 0 0 4 4 3 0 3 1\n",
      " 4 4 1 2 3 4 5 0 2 0 1 0 5 0 2 2 2 4 0 5 3 2 5 5 3 2 4 1 0 2 2 0 3 2 4 2 4\n",
      " 2 4 3 2 5 1 0 5 1 0 2 4 0 2 4 5 0 5 2 0 3 2 4 1 5 2 0 4 4 1 4 2 0 1 2 5 4\n",
      " 3 4 5 0 5 4 2 0 0 2 2 0 2 0 1 0]\n"
     ]
    },
    {
     "name": "stderr",
     "output_type": "stream",
     "text": [
      "C:\\Users\\safibn\\Anaconda3\\lib\\site-packages\\sklearn\\cluster\\_kmeans.py:1332: UserWarning: KMeans is known to have a memory leak on Windows with MKL, when there are less chunks than available threads. You can avoid it by setting the environment variable OMP_NUM_THREADS=2.\n",
      "  warnings.warn(\n"
     ]
    },
    {
     "name": "stdout",
     "output_type": "stream",
     "text": [
      "[5 6 2 4 3 4 0 4 1 3 5 0 4 3 2 5 5 0 6 2 4 0 6 0 2 0 2 6 2 6 4 2 2 4 6 4 3\n",
      " 6 6 6 4 0 0 2 3 0 3 3 2 6 4 6 6 4 6 3 2 5 2 2 3 4 2 2 2 2 4 3 4 6 0 6 4 6\n",
      " 2 0 3 3 3 2 0 4 2 2 6 3 6 0 3 2 3 3 4 3 3 3 4 2 4 5 4 5 3 4 0 4 6 4 4 3 3\n",
      " 2 5 6 3 2 2 3 6 3 5 2 4 2 3 3 6 0 2 2 6 3 3 1 6 4 5 0 4 6 0 4 6 6 5 2 3 3\n",
      " 2 2 1 2 2 4 6 6 2 2 3 2 0 6 6 6 6 6 4 0 4 1 2 4 5 3 6 6 6 6 1 1 3 2 2 6 6\n",
      " 6 2 4 3 4 0 3 4 0 5 6 2 5 6 0 1 6 6 3 6 6 2 4 3 4 5 6 4 0 2 2 2 2 4 3 4 4\n",
      " 4 3 6 5 2 2 3 3 3 2 4 2 2 4 3 6 0 4 5 4 4 4 6 6 1 5 3 1 3 3 1 4 6 3 6 2 6\n",
      " 4 3 4 4 3 4 2 3 2 2 2 5 2 6 2 4 3 2 6 2 4 0 6 6 4 0 3 3 2 2 3 6 3 3 5 4 3\n",
      " 1 3 3 3 6 3 4 6 6 3 6 6 0 5 2 6 6 3 0 2 1 2 4 0 6 6 6 6 2 5 6 4 5 3 0 2 3\n",
      " 3 2 2 6 4 2 5 4 6 3 6 0 0 3 6 4 3 6 0 4 0 6 3 3 0 1 0 4 2 2 0 6 5 6 4 3 6\n",
      " 4 5 6 6 2 5 6 4 6 4 6 3 2 0 6 0 2 2 6 4 2 2 4 3 5 3 1 2 4 6 6 3 4 0 6 0 5\n",
      " 3 3 1 2 0 3 4 6 2 6 1 6 2 6 2 2 4 3 6 4 0 2 4 4 0 2 3 1 6 2 2 6 0 2 4 2 3\n",
      " 2 3 0 2 4 5 6 5 5 6 2 4 6 2 3 4 6 4 2 6 0 2 3 5 4 2 3 3 3 1 3 2 6 5 2 4 3\n",
      " 0 3 4 6 4 3 2 6 6 2 2 6 2 6 5 6]\n"
     ]
    },
    {
     "name": "stderr",
     "output_type": "stream",
     "text": [
      "C:\\Users\\safibn\\Anaconda3\\lib\\site-packages\\sklearn\\cluster\\_kmeans.py:1332: UserWarning: KMeans is known to have a memory leak on Windows with MKL, when there are less chunks than available threads. You can avoid it by setting the environment variable OMP_NUM_THREADS=2.\n",
      "  warnings.warn(\n"
     ]
    },
    {
     "name": "stdout",
     "output_type": "stream",
     "text": [
      "[5 4 3 3 2 5 0 2 6 2 1 0 3 2 3 6 6 0 3 3 5 0 3 0 1 0 3 4 3 4 5 1 3 2 2 5 2\n",
      " 4 4 4 5 0 0 3 0 0 2 2 1 3 2 3 4 3 4 2 3 5 5 5 2 5 3 1 3 3 3 2 3 4 0 4 5 4\n",
      " 1 0 2 2 2 3 0 2 3 1 4 2 2 0 2 1 2 2 3 2 2 2 5 3 2 5 5 6 2 5 0 5 4 5 3 2 2\n",
      " 3 6 4 2 3 3 2 3 2 6 1 2 3 2 2 4 0 3 1 2 2 2 1 3 3 5 0 3 4 0 3 4 4 5 4 2 2\n",
      " 3 1 6 1 1 2 3 3 3 3 2 3 0 3 4 4 4 3 3 0 2 6 3 5 6 2 4 4 4 2 1 6 2 3 1 3 2\n",
      " 2 1 3 2 2 0 2 5 0 6 4 3 5 4 0 1 4 4 2 3 3 3 3 2 2 5 4 5 0 1 3 3 3 3 2 5 2\n",
      " 3 2 4 5 3 4 2 2 2 3 3 3 5 3 2 4 0 3 6 3 2 3 4 4 1 1 2 1 2 2 1 3 4 2 4 5 4\n",
      " 3 2 2 5 2 3 3 2 3 3 5 6 1 3 5 3 2 3 3 5 3 0 4 4 5 0 2 2 3 3 2 2 2 2 5 5 2\n",
      " 1 2 2 0 2 2 5 4 4 2 4 3 0 5 1 4 4 2 0 3 6 3 2 0 4 4 4 2 3 1 4 3 5 2 0 1 2\n",
      " 2 1 1 3 3 5 1 5 2 2 2 0 0 2 2 5 2 4 0 2 0 4 2 2 0 1 0 2 3 1 0 3 1 4 3 2 4\n",
      " 2 5 4 4 3 5 2 3 4 5 3 2 3 0 3 0 3 3 4 5 1 3 3 2 5 2 1 1 3 4 4 2 2 0 2 0 1\n",
      " 2 2 1 3 0 2 3 4 3 4 1 4 5 2 3 5 3 2 4 5 0 3 3 3 0 1 2 1 4 3 3 4 0 3 2 3 2\n",
      " 3 2 0 3 5 6 4 5 5 3 1 2 4 3 2 3 3 2 3 4 0 3 2 6 5 3 2 2 2 1 2 4 3 5 3 5 2\n",
      " 0 2 5 2 3 2 3 4 4 3 3 4 3 4 6 4]\n"
     ]
    },
    {
     "name": "stderr",
     "output_type": "stream",
     "text": [
      "C:\\Users\\safibn\\Anaconda3\\lib\\site-packages\\sklearn\\cluster\\_kmeans.py:1332: UserWarning: KMeans is known to have a memory leak on Windows with MKL, when there are less chunks than available threads. You can avoid it by setting the environment variable OMP_NUM_THREADS=2.\n",
      "  warnings.warn(\n"
     ]
    },
    {
     "name": "stdout",
     "output_type": "stream",
     "text": [
      "[2 0 2 1 6 1 3 1 4 6 5 3 1 6 2 5 5 3 0 2 1 3 0 3 2 3 2 0 2 0 1 2 2 1 6 1 6\n",
      " 0 0 0 1 3 3 2 6 3 6 6 2 0 1 0 0 1 0 6 2 5 2 2 6 1 2 2 2 2 1 6 1 0 3 0 1 0\n",
      " 2 3 6 6 6 2 3 1 2 2 0 6 6 3 6 2 6 6 1 1 6 6 1 2 1 1 1 5 6 1 3 1 0 1 1 6 6\n",
      " 2 5 0 6 2 2 6 0 6 5 2 1 2 6 6 0 3 2 2 6 6 6 4 0 1 5 3 1 0 3 1 0 0 5 2 6 6\n",
      " 2 2 4 2 2 1 0 0 2 2 6 2 3 0 0 0 0 0 1 3 1 4 2 1 5 6 0 0 0 0 4 4 6 2 2 0 0\n",
      " 0 2 1 6 1 3 6 1 3 5 0 2 5 0 3 4 0 0 6 0 0 2 1 6 1 1 0 1 3 2 2 2 2 1 6 1 1\n",
      " 1 6 0 5 2 2 6 6 6 2 1 2 2 1 6 0 3 1 5 1 1 1 0 0 4 5 6 4 6 6 4 1 0 6 0 2 0\n",
      " 1 6 1 1 6 1 2 6 2 2 2 5 2 0 2 1 6 2 0 2 1 3 0 0 1 3 6 6 2 2 6 0 6 6 5 1 6\n",
      " 4 6 6 6 6 6 1 0 0 6 0 0 3 5 2 0 0 6 3 2 4 2 1 3 0 0 0 6 2 5 0 1 2 6 3 2 6\n",
      " 6 2 2 0 1 2 5 1 6 6 0 3 3 6 6 1 6 0 3 1 3 0 6 6 3 4 3 1 2 2 3 0 5 0 1 6 0\n",
      " 1 5 0 0 2 5 0 1 0 1 0 6 2 3 0 3 2 2 0 1 2 2 1 6 5 6 4 2 1 0 0 6 1 3 6 3 5\n",
      " 6 6 4 2 3 6 1 0 2 0 4 0 2 6 2 2 1 6 0 1 3 2 1 1 3 2 6 4 0 2 2 0 3 2 1 2 6\n",
      " 2 6 3 2 1 5 6 2 5 0 2 1 0 2 6 1 0 1 2 0 3 2 6 5 1 2 6 6 6 4 6 0 0 5 2 1 6\n",
      " 3 6 1 1 1 6 2 0 0 2 2 0 2 0 5 6]\n"
     ]
    },
    {
     "name": "stderr",
     "output_type": "stream",
     "text": [
      "C:\\Users\\safibn\\Anaconda3\\lib\\site-packages\\sklearn\\cluster\\_kmeans.py:1332: UserWarning: KMeans is known to have a memory leak on Windows with MKL, when there are less chunks than available threads. You can avoid it by setting the environment variable OMP_NUM_THREADS=2.\n",
      "  warnings.warn(\n"
     ]
    },
    {
     "name": "stdout",
     "output_type": "stream",
     "text": [
      "[1 6 7 1 0 1 3 0 4 0 4 5 7 0 7 2 2 5 7 7 1 5 7 5 4 5 7 7 7 6 1 4 7 0 6 1 0\n",
      " 6 6 6 1 5 5 7 5 5 0 0 4 7 0 7 6 1 6 0 7 1 7 1 0 1 7 4 7 7 7 0 7 6 5 6 1 6\n",
      " 4 3 5 5 0 7 5 0 7 4 6 0 6 3 5 4 0 0 7 0 0 0 1 7 0 1 1 2 0 1 5 1 6 1 7 0 0\n",
      " 7 2 7 0 7 7 0 7 5 2 4 0 7 0 0 6 5 7 4 0 0 0 4 7 7 2 5 1 6 5 1 6 6 1 7 0 0\n",
      " 7 7 4 4 4 0 7 7 7 7 0 7 5 7 6 6 6 6 1 5 0 2 7 1 2 0 7 6 6 6 4 2 0 7 4 7 6\n",
      " 6 4 0 0 0 5 6 1 5 2 6 7 1 6 5 4 6 6 0 7 7 7 7 6 0 1 6 1 5 7 7 7 7 1 0 1 0\n",
      " 1 0 6 4 7 7 0 0 0 7 0 7 1 7 5 6 5 1 2 1 0 1 6 6 4 4 5 4 5 0 4 1 7 5 6 7 6\n",
      " 7 0 0 1 0 1 7 0 7 7 1 2 4 7 1 1 5 7 7 1 0 5 6 6 1 5 6 6 7 7 0 6 0 0 1 1 0\n",
      " 4 5 0 5 6 0 1 7 6 0 6 7 3 1 4 6 6 5 5 7 2 7 0 5 6 6 6 6 7 4 6 0 1 0 5 7 0\n",
      " 0 4 7 7 7 1 4 1 6 0 0 3 5 5 6 1 5 7 5 0 5 6 5 0 5 4 5 0 7 4 5 7 4 6 7 0 6\n",
      " 0 2 6 6 7 1 6 0 7 1 6 0 7 3 7 5 7 7 6 1 7 7 1 0 1 6 4 4 7 6 6 0 0 3 6 5 4\n",
      " 0 0 4 7 5 0 7 6 7 6 4 6 1 6 7 7 7 5 6 1 5 1 7 7 5 7 0 4 6 7 7 6 3 7 0 7 0\n",
      " 7 0 5 7 1 2 5 4 2 7 7 0 6 7 0 1 7 0 7 6 5 7 0 2 1 7 6 5 0 4 0 7 6 4 7 1 5\n",
      " 5 0 1 0 7 0 7 6 6 7 7 7 7 7 2 6]\n"
     ]
    },
    {
     "name": "stderr",
     "output_type": "stream",
     "text": [
      "C:\\Users\\safibn\\Anaconda3\\lib\\site-packages\\sklearn\\cluster\\_kmeans.py:1332: UserWarning: KMeans is known to have a memory leak on Windows with MKL, when there are less chunks than available threads. You can avoid it by setting the environment variable OMP_NUM_THREADS=2.\n",
      "  warnings.warn(\n"
     ]
    },
    {
     "name": "stdout",
     "output_type": "stream",
     "text": [
      "[4 2 1 3 0 3 6 3 7 0 4 6 3 0 1 4 4 6 2 1 3 6 2 6 1 6 1 2 1 2 3 1 1 3 2 3 0\n",
      " 2 2 2 3 6 6 1 0 6 0 0 1 2 3 2 2 3 2 0 1 4 1 1 0 3 1 1 1 1 3 0 3 2 6 2 3 2\n",
      " 1 6 0 0 0 1 6 3 1 1 2 0 2 6 0 1 0 0 3 3 0 0 3 1 3 4 4 4 0 3 6 3 2 3 3 0 0\n",
      " 1 4 2 0 1 1 0 1 0 4 1 3 1 0 0 2 6 1 1 2 0 0 7 2 3 4 6 3 2 6 3 2 2 4 1 0 0\n",
      " 1 1 7 1 1 3 2 2 1 1 0 1 6 2 2 2 2 2 3 6 3 7 1 3 4 0 2 2 2 2 7 7 0 1 1 1 2\n",
      " 2 1 3 0 3 6 0 3 6 4 2 1 4 2 6 7 2 2 0 2 2 1 3 2 3 4 2 3 6 1 1 1 1 3 0 3 3\n",
      " 3 0 2 4 1 1 0 0 0 1 3 1 1 3 0 2 6 3 4 3 3 3 2 2 7 4 0 7 0 0 7 3 1 0 2 1 2\n",
      " 3 0 3 3 0 3 1 0 1 1 1 4 1 1 1 3 0 1 2 1 3 6 2 2 3 6 0 0 1 1 0 2 0 0 4 3 0\n",
      " 7 0 0 6 2 0 3 2 2 0 2 2 5 4 1 2 2 0 6 1 7 1 3 6 2 2 2 2 1 4 2 3 4 0 6 1 0\n",
      " 0 1 1 2 3 1 4 3 2 0 2 5 6 0 2 3 0 2 6 3 6 2 0 0 6 7 6 3 1 1 6 2 4 2 3 0 2\n",
      " 3 4 2 2 1 4 2 3 2 3 2 0 1 6 2 6 1 1 2 3 1 1 3 0 4 0 7 1 3 2 2 0 3 6 2 6 4\n",
      " 0 0 7 1 6 0 3 2 1 2 7 2 1 2 1 1 3 0 2 3 6 1 3 3 6 1 0 7 2 1 1 2 6 1 3 1 0\n",
      " 1 0 6 1 3 4 2 4 4 2 1 3 2 1 0 3 2 3 1 2 6 1 0 4 3 1 2 0 0 7 0 1 2 4 1 3 0\n",
      " 6 0 3 3 3 0 1 2 2 1 1 2 1 2 4 2]\n"
     ]
    },
    {
     "name": "stderr",
     "output_type": "stream",
     "text": [
      "C:\\Users\\safibn\\Anaconda3\\lib\\site-packages\\sklearn\\cluster\\_kmeans.py:1332: UserWarning: KMeans is known to have a memory leak on Windows with MKL, when there are less chunks than available threads. You can avoid it by setting the environment variable OMP_NUM_THREADS=2.\n",
      "  warnings.warn(\n"
     ]
    },
    {
     "name": "stdout",
     "output_type": "stream",
     "text": [
      "[7 2 1 3 5 3 4 3 6 5 7 0 3 5 1 7 7 0 2 1 3 0 2 0 1 4 1 2 1 2 3 1 1 3 2 3 5\n",
      " 2 2 2 3 0 0 1 0 0 5 5 1 2 3 2 2 3 2 5 1 7 1 1 5 3 1 1 1 1 3 5 3 2 0 2 3 2\n",
      " 1 4 0 0 5 1 0 3 1 1 2 0 0 4 0 1 5 5 3 5 5 5 3 1 3 7 3 7 5 3 0 3 2 3 3 5 5\n",
      " 1 7 2 5 1 1 5 2 0 7 1 3 1 5 5 2 0 1 1 2 5 5 6 2 3 7 0 3 2 0 3 2 2 7 1 5 5\n",
      " 1 1 6 1 1 5 2 2 1 1 5 1 0 2 0 2 2 2 3 0 5 6 1 3 7 5 2 2 2 2 6 6 5 1 1 2 2\n",
      " 2 1 3 5 3 0 2 3 0 7 2 1 7 2 0 6 2 2 5 2 2 1 3 2 3 7 2 3 4 1 1 1 3 3 5 3 5\n",
      " 3 5 2 7 1 1 5 5 5 1 3 1 1 3 0 2 0 3 7 3 5 3 2 2 6 7 0 6 0 5 6 3 1 0 0 1 2\n",
      " 3 5 5 3 5 3 1 5 1 1 1 7 1 2 3 3 0 1 2 1 3 0 2 2 3 0 2 0 1 1 5 2 5 5 7 3 5\n",
      " 6 0 5 0 2 5 3 2 2 5 2 2 4 7 1 2 2 0 0 1 6 1 3 0 2 0 2 2 1 7 2 3 7 5 0 1 5\n",
      " 5 1 1 2 3 1 7 3 2 5 2 4 0 0 2 3 0 2 0 3 0 2 0 5 4 6 0 3 1 1 0 2 7 2 3 5 2\n",
      " 5 7 2 2 1 7 2 3 2 3 2 5 1 4 2 0 1 1 2 3 1 1 3 5 7 2 6 1 3 2 2 5 3 4 2 0 7\n",
      " 5 5 6 1 0 5 3 2 1 2 6 2 1 2 1 1 3 0 2 3 0 1 3 3 0 1 5 6 2 3 1 2 4 1 5 1 5\n",
      " 1 5 0 1 3 7 0 7 7 2 1 5 2 1 5 3 2 3 1 2 0 1 5 7 3 1 2 0 5 6 5 1 2 7 1 3 0\n",
      " 0 5 3 2 3 5 1 0 2 1 1 2 1 2 7 2]\n"
     ]
    },
    {
     "name": "stderr",
     "output_type": "stream",
     "text": [
      "C:\\Users\\safibn\\Anaconda3\\lib\\site-packages\\sklearn\\cluster\\_kmeans.py:1332: UserWarning: KMeans is known to have a memory leak on Windows with MKL, when there are less chunks than available threads. You can avoid it by setting the environment variable OMP_NUM_THREADS=2.\n",
      "  warnings.warn(\n"
     ]
    },
    {
     "name": "stdout",
     "output_type": "stream",
     "text": [
      "[3 8 0 3 1 3 7 3 4 1 5 7 3 1 0 2 2 7 0 0 3 7 0 7 5 7 0 0 5 0 3 5 0 1 8 3 1\n",
      " 8 8 8 3 7 7 0 7 7 1 1 5 0 1 0 8 3 8 1 0 3 5 5 1 3 0 5 0 0 0 1 0 8 7 8 3 8\n",
      " 5 7 1 1 1 0 7 8 0 5 8 1 8 7 1 5 1 1 0 1 1 1 3 0 1 3 3 2 1 3 7 3 8 3 0 1 1\n",
      " 0 2 0 1 0 0 1 0 7 2 5 3 0 1 1 8 7 0 5 1 1 1 5 0 0 2 7 3 8 7 3 8 8 3 0 1 1\n",
      " 0 5 4 5 5 1 0 0 0 0 1 0 7 0 8 8 0 0 3 7 1 4 5 3 2 1 0 8 8 8 4 4 1 0 5 0 8\n",
      " 8 5 1 1 3 7 8 3 7 2 8 0 3 8 7 4 8 8 1 0 0 0 0 8 1 3 8 3 7 5 0 5 3 3 1 3 1\n",
      " 3 1 8 5 0 0 1 1 1 0 3 0 5 0 8 8 7 3 2 3 1 3 8 8 5 5 1 4 7 1 4 3 0 7 8 5 8\n",
      " 3 1 1 3 1 3 0 1 0 5 3 2 5 0 3 3 7 5 0 5 3 7 8 8 3 7 8 8 0 0 1 8 1 1 2 3 1\n",
      " 5 1 1 7 8 1 3 0 8 1 0 0 6 3 5 8 8 1 7 0 4 0 3 7 8 8 8 8 0 2 8 1 5 1 7 5 1\n",
      " 1 5 5 0 0 3 5 3 8 1 8 6 7 8 8 3 7 0 7 1 7 8 7 1 7 4 7 1 0 5 7 0 5 8 0 1 8\n",
      " 1 2 8 8 0 3 1 1 0 3 0 1 0 7 0 7 0 5 8 3 5 5 3 1 2 8 5 5 3 8 8 1 1 7 8 7 5\n",
      " 1 1 4 0 7 1 3 8 0 8 4 0 5 8 0 5 0 1 8 3 7 5 3 0 7 0 1 5 8 0 0 8 7 0 1 0 1\n",
      " 0 1 7 0 3 2 8 5 2 0 5 1 8 0 1 3 0 3 0 0 7 5 1 2 3 0 8 1 1 4 1 0 0 5 0 3 1\n",
      " 7 1 3 1 0 1 5 8 8 5 0 0 0 0 2 8]\n"
     ]
    },
    {
     "name": "stderr",
     "output_type": "stream",
     "text": [
      "C:\\Users\\safibn\\Anaconda3\\lib\\site-packages\\sklearn\\cluster\\_kmeans.py:1332: UserWarning: KMeans is known to have a memory leak on Windows with MKL, when there are less chunks than available threads. You can avoid it by setting the environment variable OMP_NUM_THREADS=2.\n",
      "  warnings.warn(\n"
     ]
    },
    {
     "name": "stdout",
     "output_type": "stream",
     "text": [
      "[8 0 2 2 5 8 7 8 3 5 1 7 2 5 1 6 6 7 2 2 8 7 2 7 1 7 2 0 1 2 8 1 1 2 0 8 5\n",
      " 0 0 0 8 7 7 2 7 7 5 5 1 2 2 2 0 2 0 5 2 8 1 1 5 8 2 1 2 2 2 5 2 0 7 0 8 0\n",
      " 1 7 5 5 5 2 7 2 2 1 2 5 0 7 5 1 5 5 2 5 5 5 8 2 2 8 8 6 5 8 7 8 0 8 2 5 5\n",
      " 2 6 0 5 2 2 5 2 5 6 1 8 2 5 5 0 7 2 1 2 5 5 3 2 2 6 7 8 0 7 2 0 0 8 1 5 5\n",
      " 2 1 3 1 1 5 2 2 2 2 5 2 7 2 0 0 0 2 8 7 5 6 1 8 6 5 2 0 0 0 3 3 5 1 1 2 0\n",
      " 0 1 2 5 2 7 0 8 7 6 0 2 8 0 7 3 0 0 5 2 2 2 2 0 2 8 0 8 7 1 1 1 2 2 5 8 8\n",
      " 2 5 0 1 2 1 5 5 5 2 2 2 1 2 0 0 7 2 6 8 5 2 0 0 3 1 5 3 5 5 3 8 0 5 0 1 0\n",
      " 2 5 5 8 5 2 1 5 1 1 1 6 1 2 8 2 7 1 2 1 2 7 0 0 8 7 5 5 2 2 5 0 5 5 8 8 5\n",
      " 3 5 5 7 0 5 8 0 0 5 0 2 4 8 1 0 0 5 7 1 3 1 8 7 0 0 0 0 2 6 0 2 1 5 7 1 5\n",
      " 5 1 1 2 2 8 1 8 0 5 0 4 7 5 0 8 5 0 7 2 7 0 5 5 7 3 7 5 2 1 7 2 1 0 2 5 0\n",
      " 5 6 0 0 1 8 2 2 2 8 2 5 2 7 2 7 2 1 0 8 1 1 2 5 6 5 3 1 2 0 0 5 2 7 0 7 1\n",
      " 5 5 3 2 7 5 2 0 1 0 3 2 1 0 2 1 2 5 0 8 7 1 2 2 7 1 5 3 0 2 1 0 7 2 5 2 5\n",
      " 2 5 7 2 8 6 0 1 6 2 1 5 0 2 5 8 2 8 2 2 7 1 5 6 8 2 0 5 5 3 5 2 2 1 2 8 5\n",
      " 7 5 8 2 2 5 1 0 0 1 2 2 1 0 6 0]\n"
     ]
    },
    {
     "name": "stderr",
     "output_type": "stream",
     "text": [
      "C:\\Users\\safibn\\Anaconda3\\lib\\site-packages\\sklearn\\cluster\\_kmeans.py:1332: UserWarning: KMeans is known to have a memory leak on Windows with MKL, when there are less chunks than available threads. You can avoid it by setting the environment variable OMP_NUM_THREADS=2.\n",
      "  warnings.warn(\n"
     ]
    },
    {
     "name": "stdout",
     "output_type": "stream",
     "text": [
      "[1 0 2 1 0 1 6 4 8 4 3 6 1 4 3 7 7 6 2 2 1 6 2 6 3 6 3 2 3 2 1 3 3 4 0 1 4\n",
      " 2 0 0 1 6 6 2 0 6 0 4 3 2 4 2 0 1 2 4 2 1 3 3 0 1 2 3 3 3 1 4 1 2 6 2 1 0\n",
      " 3 6 0 0 4 2 6 2 3 3 2 0 0 6 0 3 4 0 2 4 4 0 1 2 4 1 1 7 4 1 0 1 0 1 2 0 4\n",
      " 3 7 2 4 3 2 4 2 0 7 3 4 2 4 4 2 6 2 3 0 4 4 8 2 1 7 6 1 2 6 1 0 2 1 2 4 4\n",
      " 2 3 8 3 3 4 2 2 3 3 4 2 6 2 0 2 2 2 1 6 4 8 3 1 7 4 2 0 2 0 8 8 4 3 3 2 2\n",
      " 0 3 4 4 4 6 0 1 6 7 2 3 1 0 6 8 2 0 4 2 2 2 2 0 4 1 2 1 6 3 3 3 1 1 4 1 4\n",
      " 1 4 2 3 3 2 4 4 4 2 4 1 3 2 0 2 6 1 7 1 4 1 2 2 8 3 0 8 0 0 8 1 2 6 0 3 0\n",
      " 1 0 4 1 4 1 3 0 3 3 1 7 3 2 1 1 0 3 2 3 4 6 2 2 1 6 0 0 2 3 4 0 0 4 1 1 4\n",
      " 3 0 0 0 0 0 1 2 2 4 2 2 5 1 3 2 2 0 6 3 8 3 4 0 2 0 0 0 2 7 0 4 3 0 6 3 4\n",
      " 4 3 3 2 2 1 3 1 0 4 4 5 6 0 0 1 6 2 6 4 6 2 0 4 6 8 6 4 1 3 6 2 3 2 2 4 2\n",
      " 4 7 2 2 3 1 2 4 2 1 2 0 2 6 2 6 2 3 2 1 3 3 1 4 7 0 3 3 1 0 2 0 4 6 0 6 3\n",
      " 4 4 8 3 6 4 1 2 3 0 8 2 3 0 2 3 2 0 0 1 6 3 1 1 6 3 4 3 2 2 3 2 6 2 4 3 4\n",
      " 2 4 6 3 1 7 0 3 7 2 3 4 2 2 4 1 2 4 2 2 6 3 0 7 1 2 0 0 4 8 0 2 2 3 3 1 0\n",
      " 6 4 1 2 2 4 3 0 2 3 3 2 3 2 7 0]\n"
     ]
    },
    {
     "name": "stderr",
     "output_type": "stream",
     "text": [
      "C:\\Users\\safibn\\Anaconda3\\lib\\site-packages\\sklearn\\cluster\\_kmeans.py:1332: UserWarning: KMeans is known to have a memory leak on Windows with MKL, when there are less chunks than available threads. You can avoid it by setting the environment variable OMP_NUM_THREADS=2.\n",
      "  warnings.warn(\n"
     ]
    },
    {
     "name": "stdout",
     "output_type": "stream",
     "text": [
      "[5 3 6 6 2 5 7 5 4 2 0 9 6 2 1 8 8 9 1 6 5 9 6 9 0 9 6 1 0 1 5 0 6 1 3 5 2\n",
      " 3 3 3 5 9 9 1 9 9 2 2 0 6 1 6 3 5 3 2 1 5 0 5 2 5 1 0 6 6 1 2 1 3 9 3 5 3\n",
      " 0 7 9 9 2 6 9 1 6 0 1 2 3 7 9 0 2 2 1 2 2 2 5 6 1 5 5 8 2 5 9 5 3 5 1 2 2\n",
      " 6 8 6 2 6 6 2 6 9 8 0 5 6 2 2 3 9 1 0 1 2 2 0 6 1 8 9 5 3 9 5 1 3 5 6 2 2\n",
      " 1 0 4 0 0 2 1 1 6 6 2 1 9 1 3 3 3 6 5 7 2 4 6 5 8 2 1 3 1 1 4 4 2 6 0 6 1\n",
      " 3 0 2 2 2 9 3 5 9 8 3 6 5 3 9 4 1 3 2 1 1 1 1 3 2 5 1 5 9 6 1 6 6 5 2 5 2\n",
      " 5 2 3 0 6 6 2 2 2 6 1 6 5 1 9 3 9 6 8 5 2 5 3 3 0 0 9 4 9 2 4 5 6 9 3 0 3\n",
      " 1 2 2 5 2 5 6 2 6 6 5 8 0 6 5 5 9 6 6 0 1 9 3 3 5 9 3 9 6 6 2 3 2 2 5 5 2\n",
      " 0 9 2 9 3 2 5 6 3 2 3 6 7 5 0 3 3 9 9 6 4 1 5 9 3 9 3 3 1 8 3 1 5 2 9 0 2\n",
      " 2 0 0 6 1 5 0 5 1 2 1 7 9 9 3 5 9 3 9 2 9 3 9 2 7 4 9 2 1 0 9 6 0 3 6 2 3\n",
      " 2 8 1 3 6 5 3 2 1 5 3 2 6 7 1 9 1 6 3 5 0 0 1 2 8 3 0 0 1 3 3 2 2 7 3 9 0\n",
      " 2 2 4 6 9 2 1 1 6 3 4 3 0 3 6 0 1 9 3 5 9 6 6 1 9 0 2 0 1 6 6 1 7 6 2 6 2\n",
      " 6 2 9 6 5 8 3 0 8 1 0 2 1 6 2 5 1 2 1 3 9 6 2 8 5 6 3 9 2 4 2 1 6 0 6 5 9\n",
      " 9 2 5 1 1 2 6 3 3 6 6 6 1 6 8 3]\n"
     ]
    },
    {
     "name": "stderr",
     "output_type": "stream",
     "text": [
      "C:\\Users\\safibn\\Anaconda3\\lib\\site-packages\\sklearn\\cluster\\_kmeans.py:1332: UserWarning: KMeans is known to have a memory leak on Windows with MKL, when there are less chunks than available threads. You can avoid it by setting the environment variable OMP_NUM_THREADS=2.\n",
      "  warnings.warn(\n"
     ]
    },
    {
     "name": "stdout",
     "output_type": "stream",
     "text": [
      "[7 2 8 0 5 7 1 0 3 5 6 1 0 5 4 9 9 1 4 8 7 1 8 1 6 1 8 4 8 4 0 6 8 4 2 0 5\n",
      " 2 2 2 0 1 1 4 5 1 5 5 6 8 4 8 2 0 2 5 4 7 7 7 5 7 4 6 8 8 4 5 4 2 1 2 7 2\n",
      " 6 1 5 5 5 8 1 4 4 6 4 5 2 1 5 6 5 5 4 0 5 5 7 8 4 7 7 9 5 0 2 0 2 0 4 5 5\n",
      " 4 9 8 5 8 8 5 8 5 9 6 0 8 5 5 2 1 4 6 2 5 5 6 8 4 7 1 0 2 1 0 2 2 7 8 0 5\n",
      " 4 6 3 6 6 0 4 4 8 8 5 4 1 4 2 2 2 8 0 1 0 3 8 0 9 5 4 2 2 2 3 3 5 8 6 8 4\n",
      " 2 6 0 0 0 1 2 7 1 9 2 8 7 2 1 3 2 2 5 4 4 4 4 2 0 7 2 0 1 8 4 8 8 0 5 7 0\n",
      " 0 5 2 7 8 8 0 5 5 8 0 8 7 4 2 2 1 0 9 0 0 0 2 2 6 6 5 3 5 5 3 0 8 5 2 7 2\n",
      " 4 5 0 7 5 0 4 5 8 8 7 9 7 8 7 0 5 8 8 7 0 1 2 2 0 1 2 5 8 8 5 2 5 5 7 0 5\n",
      " 6 5 5 5 2 5 7 8 2 5 2 8 1 7 6 2 2 5 1 8 3 4 0 2 2 2 2 2 4 6 2 4 7 5 1 6 5\n",
      " 5 6 6 8 4 7 6 0 2 5 4 1 1 5 2 0 5 8 1 0 1 2 5 5 1 6 1 0 4 6 1 8 7 2 8 5 2\n",
      " 0 7 4 2 8 7 2 0 4 0 8 5 8 1 4 1 4 8 2 7 6 8 0 0 7 2 6 6 4 2 2 5 0 1 2 1 6\n",
      " 5 5 3 8 1 5 4 4 8 2 3 8 7 2 8 6 4 5 2 7 1 8 8 4 1 6 5 6 2 8 8 2 1 8 0 8 5\n",
      " 8 5 1 8 0 9 2 7 9 4 6 0 4 8 5 0 4 0 4 8 1 8 5 9 7 8 2 5 5 3 5 4 8 7 8 4 5\n",
      " 1 5 0 4 4 5 8 2 2 8 8 8 4 8 9 2]\n"
     ]
    },
    {
     "name": "stderr",
     "output_type": "stream",
     "text": [
      "C:\\Users\\safibn\\Anaconda3\\lib\\site-packages\\sklearn\\cluster\\_kmeans.py:1332: UserWarning: KMeans is known to have a memory leak on Windows with MKL, when there are less chunks than available threads. You can avoid it by setting the environment variable OMP_NUM_THREADS=2.\n",
      "  warnings.warn(\n"
     ]
    },
    {
     "name": "stdout",
     "output_type": "stream",
     "text": [
      "[4 8 5 4 8 4 1 2 3 2 7 1 4 2 0 7 7 1 0 6 4 1 5 1 6 1 6 0 6 0 4 6 6 2 8 4 2\n",
      " 5 5 5 4 1 1 0 8 1 8 2 6 5 0 5 8 4 5 2 0 7 6 6 8 4 0 6 6 6 0 2 0 5 1 5 4 8\n",
      " 6 1 8 8 2 0 1 0 0 6 0 8 8 1 8 0 2 8 0 2 2 8 4 5 2 4 4 7 2 4 1 4 8 4 0 8 8\n",
      " 0 7 5 8 6 5 8 5 8 7 6 2 5 8 2 5 1 0 6 8 8 2 3 5 0 7 1 4 5 1 4 8 5 7 5 2 2\n",
      " 0 6 3 6 6 2 0 0 6 6 2 0 1 0 8 5 5 5 4 1 2 3 6 4 7 2 0 8 5 8 3 3 8 6 6 5 0\n",
      " 8 6 2 2 2 1 8 4 1 7 5 6 7 8 1 3 0 5 8 0 0 0 0 8 2 4 0 4 1 6 0 6 6 4 2 4 2\n",
      " 4 8 5 7 6 5 2 2 8 5 4 6 6 0 8 5 1 4 7 4 2 4 5 5 3 7 8 3 8 8 3 4 5 8 8 6 8\n",
      " 0 8 2 4 2 4 0 8 6 6 6 7 6 5 4 4 8 6 5 6 0 1 5 5 4 1 8 8 0 6 2 8 8 8 7 4 2\n",
      " 3 8 8 8 8 8 4 5 5 8 5 5 9 4 6 5 0 8 1 6 3 0 2 8 5 1 5 8 0 7 5 0 6 8 1 6 2\n",
      " 2 6 6 5 0 4 7 4 8 2 0 9 1 8 8 4 1 5 1 2 1 5 8 2 1 3 1 2 0 6 1 5 7 5 0 2 5\n",
      " 2 7 0 5 6 4 5 2 5 4 5 8 0 1 0 1 0 6 0 4 6 6 4 2 7 8 3 6 0 8 5 8 2 1 8 1 7\n",
      " 2 8 3 6 1 8 0 0 6 8 3 5 6 8 5 6 0 8 5 4 1 6 4 0 1 0 2 3 0 0 6 0 1 0 2 6 2\n",
      " 5 8 1 6 4 7 8 6 7 0 6 2 0 0 8 4 0 2 0 5 1 6 8 7 4 0 8 8 2 3 8 0 5 7 6 4 8\n",
      " 1 2 4 0 0 2 6 8 5 6 6 5 0 5 7 8]\n"
     ]
    },
    {
     "name": "stderr",
     "output_type": "stream",
     "text": [
      "C:\\Users\\safibn\\Anaconda3\\lib\\site-packages\\sklearn\\cluster\\_kmeans.py:1332: UserWarning: KMeans is known to have a memory leak on Windows with MKL, when there are less chunks than available threads. You can avoid it by setting the environment variable OMP_NUM_THREADS=2.\n",
      "  warnings.warn(\n"
     ]
    },
    {
     "name": "stdout",
     "output_type": "stream",
     "text": [
      "[ 1  3 10 10  3  1  5  2  9  2  6  7  4  2  0  8  8  7  4 10  1  7 10  7\n",
      "  6  7 10  0  6  0  2  6 10  4  3  2  3  0  0  3  1  7  7  4  7  7  3  2\n",
      "  6 10  4 10  3  4  0  2 10  1  6  1  3  1  4  6 10 10  4  3  4  0  7  0\n",
      "  1  3  6  5  3  3  2 10  7  4 10  6  4  3  3  5  3  6  2  3  4  2  3  3\n",
      "  1 10  4  1  1  8  2  1  7  4  3  1  4  3  3 10  8  0  3 10 10  3 10  3\n",
      "  8  6  2 10  3  2  0  7 10  6  4  3  2  6  4  4  1  7  4  0  7  4  3  0\n",
      "  1  0  2  2  0  6  9  6  6  2  4  4 10 10  4  4  7  4  3  0  0 10  1  7\n",
      "  2  9 10  2  8  2  0  3  4  3  9  9  3 10  6 10  4  3  6  4  2  4  7  3\n",
      "  1  7  8  0 10  1  3  7  9  0  0  3  4  4  4  4  3  4  1  0  1  7 10  1\n",
      " 10 10  4  2  1  2  4  3  0  6 10 10  2  3  3 10  4 10  1  4  3  0  7 10\n",
      "  8  4  2  1  0  4  9  6  3  9  3  3  9  4  0  7  3  6  3  4  3  4  1  2\n",
      " 10 10  3 10 10  1  8  6 10  1  4  3 10 10  1  4  7  0  0  1  7  3  3 10\n",
      " 10  2  3  3  3  1  1  2  6  3  3  3  3  3  1 10  0  3  0 10  5  1  6  0\n",
      "  0  3  7 10  9  6  2  7  0  7  0  3  4  6  3  4  1  3  7  6  2  2  6  6\n",
      " 10  4  1  6  1  3  2  4  5  7  3  3  1  7  0  7  4  7  0  3  2  7  9  7\n",
      "  4 10  6  7 10  6  0  4  2  0  2  1  4  0 10  1 10  4  0  1 10  3 10  5\n",
      "  4  7  4 10  0  1  6  6  4  2  1  3  6  6  4  0 10  3  4  5  3  7  6  2\n",
      "  3  9 10  7  3  4  0 10  3  9 10  1  3 10  6  4  3  0  1  7 10 10  4  7\n",
      "  0  2  6  0 10 10  0  5 10  2 10  3 10  3  7 10  1  8  3  6  8  0  6  4\n",
      "  0 10  3 10  0  2  4  0  7 10  3  8  1 10  3  3  4  9  3  0 10  6 10  4\n",
      "  3  7  2  2  4  4  2 10  3  0 10 10 10  0  0  8  3]\n"
     ]
    },
    {
     "name": "stderr",
     "output_type": "stream",
     "text": [
      "C:\\Users\\safibn\\Anaconda3\\lib\\site-packages\\sklearn\\cluster\\_kmeans.py:1332: UserWarning: KMeans is known to have a memory leak on Windows with MKL, when there are less chunks than available threads. You can avoid it by setting the environment variable OMP_NUM_THREADS=2.\n",
      "  warnings.warn(\n"
     ]
    },
    {
     "name": "stdout",
     "output_type": "stream",
     "text": [
      "[ 2 10  7  9 10  2  3  9  6  8  0  1  9  8  7  4  4  5  7  7  2  1  7  1\n",
      "  0  3  7  5  0  5  9  0  7  9 10  9 10  5  5 10  2  1  1  7  1  1  8  8\n",
      "  0  7  9  7 10  9  5  8  7  2  0  2 10  2  7  0  7  7  7  8  7  5  1  5\n",
      "  2 10  0  3  8  1  8  7  1  9  7  0 10 10 10  3  8  0  8  8  7  9  8 10\n",
      "  2  7  9  2  2  4  8  9  1  9 10  2  7 10  8  7  4  5  8  7  7  8  7  1\n",
      "  4  0  9  7 10  8  5  1  7  0 10  8  8  0  7  9  4  1  9 10  1  9 10  5\n",
      "  2  7  8  8  7  0  6  0  0  9  7  7  7  7  9  7  1  7 10 10  5 10  2  3\n",
      "  9  6  7  9  4  8  7 10 10 10  6  6 10  7  0  7 10 10  0  9  9  9  1 10\n",
      "  2  1  4  5  7  2 10  1  6 10  5  8  7  7  7  7 10  9  2  5  9  3  0  7\n",
      "  0  7  9  8  2  9  9  8  5  0  7  7  8  8 10  7  9  7  2  7  1 10  1  9\n",
      "  4  9  9  7  5 10  0  0  1  6  1 10  6  9  5  1 10  0 10  9  8  9  2  8\n",
      "  9  7 10  7  7  2  4  0  7  2  9  1  0  7  2  9  1  5  5  2  1 10 10  7\n",
      "  7  9 10 10 10  2  2  8  0  8  8  1 10 10  2  7 10  8  7  7  3  2  0  5\n",
      " 10  1  1  7  6  7  9  1 10  5 10 10  7  4 10  9  2  8  1  0  8  8  0  0\n",
      "  7  9  2  0  2 10  8 10  3  1  1 10  9  8  5  1  9  1 10  1  8  3  6  1\n",
      "  9  7  0  1  7  0 10  7  8 10  9  4 10 10  7  2 10  9  7  2 10 10  7  3\n",
      "  7  1  7  7 10  2  0  0  9  9  2 10  0  0  9 10 10 10  9  3 10  1  0  8\n",
      "  8  6  7  1 10  9  5  7 10  6 10  2 10  7  0  7  8  5  2  1  7  7  7  1\n",
      "  5  8  0 10  7  7  5  3  7  9  7  8  7  8  1  7  2  4  1  0  4  7  0  9\n",
      "  5  7  8  9  7  9  7  7  1  0 10  4  2  7 10  1 10  6 10  5 10  0  7  2\n",
      "  1  1  8  9 10  7  8  7 10  5  0  7  7  5  5  4 10]\n"
     ]
    },
    {
     "name": "stderr",
     "output_type": "stream",
     "text": [
      "C:\\Users\\safibn\\Anaconda3\\lib\\site-packages\\sklearn\\cluster\\_kmeans.py:1332: UserWarning: KMeans is known to have a memory leak on Windows with MKL, when there are less chunks than available threads. You can avoid it by setting the environment variable OMP_NUM_THREADS=2.\n",
      "  warnings.warn(\n"
     ]
    },
    {
     "name": "stdout",
     "output_type": "stream",
     "text": [
      "[ 8  5  9  2  7  8  3  2  6  2  0  1  2  7  9  4  4  1 10  9  8  1  9  1\n",
      "  0  1  9 10  0 10  2  0  9  2 10  2  7  5  5  5  2  1  1  9  1  1  7  7\n",
      "  0  9  2  9 10  2  5  7  9  8  8  8  7  8  9  0  9  9  9  7  9  5  1  5\n",
      "  8  5  0  3  7  7  7  9  1 10  9  0 10  7 10  3  7  0  7  7 10  2  7  7\n",
      "  8  9  2  8  8  4  7  2  1  2  5  2  9  7  7  9  4  5  7  9  9  7  9  7\n",
      "  4  0  2  9  7  7  5  1  9  0 10  7  7  0  9  9  8  1  2  5  1  2 10  5\n",
      "  8  9  2  7  9  0  6  0  0  2  9  9  9  9  2  9  1  9  1  5  5  9  9  3\n",
      "  2  6  9  2  4  7  9 10 10 10  6  6  7  9  0  9 10 10  0  2  2  2  1  7\n",
      "  8  1  4  5  9  8  5  1  6 10  5  7  9  9  9  9  7  2  8 10  2  1  0  8\n",
      "  9  9  2  7  8  2  2  7  5  8  9  5  2  7  7  9  2  9  8  9  1  5  1  9\n",
      "  4  2  2  9  5 10  0  0  7  6  7  7  6  2  5  7  1  8 10 10  7  2  8  2\n",
      "  2  9  7  9  9  8  4  0  9  8  2  7  0  9  8  2  1  5  5  8  1  7 10  9\n",
      "  9  7 10  7  7  8  2  7  0  7  7  1 10  7  8  5  5  7  5  9  3  8  0  5\n",
      " 10  7  1  9  6  9  2  1  5  1  5 10  9  4  5  2  8  7  1  0  7  7  0  0\n",
      "  9  2  8  0  8 10  7 10  3  1  7  7  2  7  5  1  2  1  5  7  7  3  6  1\n",
      "  2  9  0  1  9  8  5  9  2  5  2  8 10  5  9  8  5  2  5  2  5  7  9  3\n",
      " 10  1  9  9 10  8  0  0  2  2  8  7  0  0  2 10  5  7  2  3 10  1  0  2\n",
      "  7  6  9  1  7  2  5  9 10  6  5  8 10  9  0  9  7  5  8  1  9  9  9  1\n",
      "  0  7  0 10  9  9 10  3  9  2  9  7  9  7  1  9  2  4  1  8  4  9  0  2\n",
      " 10  9 10  2  9  2  9  5  1  0  7  4  8  9  7  7 10  6  7  5  9  8  9  2\n",
      "  7  1  7  2 10  9  2  9  1  5  0  9  5  0  5  4  7]\n"
     ]
    },
    {
     "name": "stderr",
     "output_type": "stream",
     "text": [
      "C:\\Users\\safibn\\Anaconda3\\lib\\site-packages\\sklearn\\cluster\\_kmeans.py:1332: UserWarning: KMeans is known to have a memory leak on Windows with MKL, when there are less chunks than available threads. You can avoid it by setting the environment variable OMP_NUM_THREADS=2.\n",
      "  warnings.warn(\n"
     ]
    },
    {
     "name": "stdout",
     "output_type": "stream",
     "text": [
      "[ 5  3  7  7  4  5  1 10 11  4  6  1  2  4  9  5  5  1  2  7  5  1  7  1\n",
      "  6  1  7  9  7  9 10  6  7  2  3 10  4  3  3  3 10  1  1  2  4  1  4  4\n",
      "  6  2  2  7  3  2  3  4  7  5  5  5  3  5  2  6  7  7  2  4  2  3  1  3\n",
      "  5  3  5  1  4  4  4  7  1  2  7  6  2  4  3  1  4  6  4  4  2  4  4  4\n",
      "  5  7  2 10  5  0  4 10  1 10  3 10  2  4  4  7  0  9  4  7  7  4  7  4\n",
      "  0  6 10  7  4  4  3  1  7  6  3  4  4  6  2  2  5  1  2  3  1  2  3  9\n",
      "  5  9 10  4  9  6 11  6  6 10  2  2  7  7  2  2  1  2  3  3  9  3  7  1\n",
      " 10 11  7 10  0  4  9  3  3  3 11 11  4  7  6  7  2  3  6  2  4 10  1  3\n",
      "  2  1  0  9  7  5  3  1 11  3  3  4  2  2  2  2  3  2  5  9 10  1  7  5\n",
      "  7  7  2  4  2 10  2  4  3  5  7  9 10  4  4  7  2  7  5  2  3  3  1  7\n",
      "  0  2 10  7  9  3  6  6  4 11  4  3  6  2  9  4  3  5  3  2  4  2  5  4\n",
      "  7  7  4  7  7  7  0  5  7  5  2  4  7  7  5  2  1  9  9 10  1  3  4  7\n",
      "  7  4  3  4  4  5 10  4  6  4  4  1  3  4  5  7  3  4  3  7  8  5  6  9\n",
      "  3  4  1  7 11  2 10  1  3  1  3  3  2  6  3  2  5  4  1  6  4  4  6  6\n",
      "  7  2  5  6  7  3 10  2  8  1  4  3 10  4  9  1  2  1  3  4  4  1  6  1\n",
      " 10  2  6  1  7  5  3  2 10  3 10  5  2  3  7  5  3  2  9 10  3  4  7  1\n",
      "  2  1  2  7  3  5  6  7  2  4  5  3  6  6  2  3  3  4  2  1  3  1  6 10\n",
      "  4  6  7  1  4  2  9  7  3 11  3  5  3  7  5  2  4  3  2  1  7  7  2  1\n",
      "  9  4  6  3  7  7  3  1  7 10  7  4  7  4  1  7  2  0  3  5  0  9  6  2\n",
      "  9  7  4 10  9 10  2  3  1  7  4  0  2  7  3  4  2 11  4  9  3  5  7  2\n",
      "  4  1  4 10  2  2 10  7  3  9  7  7  7  9  9  0  3]\n"
     ]
    },
    {
     "name": "stderr",
     "output_type": "stream",
     "text": [
      "C:\\Users\\safibn\\Anaconda3\\lib\\site-packages\\sklearn\\cluster\\_kmeans.py:1332: UserWarning: KMeans is known to have a memory leak on Windows with MKL, when there are less chunks than available threads. You can avoid it by setting the environment variable OMP_NUM_THREADS=2.\n",
      "  warnings.warn(\n"
     ]
    },
    {
     "name": "stdout",
     "output_type": "stream",
     "text": [
      "[ 7 11  6  0 11  7  5 10  3 10  9  1  0  4  6  2  2  8  0  6  7  1  0  1\n",
      "  9  1  6  8  6  0 10  9  6  0 11 10 11  8  8 11 10  1  1  0  1  1  4  4\n",
      "  9  0  0  0 11  0  8  4  6  7  7  7 11  7  0  9  6  6  0  4  0  8  1  8\n",
      "  7 11  7  5  4  4  4  6  1  0  6  9  0 11 11  5  4  9  4  4  0 10  4 11\n",
      "  7  6  0  7  7  2  4 10  1 10 11 10  0 11  4  6  2  6  4  6  6  4  6  4\n",
      "  2  9 10  6 11  4  8  1  6  9 11  4 10  9  0  0  7  1  0 11  1  0 11  8\n",
      "  7  6 10  4  6  9  3  9  9 10  0  0  6  6  0  0  1  0 11 11  8 11  7  5\n",
      " 10  3  6 10  2  4  6 11 11 11  3  3 11  6  9  6  0 11  9  0 10 10  1 11\n",
      "  7  1  2  8  6  7 11  1  3 11  8  4  0  0  0  0 11  0  7  8 10  1  6  7\n",
      "  6  6  0  4  7 10  0  4  8  7  6  6 10  4 11  6  0  6  7  0 11 11  1  6\n",
      "  2  0 10  0  8 11  9  9  4  3  4 11  3  0  6  4 11  7 11  0  4  0  7 10\n",
      "  0  6 11  6  6  7  2  9  6  7  0  4  6  6  7  0  1  8  8  7  1 11 11  6\n",
      "  6  0 11 11 11  7 10  4  9  4  4  1 11 11  7  6 11  4  6  6  5  7  9  8\n",
      " 11  4  1  6  3  6 10  1 11  8 11 11  0  9 11  0  7  4  1  9  4  4  9  9\n",
      "  6  0  7  9  7 11 10  0  5  1  4 11 10  4  8  1  0  1 11  4  4  5  9  1\n",
      " 10  6  9  1  6  7 11  0 10 11 10  7  0 11  6  7 11  0  6 10 11 11  6  5\n",
      "  0  1  0  6 11  7  9  6  0  0  7 11  9  9  0 11 11  4  0  5 11  1  9 10\n",
      "  4  3  6  1 11  0  8  6 11  3 11  7 11  6  9  0  4  8  7  1  7  0  0  1\n",
      "  9  4  9 11  0  6  8  5  6 10  6  4  6  4  1  6  0  2 11  7  2  6  9  0\n",
      "  8  6  4 10  6 10  0  6  1  6 11  2  7  6 11  4 11  3 11  8 11  7  6  0\n",
      "  4  1  4 10  0  0 10  6 11  8  6  6  6  9  6  2 11]\n"
     ]
    },
    {
     "name": "stderr",
     "output_type": "stream",
     "text": [
      "C:\\Users\\safibn\\Anaconda3\\lib\\site-packages\\sklearn\\cluster\\_kmeans.py:1332: UserWarning: KMeans is known to have a memory leak on Windows with MKL, when there are less chunks than available threads. You can avoid it by setting the environment variable OMP_NUM_THREADS=2.\n",
      "  warnings.warn(\n"
     ]
    },
    {
     "name": "stdout",
     "output_type": "stream",
     "text": [
      "[ 0  1  7  7  9 10  5 10 11  3  6  8  2  3  0  4  4  8  2  7 10  8  7  8\n",
      "  6  8  7  1  6  1 10  6  7  2  9 10  3  1  1  9 10  8  8  2  8  8  9  3\n",
      "  6  7  2  7  9  2  1  3  7  0  0  0  9 10  2  6  7  7  2  3  2  1  8  1\n",
      " 10  9  6  5  3  9  3  7  8  2  0  6  2  9  9  5  3  6  3  3  2  3  3  9\n",
      " 10  7  2 10  0  4  3 10  8 10  9 10  2  9  3  7  4  1  3  7  7  9  7  9\n",
      "  4  6 10  7  9  3  1  8  7  6  9  9  3  6  7  2  4  8 10  1  8  2  9  1\n",
      "  0  7  3  3  0  6 11  6  6  3  2  2  7  7  2  2  8  2  9  1  1  7 10  5\n",
      "  3 11  7 10  4  3  1  9  2  9 11 11  9  7  6  7  2  9  6  2  3  2  8  9\n",
      "  0  8  4  1  7  0  1  8 11  1  1  3  2  2  2  2  9  2 10  1 10  8  6  0\n",
      "  0  7  2  3  0  3  2  9  1  0  7  7  3  3  9  7  2  7  0  2  9  1  8  7\n",
      "  4 10  3  2  1  1  6  6  9 11  9  9 11  2  1  8  9  0  9  2  9  2  0  3\n",
      "  7  0  9  7  7  0  4  0  7  0  2  9  6  7  0  2  8  1  1 10  8  9  9  7\n",
      "  7  3  9  9  9  0 10  3  6  9  9  9  9  9  0  7  7  3  1  7  5 10  6  1\n",
      "  1  9  8  0 11  0 10  8  1  1  1  9  2  4  9  2  0  9  8  6  3  3  6  6\n",
      "  7  2  0  6 10  9  3  2  5  8  9  9 10  3  1  8  2  8  1  9  3  5  6  8\n",
      "  2  0  6  8  7  6  1  2  3  1  3  4  2  1  7  0  7  2  1 10  7  9  7  5\n",
      "  2  8  2  0  1 10  6  6  2  3  0  9  6  6  2  1  7  9  2  5  9  8  6  3\n",
      "  3 11  7  8  9  2  1  7  9 11  7  0  9  7  0  2  9  1  0  8  0  7  2  8\n",
      "  6  3  6  1  7  7  1  5  7  3  7  3  7  3  8  7 10  4  9  6  4  7  6  2\n",
      "  1  7  3 10  7  3  2  7  8  6  9  4  0  7  9  9  2 11  9  1  7  6  7  2\n",
      "  9  8  3 10  2  2  3  7  9  1  7  7  7  6  1  4  9]\n"
     ]
    },
    {
     "name": "stderr",
     "output_type": "stream",
     "text": [
      "C:\\Users\\safibn\\Anaconda3\\lib\\site-packages\\sklearn\\cluster\\_kmeans.py:1332: UserWarning: KMeans is known to have a memory leak on Windows with MKL, when there are less chunks than available threads. You can avoid it by setting the environment variable OMP_NUM_THREADS=2.\n",
      "  warnings.warn(\n"
     ]
    },
    {
     "name": "stdout",
     "output_type": "stream",
     "text": [
      "[ 2  0 10 10  7  6  4  6  9  8  2  4 10  7  5  2  2  4  5 10  6  4 10  4\n",
      "  2  4 10  5 10  5  6  2 10  8  0  6  8  0  0  0  6  4  4  5  7  4  7  8\n",
      "  2 10  8 10  0  8  0  7  5  2  2  2  7  6  5  1 10 10  5  7  5  0  4  0\n",
      "  6  0  2  4  7  7  8 10  4  5  5  1  5  7  0  4  7 12  8  7  5  8  8  7\n",
      "  6 10  8  6  2 11  8  6  4  6  0  6  5  7  7  5 11  1  7 10 10  7 10  7\n",
      " 11  1  6 10  7  7  0  4  5  2  5  7  8  2 10  5  2  4 10  0  4  5  0  0\n",
      "  2  1  8  7  5  1  9  1  2  8  5  5 10 10  8  5  4  5  0  0  0 10 10  4\n",
      "  8  9 10  6 11  7  5  0  0  0  9  9  8 10  2 10  5  0  1  8  8  8  4  7\n",
      "  5  4 11  0 10  2  0  4  9  0  0  7  5  5  5  5  0  8  6  0  6  4  1  5\n",
      " 10 10 10  8 10  8 10  7  0  2 10  1  8  8  8  1  8 10  2  5  0  0  4 10\n",
      " 11  6  8 10  0  0  9  2  7  9  7  7  9  8  1  7  0  2  0  5  7  8  2  8\n",
      " 10  5  7 10 10 10 11  2 10  2 10  7 10 10  2  8  4  0  1  6  4  7  7 10\n",
      " 10  8  0  7  8  2  6  8 12  7  7  7  0  7  6 10  0  7  0 10  3  6  1  0\n",
      "  0  7  4  5  9  5  6  4  0  0  0  0  5  2  0  8  2  7  4  1  7  7  2  1\n",
      " 10  5  2  2  6  0  8  8  3  4  7  0  6  7  1  4  8  4  0  7  8  4 12  4\n",
      "  8  5  2  4 10  2  0 10  8  0  8  2  0  0 10  2 10  8  5  6 10  7 10  4\n",
      "  5  4  5 10  0  6  1  1  5  8  2  7  1  2  5  0  0  7  8  4  0  4  2  8\n",
      "  8  9 10  4  7  5  0  1  0  9 10  2  0 10  2  5  7  0  5  4 10 10  5  4\n",
      "  1  8  2  0 10  1  0  4  5  8 10  7 10  7  4 10  6 11  0  2 11  5  1  8\n",
      "  5 10  8  6  5  8  5  0  4 10  7 11  6 10  0  7  8  9  7  1 10  2 10  5\n",
      "  7  4  8  6  5  5  8 10  0  0 10 10 10  1  1 11  0]\n"
     ]
    },
    {
     "name": "stderr",
     "output_type": "stream",
     "text": [
      "C:\\Users\\safibn\\Anaconda3\\lib\\site-packages\\sklearn\\cluster\\_kmeans.py:1332: UserWarning: KMeans is known to have a memory leak on Windows with MKL, when there are less chunks than available threads. You can avoid it by setting the environment variable OMP_NUM_THREADS=2.\n",
      "  warnings.warn(\n"
     ]
    },
    {
     "name": "stdout",
     "output_type": "stream",
     "text": [
      "[ 0  1  3  3  1  0  6  4  5  4  2  7  3 10  8 12 12  7  8  3  0  7  3  6\n",
      "  2  6  3  8  3  8  4  2  3  4  1  4  1 11 11  1  0  7  7  8  7  7 10 10\n",
      "  2  3  4  3  1  4 11 10  8  0  8  0  1  0  8  2  3  3  8 10  8 11  7 11\n",
      "  0  1  2  6 10 10 10  3  7  8  8  2  8  1  1  6 10  2 10 10  8  4 10  1\n",
      "  0  3  4  0  0 12 10  4  7  4  1  0  8  1 10  8 12 11 10  3  3 10  3 10\n",
      " 12  2  4  3  1 10 11  7  8  2  1 10  4  2  1  8  0  7  4  1  7  8  1 11\n",
      "  0  3  4 10  8  2  5  2  2  4  8  8  3  3  4  8  7  8  1 11 11  3  3  6\n",
      "  4  5  3  4 12 10  8  1  1  1  5  5  1  3  2  3  8  1  2  4  4  4  7  1\n",
      "  8  7 12 11  3  0  1  7  5  1 11 10  8  8  8  8  1  4  0 11  4  6  3  8\n",
      "  3  3  4 10  0  4  4  1 11  0  3  3  4 10  1  3  4  3  0  8  7  1  7  3\n",
      " 12  4  4  3 11  1  2  2 10  5 10  1  5  4 11 10  1  0  1  8 10  4  0  4\n",
      "  3  8  1  3  3  3 12  2  3  0  4 10  3  3  0  4  6 11 11  0  7  1  1  3\n",
      "  3  4  1  1  1  0  0 10  2 10 10  7  1  1  0  3  1 10 11  3  9  0  2 11\n",
      "  1 10  7  8  5  8  4  7  1  7  1  1  8  2  1  4  0 10  7  2 10 10  2  2\n",
      "  3  8  0  2  0  1  4  8  9  7 10  1  4 10 11  7  4  7  1 10 10  6  2  7\n",
      "  4  8  2  7  3  2  1  3  4  1  4  0  1  1  3  0  1  4 11  0  3  1  3  6\n",
      "  8  7  8  3  1  0  2  3  4  4  0  1  2  2  8  1  1  1  4  6  1  7  2  4\n",
      " 10  5  3  7  1  8 11  3  1  5  3  0  1  3  8  8 10 11  8  7  3  3  8  7\n",
      " 11 10  2  1  3  3 11  6  3  4  3 10  3 10  7  3  0 12  7  2 12  8  2  4\n",
      " 11  3 10  4  8  4  8  3  7  3  1 12  0  3  1 10  1  5  1 11  3  2  3  8\n",
      " 10  7 10  4  1  8  4  3  7 11  3  3  3  8 11 12  1]\n"
     ]
    },
    {
     "name": "stderr",
     "output_type": "stream",
     "text": [
      "C:\\Users\\safibn\\Anaconda3\\lib\\site-packages\\sklearn\\cluster\\_kmeans.py:1332: UserWarning: KMeans is known to have a memory leak on Windows with MKL, when there are less chunks than available threads. You can avoid it by setting the environment variable OMP_NUM_THREADS=2.\n",
      "  warnings.warn(\n"
     ]
    },
    {
     "name": "stdout",
     "output_type": "stream",
     "text": [
      "[ 0 10  3  3  2  6 11  7  5  7  0  4  7  1  9  8  0  4  9  3  6  4  3  4\n",
      "  0  4  3  9  3  9  6  0  3  7  2  6  7 10 10  2  6  4  4  9  4  4  2  1\n",
      " 12  3  7  3  2  7 10  1  9  0  0  0  2  6  9 12  3  3  9  1  9 10  4 10\n",
      "  6  2  0 11  1  2  1  3  4  9  9 12  9  2  2 11  1 12  1  1  9  7  1  2\n",
      "  6  3  7  6  0  8  1  6  4  6  2  6  9  2  1  9  8 10  1  3  3  1  3  1\n",
      "  8 12  6  3  2  1 10  4  9  0  2  1  1 12  3  9  0  4  6 10  4  6  2 10\n",
      "  0  3  7  1  9 12  5 12  0  7  9  9  3  3  7  9  4  9  2 10 10  3  6 11\n",
      "  7  5  3  6  8  1  9  2  9  2  5  5  7  3 12  3  9  2 12  7  7  7  4  2\n",
      "  6  4  8 10  3  0 10  4  5  9 10  1  9  9  9  9  2  7  6 10  6  4 12  9\n",
      "  3  3  6  1  6  7  7  2 10  0  3  3  7  7  7  3  7  3  0  9  2 10  4  3\n",
      "  8  6  7  6 10 10 12  0  2  5  1  2  5  7 10  1  2  0  2  9  1  7  6  7\n",
      "  3  9  2  3  3  0  8  0  3  0  7  2  3  3  0  7  4 10 10  6  4  2  2  3\n",
      "  3  7  2  2  1  0  6  1 12  1  2  2  2  2  6  3 10  1 10  3 11  6 12 10\n",
      " 10  2  4  3  5  9  7  2 10 10 10  2  9  0 10  7  0  1  4 12  1  1  0 12\n",
      "  3  7  0  0  6  2  1  9 11  4  2  2  6  1 10  4  7  4 10  1  1  4 12  4\n",
      "  7  9  0  4  3  0 10  3  1 10  7  0  9 10  3  0  7  7 10  6  3  2  3 11\n",
      "  9  4  9  3 10  6 12  3  7  7  0  2 12  0  9 10 10  2  7 11  2  4  0  1\n",
      "  1  5  3  4  2  9 10  3  2  5  3  0  2  3  0  9  2 10  6  4  3  3  9  4\n",
      " 12  1 12 10  3  3 10 11  3  7  3  1  3  1  4  3  6  8  2  0  8  9 12  7\n",
      "  9  3  1  7  9  7  9 10  4  3  2  8  6  3  2  2  7  5  2  9  3  0  3  6\n",
      "  2  4  1  6  7  9  7  3  2 10  3  3  3  9 10  8  2]\n"
     ]
    },
    {
     "name": "stderr",
     "output_type": "stream",
     "text": [
      "C:\\Users\\safibn\\Anaconda3\\lib\\site-packages\\sklearn\\cluster\\_kmeans.py:1332: UserWarning: KMeans is known to have a memory leak on Windows with MKL, when there are less chunks than available threads. You can avoid it by setting the environment variable OMP_NUM_THREADS=2.\n",
      "  warnings.warn(\n"
     ]
    },
    {
     "name": "stdout",
     "output_type": "stream",
     "text": [
      "[ 4  3  2  2  6  7  5  1 11  1  4  9  2  6 13  8  4  9 12  2  7  9  2  9\n",
      "  4  9  2 12  2 12  1  4  2  1  3  1  1  3  3  3  7  9  9 13  9  9  6  6\n",
      " 10  2  1  2  3  1  3  6 13  7 13  4  3  7 13 10  2  2 13  6 13 12  9 12\n",
      "  7  3  4  5  6  6  1  2  9 12 13 10 12  6 12  5  6 10  6  6 13  1  6  3\n",
      "  7  2  1  7 13  8  6  1  9  1  3  7 13  3  6 13  8  0  6  2  2  6  2  6\n",
      "  8 10  1  2  6  6  0  9 13  4 12  6  1  4  2 13  7  9 13  3  9 13 12  0\n",
      "  7  0  1  6 13 10 11 10  4  1 12 12  2  2  1 13  9 13  3  3  0  2  2  9\n",
      "  1 11  2  1  8  6 12  3 12 12 11 11  3  2  4  2 12  3 10  1  1  1  9  3\n",
      " 13  9  8  0  2  7  3  9 11 12  0  6 12 12 13 13  3  1  7 12  1  9 10 13\n",
      "  2  2 13  6 13  1 13  6  3  4  2  0  1  6  3  2  1  2  4 13  3 12  9  2\n",
      "  8  1  1 13 12 12 10  4  6 11  6  3  4  1  0  6  3  4  3 13  6  1  7  1\n",
      "  2 13  6  2  2  2  8  4  2 13  2  6  2  2  4  1  9  0  0  7  9  3  6  2\n",
      "  2  1 12  3  3  7  7  6 10  6  6  9 12  3  7  2  3  6 12  2  5  7 10  0\n",
      " 12  6  9 13 11 13  1  9  3  9  3  3 13  4  3  1  4  6  9 10  6  6  4 10\n",
      "  2 13 13  4  2 12  1 12  5  9  6  3  1  6  0  9  1  9 12  6  6  9 10  9\n",
      "  1 13  4  9  2  4  3  2  1  3  1  7 12  3  2  7  3  1 12  7  3  6  2  5\n",
      " 12  9 13  2 12  7 10  2 13  1  7  3 10  4 13 12  3  6  1  5  3  9  4  1\n",
      "  6  4  2  9  6 13  0  2  3 11  3  4 12  2 13 13  6  3 13  9  2  2 13  9\n",
      "  0  6 10 12  2  0 12  5  2  1  2  6  2  6  9  2 13  8  3  4  8 12 10  1\n",
      " 12  2  6  1 12  1 13  3  9  2  3  8 13  2  3  6 12 11  3  0  3  4  2 13\n",
      "  6  9  6  1 12 13  1  2  3  0  2  2  2  0  0  8  3]\n"
     ]
    },
    {
     "name": "stderr",
     "output_type": "stream",
     "text": [
      "C:\\Users\\safibn\\Anaconda3\\lib\\site-packages\\sklearn\\cluster\\_kmeans.py:1332: UserWarning: KMeans is known to have a memory leak on Windows with MKL, when there are less chunks than available threads. You can avoid it by setting the environment variable OMP_NUM_THREADS=2.\n",
      "  warnings.warn(\n"
     ]
    },
    {
     "name": "stdout",
     "output_type": "stream",
     "text": [
      "[ 6  1  9  9  1  7  4  2 13  2  0  5  8 12  6  3  3  5  8  9  7  5 10  5\n",
      "  6  5  9 11  9  8  2  6  9  8  1  2  1 11 11 10  7  5  5  8  5  5 12 12\n",
      "  0 10  8 10  1  2 10 12  8  7  6  6  1  7  8  0  9  9  8 12  8 11  5 11\n",
      "  7  1  6  4 12 12  2  9  5  8  6  0  8  1  1  4 12  0 12 12  8  2 12  1\n",
      "  7  9  8  7  7  3 12  2  5  2  1  7  8  1 12  9  3 11 12  9  9 12 10 12\n",
      "  3  0  2  9  1 12 11  5  8  6  1 12  2  0 10  8  7  5  8 10  5  8  1 11\n",
      "  7 11  2 12  6  0 13  6  6  2  8  8  9  9  2  8  5  8  1 10 11 10  9  5\n",
      "  2 13  9  2  3 12 11  1 10  1 13 13 10  9  6 10  8  1  0  2  2  2  5  1\n",
      "  8  5  3 11  9  7  1  5 13  1 11 12  8  8  8  8  1  2  7 11  2  5  9  6\n",
      "  6  9  8 12  8  2  8  1 11  6  9 11  2 12  1  9  8  9  6  8  1 10  5  9\n",
      "  3  8  2  9 11 10  0  0 12 13 12  1 13  8 11 12  1  6  1  8 12  8  6  2\n",
      "  9  6  1  9  9  9  3  6 10  6  8 12  9 10  6  8  5 11 11  7  5  1  1  9\n",
      "  9  2  1  1  1  7  7 12  0 12 12  5  1  1  7 10 10 12 10 10  4  7  0 11\n",
      "  1 12  5  6 13  6  2  5 10  5 10  1  8  0 10  8  6 12  5  0 12 12  6  0\n",
      " 10  8  6  0  9  1  2  8  4  5  1  1  2 12 11  5  2  5 10 12 12  5  0  5\n",
      "  2  6  0  5 10  6 10  8  2 10  2  7  8 10  9  7 10  2 10  7 10  1  9  4\n",
      "  8  5  8  9  1  7  6  6  8  2  7  1  6  6  8  1 10  1  2  4  1  5  0  2\n",
      " 12 13  9  5  1  8 11  9  1 13 10  6  1  9  0  8 12 10  8  5  6  9  8  5\n",
      " 11 12  0  1  9  9 11  4  9  2  9 12  9 12  5  9  8  3  1  6  3 11  0  2\n",
      " 11  9 12  2 10  2  8 10  5  9  1  3  8  9  1  1  1 13  1 11 10  0  9  8\n",
      " 12  5 12  2  8  8  2  9  1 11  9  9 10 11 11  3  1]\n"
     ]
    },
    {
     "name": "stderr",
     "output_type": "stream",
     "text": [
      "C:\\Users\\safibn\\Anaconda3\\lib\\site-packages\\sklearn\\cluster\\_kmeans.py:1332: UserWarning: KMeans is known to have a memory leak on Windows with MKL, when there are less chunks than available threads. You can avoid it by setting the environment variable OMP_NUM_THREADS=2.\n",
      "  warnings.warn(\n"
     ]
    },
    {
     "name": "stdout",
     "output_type": "stream",
     "text": [
      "[12 13  0  0 11 12  8  7 10 11 12  4  0 11  2  3  3  9  2  0 12  8  0  8\n",
      " 12  8  0  2  0  2  7 12  0  2 13  7 11  9  9 13  7  1  8  2  4  8  4 11\n",
      "  5 13  2 13 13  7  9  4  2 12 12 12 13  7  2  5  0  0  2  4  2  9  8  9\n",
      "  7 13 12  8  4  4 11  0  8  2  2  5  2  1  1  8  4  5 11  4  2 11 11 13\n",
      " 12  0  2  7 12  3 11  7  1  7 13  7  2 13 11  0  3  9  4  0  0 11  0  4\n",
      "  3  5  7  0 11 11  9  8  2 12 13 11 11  5 13  2 12  1  7 13  1  2  1  9\n",
      " 12  0 11 11  2  5 10  5 12 11  2  2  0  0 11  2  4  2  1 13  9 13  0  8\n",
      " 11 10  0  7  3 11  2 13 13 13 10 10 13  0  5  0  2 13  5  7 11  7  8 13\n",
      "  2  8  3  9  0 12 13  8 10 13  9 11  2  2  2  2 13 11 12  9  7  8  0  2\n",
      "  0  0  7 11  2  7  2 11  9 12  0  0 11 11 13  0  2  0 12  2  1 13  1  0\n",
      "  3  7 11  0  9 13  5 12  4 10  4 13 10  7  9  4  1 12 13  2  4 11 12 11\n",
      "  0  2 13  0  0 12  3 12  0 12  2  4  0 13 12  2  8  9  9  7  1 13  1  0\n",
      "  0 11 13 13 13 12  7 11  5  4 11  1 13 13  2  0 13 11 13  0  6  7  5  9\n",
      " 13  4  8  0 10  2  7  1 13  9 13 13  2 12 13  2 12  4  1  5 11 11 12  5\n",
      "  0  2 12 12  0  1 11  2  6  1  4 13  7  4  9  8  7  8 13  4 11  8  5  4\n",
      " 11  2 12  8  0 12 13  0 11 13 11 12  2 13  0 12 13 13  2  7 13 13  0  8\n",
      "  2  1  2  0 13  7  5  0  2 11 12 13  5 12  2 13 13 11 11  8 13  8 12 11\n",
      "  4 10  0  8 11  2  9  0 13 10 13 12 13  0 12  2  4  9  2  8  0  0  2  8\n",
      "  5 11  5 13  0  0  9  8  0 11  0 11  0 11  8  0  7  3  1 12  3  2  5 11\n",
      "  9  0  4  7  2  7  2 13  8  0 13  3  2  0 13  1 11 10 13  9 13 12  0  2\n",
      "  4  8 11  7  2  2 11  0  1  9  0  0 13  5  9  3 13]\n"
     ]
    },
    {
     "name": "stderr",
     "output_type": "stream",
     "text": [
      "C:\\Users\\safibn\\Anaconda3\\lib\\site-packages\\sklearn\\cluster\\_kmeans.py:1332: UserWarning: KMeans is known to have a memory leak on Windows with MKL, when there are less chunks than available threads. You can avoid it by setting the environment variable OMP_NUM_THREADS=2.\n",
      "  warnings.warn(\n"
     ]
    },
    {
     "name": "stdout",
     "output_type": "stream",
     "text": [
      "[13  6 11  5  6 13  4  8  2  8 10  4  5  1 11 12 10  7 11  5 13  4  0  4\n",
      "  3  4  5 14  3 11  8  3  3  8  6  8  8  7  7  6 13  4  4 11  6  4  6  8\n",
      " 10  0  8  0  6  5  0  1 11 13 11  3  6 13 11 10  3  3 11  1 11  7  4  7\n",
      " 13  6  3  4  1  6  8 11  4 14 11  3 14  6 14  4  1 10  1  1 11  8  1  6\n",
      " 13  5  8 13 13 12  1  5  4  5  6 13  5  6  1 11 12  0  1  5  0  1  0  1\n",
      " 12  3  8  0  6  1  7  4 11  3 14  6  8 10  0 11 13  4  5  0  4  5 14  7\n",
      " 13  3  8  1 11  3  2  3  3  8 11 11  5  5  8 11  4 11  6  0  7  0  5  4\n",
      "  8  2  5  8 12  1 11  6 14 14  2  2  6  3  3  0 14  6  3  5  8  8  4  6\n",
      " 11  4 12  7  5 13  6  4  2 14  7  1 11 11 11 11  6  8 13 14  5  4  3 11\n",
      "  3  5  5  1  5  8  5  6  7 10 11  0  8  8  6 11  8  5 13 11  6  0  4  5\n",
      " 12  5  8  5  7 14  2 10  6  2  1  6  2  5  7  1  6  3  6 11  1  8 13  8\n",
      "  5 11  6  3  3  5 12  3  0 13  5  1  3  0  3  8  4  7  7 13  4  6  6 11\n",
      "  5  8 14  6  6 13 13  1 10  1  6  6 14  6 13  0  0  1  0  0  9 13 10  7\n",
      " 14  6  4 11  2 11  8  6  0  7  0  6 11 10  0  8 13  1  4  3  1  1  3  3\n",
      "  0 11 13 10  5 14  8 14  9  4  1  6  5  1  7  4  8  4  0  1  1  4 10  1\n",
      "  8 11 10  4  0 10  0  5  8  0  8 13 14  0  3 13  0  5 11 13  0  6 11  4\n",
      " 11  4 11  3 14 13  3  3  5  8 13  6  3  3 11 14  0  6  8  4  6  4 10  8\n",
      "  1  2  5  4  6 11  7  3  6  2  0 13 14 11 10 11  1  7 13  4  3  5 11  4\n",
      "  7  1 10 14  5  3 14  4 11  8 11  1  0  1  4  5 13 12  6 10 12 11  3  8\n",
      " 14 11  1  5 11  8 11  0  4  3  6 12 13 11  6  6 14  2  6  7  0 10  5 11\n",
      "  6  4  1  8 14 11  8  3  6  7  3  3  0 11  0 12  6]\n"
     ]
    },
    {
     "name": "stderr",
     "output_type": "stream",
     "text": [
      "C:\\Users\\safibn\\Anaconda3\\lib\\site-packages\\sklearn\\cluster\\_kmeans.py:1332: UserWarning: KMeans is known to have a memory leak on Windows with MKL, when there are less chunks than available threads. You can avoid it by setting the environment variable OMP_NUM_THREADS=2.\n",
      "  warnings.warn(\n"
     ]
    },
    {
     "name": "stdout",
     "output_type": "stream",
     "text": [
      "[13 11  1  4 10 13 14  4  3 12  6  0  4 12  9  5  5  0  1  1 13  0  2  0\n",
      "  6  0  1  9  6 11  4  6  1  4 10  4 10 11 11 10 13  0  0  1  8  0 10 12\n",
      "  6  2  4  2 10  4 11 12  1 13  1  6 10 13  1  7  1  2  1  8  1 11  0 11\n",
      " 13 10  6 14  8  8 12  1  0  9  1  6  9 10  9 14  8  7 12  8  1 12 10 10\n",
      " 13  1  4 13 13  5 12  4  0  4 10 13  1 10 10  1  5  2  8  1  2 10  2  8\n",
      "  5  6 12  2 10 12 11  0  1  6 10 10 12  6  2  1 13  0  4  2  0  4  9 11\n",
      " 13  2 12 12  1  6  3  6  6 12  1  1  1  1  4  1  8  1 10  2 11  2  4 14\n",
      "  4  3  6  4  5 12  1 10  2 10  3  3 10  1  6  2  9 10  6  4  4  4  0 10\n",
      "  1  0  5 11  1 13 11  0  3  9 11 10  1  1  1  1 10  4 13  9  4  0  6  1\n",
      "  6  1  4 12  1 12  4 10 11  6  1  2 12 10 10  1  4  1  6  1  8  2  0  4\n",
      "  5  4  4  1 11 10  6  6  8  3  8 10  3  4 11  8 10  6 10  1  8  4 13 12\n",
      "  4  1 10  1  6  6  5  6  2 13  4  8  6  2  6  4  0 11 11 13  0 10  8  1\n",
      "  1 10 10 10 10 13 13 12  7  8 10  8 10 10 13  2  2 10  2  2 14 13  6 11\n",
      " 11  8  0  1  3  1  4  0  2 11  2 10  1  5  2  4  6  8  0  6 12 12  6  7\n",
      "  2  4 13  6 13  9 12  9 14  0  8 10  4  8 11  0  4  0  2  8 12  0  7  8\n",
      "  4  1  6  0  2  6  2  1 12  2 12 13 11  2  1 13  2  4  2 13  2 10  1 14\n",
      "  1  0  1  6 11 13  6  6  4  4 13 10  6  6  4 11  2 10  4 14 10  0  6 12\n",
      "  8  3  1  0 10  1 11  6 10  3  2  6  9  1  1  1  8 11 13  0  6  4  1  0\n",
      "  7 12  6 11  1  1 11 14  1 12  1 10  2 10  0  1 13  5 10  6  5  1  7  4\n",
      "  9  1  8  4  1  4  1  2  0  1 10  5 13  1 10  8 10  3 10  7  2  6  1  4\n",
      "  8  0 12  4  4  1 12  1  8 11  6  1  2  7  2  5 10]\n"
     ]
    },
    {
     "name": "stderr",
     "output_type": "stream",
     "text": [
      "C:\\Users\\safibn\\Anaconda3\\lib\\site-packages\\sklearn\\cluster\\_kmeans.py:1332: UserWarning: KMeans is known to have a memory leak on Windows with MKL, when there are less chunks than available threads. You can avoid it by setting the environment variable OMP_NUM_THREADS=2.\n",
      "  warnings.warn(\n"
     ]
    },
    {
     "name": "stdout",
     "output_type": "stream",
     "text": [
      "[ 6 12  1  1 12  9 14  9  8  4  2  0  1  3 11  6  6  0 11  1  6 14  1  0\n",
      "  2  0  1 11  2 11  9  2  1  4 12  9  4 10 10 12  9  0 14 11 14 14 12  3\n",
      "  2  1  4  1 12  9 10  3 11  6  6  2 12  9 11 13  1  1 11  3 11 10 14 10\n",
      "  9 12  2  0 14 14  4  1  0 11 11  2 11 12 12  0 14 13  3 14 11  4  4 12\n",
      "  9  1  4  9  6  5  3  9  0  9 12  9 11 12  4 11  5 10  4  1  1  4  1 14\n",
      "  5  2  9  1 12  3 10  0 11  2 12  4  4  2  1 11  6  0  9 10  0 11 12 10\n",
      "  6  1  4  3 11  2  8  2  2  3 11 11  1  1  4 11 14 11 12 10 10  1  1 14\n",
      "  9  5  1  9  5  3 11 12 12 12  8  8  4  1  2  1 11 12  2  4  4  9 14 12\n",
      " 11  0  6 10  1  6 12 14  8 12 10  4 11 11 11 11 12  4  6 10  9  0  2 11\n",
      "  2  1  9  4 11  9 11  3 10  6  1  1  4  4  4  1 11  1  6 11 12 10 14  1\n",
      "  6  9  9  1 10 12  8  2 12  8 14 12  8  9 10 14 12  6 12 11 12  4  6  4\n",
      "  1 11 12  1  2  2  5  2  1  6  1 14  2  1  2 11  0 10 10  9  0 12 12  1\n",
      "  1  4 12 12  4  6  9  4 13 14 12 14 12 12  6  1  1  3 10  1  7  9  2 10\n",
      " 10 12  0 11  8 11  9 12 12 10 12 12 11  6 12  4  2  3  0  2  3  3  2 13\n",
      "  1 11  6  6  9 12  3  4  7  0 12 12  9 14 10  0  4  0 10 14  4  0 13 14\n",
      "  4 11  2  0  1  2 12  1  4 12  9  6 11 12  1  6  1  4 10  9  1 12  1  0\n",
      " 11  0 11  2 10  9  2  2 11  4  6 12  2  2 11 12  1 12  4  0 12  0  2  4\n",
      "  4  8  1  0 12 11 10  1 12  8  1  6 12  1  6 11 12 10 11 14  2  1 11  0\n",
      " 13  4  2 12  1  1 10  0  1  4  1  4  1  4  0  1  9  5 12  2  6 11 13  4\n",
      " 10  1  4  9 11  4 11  1 14  2 12  5  6  1 12 12  4  8 12 13  1  6  1 11\n",
      " 12  0  3  9 11 11  3  2 12 10  2  1  1 13 10  5 12]\n"
     ]
    },
    {
     "name": "stderr",
     "output_type": "stream",
     "text": [
      "C:\\Users\\safibn\\Anaconda3\\lib\\site-packages\\sklearn\\cluster\\_kmeans.py:1332: UserWarning: KMeans is known to have a memory leak on Windows with MKL, when there are less chunks than available threads. You can avoid it by setting the environment variable OMP_NUM_THREADS=2.\n",
      "  warnings.warn(\n"
     ]
    },
    {
     "name": "stdout",
     "output_type": "stream",
     "text": [
      "[10  1  9  9  1  6 11  6 14  7 10  2  9  7  0 10 10  2  0  9  6  2  3  2\n",
      " 10  2  9 12  9  0  6 10  9  0  1  6  7 12 12  3  6  2  2  0  2  2  1  7\n",
      " 10  3  0  3  1  0  3  7  0 10 10  5  1  6  0  8  9  9  0  7  0 12  2 12\n",
      "  6  1 10 11  1  1  7  9  2  0  9  5  0  1  1 11  1 15  7  1  0  7  7  1\n",
      "  6  9  0  6 10  4  7  6  2  6  1  6  0  1  1  9  4  3  7  9  9  1  3  1\n",
      "  4  5  6  9  1  7 12  2  0 10  1  1  7 10  3  0 10  2  9 12  2  0  1 12\n",
      " 10  5  7  7  0  8 14  5 10  7  0  0  9  9  7  0  2  0  1  3 12  3  9 11\n",
      "  7 14  9  6  4  7 12  1  3  1 14 14  3  9  5  3  0  1  5  3  7  7  2  1\n",
      "  0  2  4 12  9 10  1  2 14  0 12  1  0  0  0  0  1  7  6 12  6  2  5  0\n",
      "  9  9  0  7  9  7  0  1 12 10  9  5  7  7  1  9  0  9 10  0  1  3  2  9\n",
      "  4  6  7  9 12  3  5 10  1 14  1  1 10  0 12  2  1 10  1  0  1  7  6  7\n",
      "  9  9  1  9  5  9  4 10  3  9  9  1  9  3 10  0  2 12 12  6  2  1  1  9\n",
      "  9  7  1  1  1 10  6  7 15  1  1  1  1  1  6  3  3  7  3  3 13  6  8 12\n",
      " 12  1  2  9 14  0  6  1  3 12  3  1  0 10  3  0 10  1  2  8  7  7  5  8\n",
      "  3  0 10 10  6  1  7  0 13  2  1  1  6  2 12  2  7  2  3  1  7 11 15  2\n",
      "  7  0 10  2  3 10  3  9  7  3  7 10  0  3  9 10  3  3  3  6  3  1  9 11\n",
      "  0  2  0  9 12  6  5  9  0  3 10  1  5 10  0 12  3  1  7 11  1  2 10  7\n",
      "  1 10  9  2  1  0 12  5  1 14  3 10  1  9 10  0  1 12  0  2  9  9  0  2\n",
      "  8  7  8  0  9  5 12 11  9  7  9  7  9  7  2  9  6  4  1 10  4  0  8  7\n",
      " 12  9  7  6  0  7  0  3  2  9  1  4  0  9  1  1  7 14  1  8  3 10  9  0\n",
      "  1  2  7  6  0  0  7  9  1 12  9  9  3  8 12  4  1]\n"
     ]
    },
    {
     "name": "stderr",
     "output_type": "stream",
     "text": [
      "C:\\Users\\safibn\\Anaconda3\\lib\\site-packages\\sklearn\\cluster\\_kmeans.py:1332: UserWarning: KMeans is known to have a memory leak on Windows with MKL, when there are less chunks than available threads. You can avoid it by setting the environment variable OMP_NUM_THREADS=2.\n",
      "  warnings.warn(\n"
     ]
    },
    {
     "name": "stdout",
     "output_type": "stream",
     "text": [
      "[ 4 10 13 13 10  4  6  0  7  0  9  3  5  0 13  8  8 15  5 13  4  6  1  6\n",
      "  9  6 13 15 13  5  0  9 13  5 10  0 12 15 15 10  4  3  3  5  3  6 10 12\n",
      "  9  1  5  1 10  5 15 12 13  4  9  9 10  4  5  2 13 13  5 12  5 15  6 15\n",
      "  4 10  9  6  3  3 12 13  6  5 13  9  5 10 10 11  3  2 12 12  5 12 12 10\n",
      "  4 13  5  4  4  8 12  5  3  5 10  4  5 10 12 13  8  1 12 13 13 12  1  3\n",
      "  8  9  0 13 10  0 15  6 13  9 10 12  0  9  1  5  4  3  5  1  3  5 10 15\n",
      "  4  1  0 12 13 13  7  9  9  0  5  5 13 13 12  5  3  5 10  1  1  1 13  6\n",
      "  0  7 13  0  8  0  1 10 10 10  7  7 12 13  9  1  5 10  9  5 12  0  6 10\n",
      "  5  6  8 15 13  4 10  3  7 10 15 12  5  5  5  5 10  5  4 15  4  6 13 13\n",
      " 13 13  5 12 13  0  5 10 15  9 13  1  0 12 12 13  5 13  9  5  3  1  3 13\n",
      "  8  5  0 13 15 10  9  9  3  7  3 10  9  5  1  3 10  9 10  5 10  5  4  0\n",
      " 13 13 10 13 13 13  8  9  1  4  5  3 13  1  9  5  6 15 15  4  3 10 10 13\n",
      " 13 12 10 10 12  4  4 12  2  3 10  3 10 10  4  1  1 12  1  1 14  4  9 15\n",
      " 15  3  6 13  7 13  0  3  1 15  1 10  5  9  1  5  9 10  3  9 12 12  9  2\n",
      "  1  5  4  9 13 10  0  5 14  3  3 10  0  3 15  3  5  6  1  3 12  6  2  3\n",
      "  0 13  9  6  1  9  1  5  0  1  0  4  5  1 13  4  1 12  1  4  1 10 13  6\n",
      "  5  3  5 13 15  4  9 13  5 12  4 10  9  9  5 10  1 10  5 11 10  6  9  0\n",
      " 12  9 13  6 10  5 15 13 10  7  1  9 10 13  9  5  3 15  5  6 13 13  5  6\n",
      "  2 12  9 10 13 13 15 11 13  0 13 12 13 12  3 13  5  8 10  9  8  1  2  0\n",
      " 15 13 12  0  1  0  5  1  3 13 10  8  5 13 10  3 10  7 10  2  1  9 13  5\n",
      "  3  6 12  0  5  5  0 13 10 15 13 13  1  2  1  8 10]\n"
     ]
    },
    {
     "name": "stderr",
     "output_type": "stream",
     "text": [
      "C:\\Users\\safibn\\Anaconda3\\lib\\site-packages\\sklearn\\cluster\\_kmeans.py:1332: UserWarning: KMeans is known to have a memory leak on Windows with MKL, when there are less chunks than available threads. You can avoid it by setting the environment variable OMP_NUM_THREADS=2.\n",
      "  warnings.warn(\n"
     ]
    },
    {
     "name": "stdout",
     "output_type": "stream",
     "text": [
      "[ 7  4 12 14  4 14  5  2 11  2  7  9 14  1  6  7  7 10 13 12 14  9 12  9\n",
      "  0  9  0  6  0 13 14  0  0 13  4 14  2 10 10  4 14  9  9 13  9  9  1  2\n",
      "  0 12 13 12  4 14 12  1 13  7  7  0  4 14 13 15  0  0 13  1 13 10  9 10\n",
      " 14  4  0  5  1  1  2 12  9 13 13  0 13  4  4  5  1 15  2  1 13  2  1  4\n",
      " 14 12 13 14  7  8  2 14  9 14  4 14 13  4  1  0  8 12  1  0 12  1 12  1\n",
      "  8  0  2 12  4  1 10  9 13  0  4  4  2 11 12 13  7  9 14  4  9 13  4 10\n",
      "  7  6  2  1  6  0 11  0  0  2 13 13  0  0  2 13  1 13  4 12  6 12 14  5\n",
      "  2  3  0 14  7  1  6  4  4  4 11 11  4  0  0 12 13  4  0  2  2  2  9  4\n",
      " 13  9  7 10  0  7  4  9 11  4 10  1 13 13 13 13  4  2 14 10 14  9  0 13\n",
      "  0  0 14  2 14  2 13  4 10  7  0  6  2  2  4  6 13  0  7 13  4 12  9 14\n",
      "  7 14  2 14 10  4 11  7  1 11  1  4 11 14  6  1  4  7  4 13  1  2 14  2\n",
      " 14  0  4  0  0  0  8  7 12 14 13  1  0 12  0 13  9 10 10 14  9  4  4 12\n",
      "  0  2  4  4  4  7 14  1 15  1  4  1  4  4 14 12 12  1 12 12  5 14  0 10\n",
      " 10  1  9  0  3 13  2  9 12 10 12  4 13  7 12 13  7  1  9  0  2  2  0  0\n",
      " 12 13 14  7 14  4  2 13  5  9  1  4 14  1  6  9  2  9 12  1  2  5 15  1\n",
      "  2 13  7  9 12  7 12 13  2 12  2  7 13 12  0  7 12  2 12 14 12  4 12  5\n",
      " 13  9 13  0  4 14  0  0 13  2  7  4 11  0 13  4 12  4  2  5  4  9  7  2\n",
      "  1 11  0  9  4 13 10  0  4 11 12  7  4 12  7 13  1 10 13  9  0  0 13  9\n",
      "  6  2 11  4 13  6 10  5 13  2  0  2 12  1  9  0 14  8  4  7  7  6  0  2\n",
      " 10  0  1 14  6  2 13 12  9  0  4  8 14 13  4  1  4 11  4 10 12  7  0 13\n",
      "  1  9  1 14 13 13  2  0  4 10  0  0 12  6  6  8  4]\n"
     ]
    },
    {
     "name": "stderr",
     "output_type": "stream",
     "text": [
      "C:\\Users\\safibn\\Anaconda3\\lib\\site-packages\\sklearn\\cluster\\_kmeans.py:1332: UserWarning: KMeans is known to have a memory leak on Windows with MKL, when there are less chunks than available threads. You can avoid it by setting the environment variable OMP_NUM_THREADS=2.\n",
      "  warnings.warn(\n"
     ]
    },
    {
     "name": "stdout",
     "output_type": "stream",
     "text": [
      "[ 6  3  2  7  4  6 15  9  8  9 12  3  7  4  5 12 12  3  7  2  6 15  2 15\n",
      " 16 15 16  0 16 10  9 16 16  7  0  9  4 10  3  2  9  3 15  7  3 15  4  4\n",
      "  1  2  7  2  0  7  2  4  7  6  5  6  4  6  7  1 16 16  7  4  7 10 15 10\n",
      "  6  3 16 15  4  4  9  2 15  0  5 16  0  4  0 11  4  1  4  4  7  9  4  4\n",
      "  6  2  7  6  5 14  9  9  3  9  3  6  7  4  4 16 14 10  4 16  2  4  2  4\n",
      " 14 16  9  2  4  4 10 15  7 16  0  4  9 12  2  7  6  3  7  0  3  7  0 10\n",
      "  6 16  9  4  5 16  8 16 16  9  7  7 16  7  7  7 15  7  3  2 10  2  6 15\n",
      "  9  8 16  9 12  4 10  0  0  0  8  8  2 16 16  2  0  0 16  7  9  9 15  4\n",
      "  7 15 12 10 16 12  3 15  8  0  3  4  7  7  7  7  4  7  6  0  6 15 16  5\n",
      " 16  7  7  4  7  9  7  4 10 12  7 16  9  4  4 16  7  7  6  7  3  0 15  2\n",
      " 12  7  9  7 10  0  8 12  4  8  4  4  8  7 10  4  3  5  0  7  4  7  6  9\n",
      "  7  5  4 16 16  6 14  5  2  5  7  4 16  2  6  7 15 10 10  6  3  4  0  2\n",
      " 16  4  0  4  4  6  9  4  1  4  4  3  0  4  5  2  2  4  2  2 13  6  1 10\n",
      "  0  4 15  5  8  5  9  3  2  3  2  0  7 12  2  7  6  4 15 16  4  4 16  1\n",
      "  2  7  5 12  6  0  9  0 13  3  4  2  9  4 10 15  7 15  2  4  4 15  1 15\n",
      "  9  5 12 15  2 12  2  7  9  2  9 12  0  2 16  6  2  2  2  9  2  4  2 15\n",
      "  7  3  7 16  0  6 16 16  7  2 12  4 16 16  7  0  2  4  7 11  0 15 12  9\n",
      "  4  8  7 15  4  7 10 16  0  8  2  5  0  2  5  7  4  3  5 15 16  7  7 15\n",
      " 10  4  1  0  7 16  0 11  7  9  7  4  2  4 15 16  7 14  3 12 12 10  1  9\n",
      "  0 16  4  9  2  9  7  2 15 16  4 12  7  7  4  4  0  8  4 10  2 12 16  7\n",
      "  4 15  4  9  7  7  9 16  3 10 16 16  2 10 10 14  3]\n"
     ]
    },
    {
     "name": "stderr",
     "output_type": "stream",
     "text": [
      "C:\\Users\\safibn\\Anaconda3\\lib\\site-packages\\sklearn\\cluster\\_kmeans.py:1332: UserWarning: KMeans is known to have a memory leak on Windows with MKL, when there are less chunks than available threads. You can avoid it by setting the environment variable OMP_NUM_THREADS=2.\n",
      "  warnings.warn(\n"
     ]
    },
    {
     "name": "stdout",
     "output_type": "stream",
     "text": [
      "[ 5  9  8  6  3  5  4 13  2  0  5  7  6  0  1 14  5  9  1  8  5  7  8  7\n",
      "  5  7 10 12 10 15 13 10 10 15  3 13  0  9  9  3 13  7  7 15  3  7  3  0\n",
      " 10  8 15  8  3  6  9  0  1  5  5  5  3 13  1 16  1  8  6  0 15  9  7  9\n",
      " 13  3  5  4  0  3  0  1  7 15  1 10 12  3 12  4  0 16  0  3 15  0  0  3\n",
      "  5  8 15 13  5 14  0  6  7  6  3 13 15  3  3  1 14  8  3 10  8  3  8  3\n",
      " 14 10 13  8  0  0  9  7  1 10 12  3  0  2  8  6  5  7  6  8  7  6 12  9\n",
      "  5  1  0  0  1 10  2 10 10  0 15 15 10  6 15  1  7 15  3  8  8  8  6  7\n",
      "  0 11 10 13 14  0  1  3  8 15  2  2  3 10 10  8 12  3 10  6  0  6  7  3\n",
      "  6  7 14  9 10  5  9  7  2 12  9  0 15 15 15 15  3  6 13 12  6  7 10  1\n",
      " 10  6  6  0  6 13  6  0  9  5  1  8  0  0  3  1  6  6  5  6  3  8  7  6\n",
      " 14  6  0  6  9 15  2  5  3  2  3  3  2  6  1  7  3  5  3 15  3 15  5  0\n",
      "  6  1  3 10 10  6 14  5  8  5  6  7 10  8  5 15  7  9  9 13  7  3 12  1\n",
      "  6  0  3  3  3  5 13  0 16  3  3  7  3  3 13  8  8  0  8  8  4 13 10  9\n",
      "  9  3  7  1  2  1 13  7  8  9  8  3  1  5  8 15  5  0  7 10  0  0 10 10\n",
      "  8  6  5  5  6 12  0 15  4  7  3  3 13  0  9  7  6  7  8  3  0  7 16  7\n",
      "  6  1  5  7  8  5  8  6  0  8  0  5 15  8 10  5  8  6  8 13  8  3  1  4\n",
      " 15  7 15 10 15 13 10 10  6  3  5  3  2  5 15 12  8  3  6  4  3  7  5  0\n",
      "  3  2  6  7  0 15  9 10  3  2  8  5 12  8  5 15  3  9  6  7 10  6  6  7\n",
      "  1  0  2 15  6 10  9  4  1  0 10  0  8  0  7 10  6 14  3  5 14  1 10  6\n",
      " 12  1  0  6  1 13  1  8  7 10  3 14  6  1  3  3 15  2  3 16  8  5 10  6\n",
      "  3  7  0 13 15  1  0 10  3  9 10  1  8  1  8 14  3]\n"
     ]
    },
    {
     "name": "stderr",
     "output_type": "stream",
     "text": [
      "C:\\Users\\safibn\\Anaconda3\\lib\\site-packages\\sklearn\\cluster\\_kmeans.py:1332: UserWarning: KMeans is known to have a memory leak on Windows with MKL, when there are less chunks than available threads. You can avoid it by setting the environment variable OMP_NUM_THREADS=2.\n",
      "  warnings.warn(\n"
     ]
    },
    {
     "name": "stdout",
     "output_type": "stream",
     "text": [
      "[ 5  3  8  6  3  5  4 13  2  0  5  7  6  0  1 14 14  9  1  8  5  7  8  7\n",
      "  5  7 10 12 10  1 13 10 10  6 15 13  0  9  9  3 13  7  7  1  3  7  3  0\n",
      " 10  8  6  8 15  6  9  0  1  5  5  5  3 13  1 16  8  8  6  0  1 15  7  9\n",
      " 13  3  5  4  3  3  0  1  7 15  1 10 15  3 15  4  0 16  0  3  1  0  0  3\n",
      "  5  8  6 13  5 14  0  6  7  6  3 13  6  3  3  1 14  8  3 10  8  3  8  3\n",
      " 14 10 13  8  0  0  9  7  1 10 15  3  0  2  8  6  5  7  6 15  7  6 12  9\n",
      "  5  8  0  0  1 10  2 10 10  0  1  1 10 10  0  1  7  1  3  8  9  8  6  7\n",
      "  0 11 10 13 14  0  1 15 15 15  2  2  3 10 10  8 15 15 10  6  0  6  7  3\n",
      "  6  7 14  9 10  5  3  7  2 15  9  0  1  1  1  1  3  6 13 12  6  7 10  1\n",
      " 10  6  6  0  6 13  6  0  9  5  1  8  0  0  3  1  6  6  5  6  3 15  7  6\n",
      " 14  6  0  6  9 15  2  5  3  2  3  3  2  6  1  3  3  5 15  6  3  6  5  0\n",
      "  6  1 15 10 10  5 14  5  8  5  6  7 10  8  5  6  7  9  9 13  7  3 15  1\n",
      " 10  0 15  3  3  5 13  0 16  3  3  7 15  3 13  8  8  0  8  8  4 13 10  9\n",
      " 15  3  7  1  2  1 13  7  8  9  8 15  1  5  8  6  5  0  7 10  0  0 10 10\n",
      "  8  6  5  5  6 12  0 15  4  7 15  3  6  0  9  7  6  7 15  3  0  7 16  7\n",
      "  6  1  5  7  8  5  8  6  0  8  0  5 15  8 10  5  8  6  1 13  8  3  1  4\n",
      "  1  7  1 10 15 13 10 10  6  3  5  3  2  5  6 15  8  3  6  4 15  7  5  0\n",
      "  3  2  6  7  0  6  9 10 15  2  8  5 15  1  1  1  3  9  6  7 10  6  6  7\n",
      "  1  0  2 15  6 10 15  4  1  0  1  0  8  0  7 10  6 14  3  5 14  1 10  6\n",
      " 12  1 15  6  1  6  1  8  7 10  3 14  6  1  3  3 15  2  3 16  8  5 10  6\n",
      "  3  7  0 13 15  1  0 10  3  9 10 10  8  1  8 14  3]\n"
     ]
    },
    {
     "name": "stderr",
     "output_type": "stream",
     "text": [
      "C:\\Users\\safibn\\Anaconda3\\lib\\site-packages\\sklearn\\cluster\\_kmeans.py:1332: UserWarning: KMeans is known to have a memory leak on Windows with MKL, when there are less chunks than available threads. You can avoid it by setting the environment variable OMP_NUM_THREADS=2.\n",
      "  warnings.warn(\n"
     ]
    },
    {
     "ename": "KeyboardInterrupt",
     "evalue": "",
     "output_type": "error",
     "traceback": [
      "\u001b[1;31m---------------------------------------------------------------------------\u001b[0m",
      "\u001b[1;31mKeyboardInterrupt\u001b[0m                         Traceback (most recent call last)",
      "\u001b[1;32m~\\AppData\\Local\\Temp\\ipykernel_38104\\1055272690.py\u001b[0m in \u001b[0;36m<module>\u001b[1;34m\u001b[0m\n\u001b[0;32m      8\u001b[0m     \u001b[1;32mfor\u001b[0m \u001b[0mj\u001b[0m \u001b[1;32min\u001b[0m \u001b[1;33m[\u001b[0m\u001b[1;36m0\u001b[0m\u001b[1;33m,\u001b[0m\u001b[1;36m1\u001b[0m\u001b[1;33m,\u001b[0m\u001b[1;36m2\u001b[0m\u001b[1;33m]\u001b[0m\u001b[1;33m:\u001b[0m\u001b[1;33m\u001b[0m\u001b[1;33m\u001b[0m\u001b[0m\n\u001b[0;32m      9\u001b[0m         \u001b[0mdf\u001b[0m \u001b[1;33m=\u001b[0m \u001b[0mdfs\u001b[0m\u001b[1;33m[\u001b[0m\u001b[0mj\u001b[0m\u001b[1;33m]\u001b[0m\u001b[1;33m\u001b[0m\u001b[1;33m\u001b[0m\u001b[0m\n\u001b[1;32m---> 10\u001b[1;33m         \u001b[0mypred\u001b[0m \u001b[1;33m=\u001b[0m \u001b[0mkmeans\u001b[0m\u001b[1;33m.\u001b[0m\u001b[0mfit\u001b[0m\u001b[1;33m(\u001b[0m\u001b[0mdf\u001b[0m\u001b[1;33m)\u001b[0m\u001b[1;33m\u001b[0m\u001b[1;33m\u001b[0m\u001b[0m\n\u001b[0m\u001b[0;32m     11\u001b[0m         \u001b[0mlabels\u001b[0m \u001b[1;33m=\u001b[0m \u001b[0mkmeans\u001b[0m\u001b[1;33m.\u001b[0m\u001b[0mlabels_\u001b[0m\u001b[1;33m\u001b[0m\u001b[1;33m\u001b[0m\u001b[0m\n\u001b[0;32m     12\u001b[0m         \u001b[0mprint\u001b[0m\u001b[1;33m(\u001b[0m\u001b[0mlabels\u001b[0m\u001b[1;33m)\u001b[0m\u001b[1;33m\u001b[0m\u001b[1;33m\u001b[0m\u001b[0m\n",
      "\u001b[1;32m~\\Anaconda3\\lib\\site-packages\\sklearn\\cluster\\_kmeans.py\u001b[0m in \u001b[0;36mfit\u001b[1;34m(self, X, y, sample_weight)\u001b[0m\n\u001b[0;32m   1406\u001b[0m         \u001b[1;32mfor\u001b[0m \u001b[0mi\u001b[0m \u001b[1;32min\u001b[0m \u001b[0mrange\u001b[0m\u001b[1;33m(\u001b[0m\u001b[0mself\u001b[0m\u001b[1;33m.\u001b[0m\u001b[0m_n_init\u001b[0m\u001b[1;33m)\u001b[0m\u001b[1;33m:\u001b[0m\u001b[1;33m\u001b[0m\u001b[1;33m\u001b[0m\u001b[0m\n\u001b[0;32m   1407\u001b[0m             \u001b[1;31m# Initialize centers\u001b[0m\u001b[1;33m\u001b[0m\u001b[1;33m\u001b[0m\u001b[0m\n\u001b[1;32m-> 1408\u001b[1;33m             centers_init = self._init_centroids(\n\u001b[0m\u001b[0;32m   1409\u001b[0m                 \u001b[0mX\u001b[0m\u001b[1;33m,\u001b[0m \u001b[0mx_squared_norms\u001b[0m\u001b[1;33m=\u001b[0m\u001b[0mx_squared_norms\u001b[0m\u001b[1;33m,\u001b[0m \u001b[0minit\u001b[0m\u001b[1;33m=\u001b[0m\u001b[0minit\u001b[0m\u001b[1;33m,\u001b[0m \u001b[0mrandom_state\u001b[0m\u001b[1;33m=\u001b[0m\u001b[0mrandom_state\u001b[0m\u001b[1;33m\u001b[0m\u001b[1;33m\u001b[0m\u001b[0m\n\u001b[0;32m   1410\u001b[0m             )\n",
      "\u001b[1;32m~\\Anaconda3\\lib\\site-packages\\sklearn\\cluster\\_kmeans.py\u001b[0m in \u001b[0;36m_init_centroids\u001b[1;34m(self, X, x_squared_norms, init, random_state, init_size, n_centroids)\u001b[0m\n\u001b[0;32m    950\u001b[0m \u001b[1;33m\u001b[0m\u001b[0m\n\u001b[0;32m    951\u001b[0m         \u001b[1;32mif\u001b[0m \u001b[0misinstance\u001b[0m\u001b[1;33m(\u001b[0m\u001b[0minit\u001b[0m\u001b[1;33m,\u001b[0m \u001b[0mstr\u001b[0m\u001b[1;33m)\u001b[0m \u001b[1;32mand\u001b[0m \u001b[0minit\u001b[0m \u001b[1;33m==\u001b[0m \u001b[1;34m\"k-means++\"\u001b[0m\u001b[1;33m:\u001b[0m\u001b[1;33m\u001b[0m\u001b[1;33m\u001b[0m\u001b[0m\n\u001b[1;32m--> 952\u001b[1;33m             centers, _ = _kmeans_plusplus(\n\u001b[0m\u001b[0;32m    953\u001b[0m                 \u001b[0mX\u001b[0m\u001b[1;33m,\u001b[0m\u001b[1;33m\u001b[0m\u001b[1;33m\u001b[0m\u001b[0m\n\u001b[0;32m    954\u001b[0m                 \u001b[0mn_clusters\u001b[0m\u001b[1;33m,\u001b[0m\u001b[1;33m\u001b[0m\u001b[1;33m\u001b[0m\u001b[0m\n",
      "\u001b[1;32m~\\Anaconda3\\lib\\site-packages\\sklearn\\cluster\\_kmeans.py\u001b[0m in \u001b[0;36m_kmeans_plusplus\u001b[1;34m(X, n_clusters, x_squared_norms, random_state, n_local_trials)\u001b[0m\n\u001b[0;32m    222\u001b[0m \u001b[1;33m\u001b[0m\u001b[0m\n\u001b[0;32m    223\u001b[0m         \u001b[1;31m# Compute distances to center candidates\u001b[0m\u001b[1;33m\u001b[0m\u001b[1;33m\u001b[0m\u001b[0m\n\u001b[1;32m--> 224\u001b[1;33m         distance_to_candidates = _euclidean_distances(\n\u001b[0m\u001b[0;32m    225\u001b[0m             \u001b[0mX\u001b[0m\u001b[1;33m[\u001b[0m\u001b[0mcandidate_ids\u001b[0m\u001b[1;33m]\u001b[0m\u001b[1;33m,\u001b[0m \u001b[0mX\u001b[0m\u001b[1;33m,\u001b[0m \u001b[0mY_norm_squared\u001b[0m\u001b[1;33m=\u001b[0m\u001b[0mx_squared_norms\u001b[0m\u001b[1;33m,\u001b[0m \u001b[0msquared\u001b[0m\u001b[1;33m=\u001b[0m\u001b[1;32mTrue\u001b[0m\u001b[1;33m\u001b[0m\u001b[1;33m\u001b[0m\u001b[0m\n\u001b[0;32m    226\u001b[0m         )\n",
      "\u001b[1;32m~\\Anaconda3\\lib\\site-packages\\sklearn\\metrics\\pairwise.py\u001b[0m in \u001b[0;36m_euclidean_distances\u001b[1;34m(X, Y, X_norm_squared, Y_norm_squared, squared)\u001b[0m\n\u001b[0;32m    369\u001b[0m     \u001b[1;32melse\u001b[0m\u001b[1;33m:\u001b[0m\u001b[1;33m\u001b[0m\u001b[1;33m\u001b[0m\u001b[0m\n\u001b[0;32m    370\u001b[0m         \u001b[1;31m# if dtype is already float64, no need to chunk and upcast\u001b[0m\u001b[1;33m\u001b[0m\u001b[1;33m\u001b[0m\u001b[0m\n\u001b[1;32m--> 371\u001b[1;33m         \u001b[0mdistances\u001b[0m \u001b[1;33m=\u001b[0m \u001b[1;33m-\u001b[0m\u001b[1;36m2\u001b[0m \u001b[1;33m*\u001b[0m \u001b[0msafe_sparse_dot\u001b[0m\u001b[1;33m(\u001b[0m\u001b[0mX\u001b[0m\u001b[1;33m,\u001b[0m \u001b[0mY\u001b[0m\u001b[1;33m.\u001b[0m\u001b[0mT\u001b[0m\u001b[1;33m,\u001b[0m \u001b[0mdense_output\u001b[0m\u001b[1;33m=\u001b[0m\u001b[1;32mTrue\u001b[0m\u001b[1;33m)\u001b[0m\u001b[1;33m\u001b[0m\u001b[1;33m\u001b[0m\u001b[0m\n\u001b[0m\u001b[0;32m    372\u001b[0m         \u001b[0mdistances\u001b[0m \u001b[1;33m+=\u001b[0m \u001b[0mXX\u001b[0m\u001b[1;33m\u001b[0m\u001b[1;33m\u001b[0m\u001b[0m\n\u001b[0;32m    373\u001b[0m         \u001b[0mdistances\u001b[0m \u001b[1;33m+=\u001b[0m \u001b[0mYY\u001b[0m\u001b[1;33m\u001b[0m\u001b[1;33m\u001b[0m\u001b[0m\n",
      "\u001b[1;32m~\\Anaconda3\\lib\\site-packages\\sklearn\\utils\\extmath.py\u001b[0m in \u001b[0;36msafe_sparse_dot\u001b[1;34m(a, b, dense_output)\u001b[0m\n\u001b[0;32m    150\u001b[0m             \u001b[0mret\u001b[0m \u001b[1;33m=\u001b[0m \u001b[0mnp\u001b[0m\u001b[1;33m.\u001b[0m\u001b[0mdot\u001b[0m\u001b[1;33m(\u001b[0m\u001b[0ma\u001b[0m\u001b[1;33m,\u001b[0m \u001b[0mb\u001b[0m\u001b[1;33m)\u001b[0m\u001b[1;33m\u001b[0m\u001b[1;33m\u001b[0m\u001b[0m\n\u001b[0;32m    151\u001b[0m     \u001b[1;32melse\u001b[0m\u001b[1;33m:\u001b[0m\u001b[1;33m\u001b[0m\u001b[1;33m\u001b[0m\u001b[0m\n\u001b[1;32m--> 152\u001b[1;33m         \u001b[0mret\u001b[0m \u001b[1;33m=\u001b[0m \u001b[0ma\u001b[0m \u001b[1;33m@\u001b[0m \u001b[0mb\u001b[0m\u001b[1;33m\u001b[0m\u001b[1;33m\u001b[0m\u001b[0m\n\u001b[0m\u001b[0;32m    153\u001b[0m \u001b[1;33m\u001b[0m\u001b[0m\n\u001b[0;32m    154\u001b[0m     if (\n",
      "\u001b[1;31mKeyboardInterrupt\u001b[0m: "
     ]
    }
   ],
   "source": [
    "closing_prices = pd.read_pickle(\"./data/stocks/closing_prices.pkl\")\n",
    "\n",
    "dfs = [normalize_transpose(get_rolling_average(closing_prices,d)) for d in [3,5,7]]\n",
    "silhouette_scores = [[] for d in [3,5,7]]\n",
    "noclusters = [i for i in range(3,61)]\n",
    "for i in noclusters:\n",
    "    kmeans = KMeans(n_clusters=i, init='k-means++', max_iter=300, n_init=10, random_state=0)\n",
    "    for j in [0,1,2]:\n",
    "        df = dfs[j]\n",
    "        ypred = kmeans.fit(df)\n",
    "        labels = kmeans.labels_\n",
    "        score = metrics.silhouette_score(df, labels, metric = 'euclidean')\n",
    "        silhouette_scores[j].append(score)\n"
   ]
  },
  {
   "cell_type": "code",
   "execution_count": 8,
   "id": "2bf0c013",
   "metadata": {},
   "outputs": [
    {
     "data": {
      "image/png": "[encoded data removed]",
      "text/plain": [
       "<Figure size 640x480 with 1 Axes>"
      ]
     },
     "metadata": {},
     "output_type": "display_data"
    }
   ],
   "source": [
    "plt.plot(noclusters, silhouette_scores[0])\n",
    "plt.title(\"3 day rolling average\", fontsize=14)\n",
    "\n",
    "plt.show()"
   ]
  },
  {
   "cell_type": "code",
   "execution_count": 9,
   "id": "970ebfda",
   "metadata": {},
   "outputs": [
    {
     "data": {
      "image/png": "[encoded data removed]",
      "text/plain": [
       "<Figure size 640x480 with 1 Axes>"
      ]
     },
     "metadata": {},
     "output_type": "display_data"
    }
   ],
   "source": [
    "plt.plot(noclusters, silhouette_scores[1])\n",
    "plt.title(\"5 day rolling average\", fontsize=14)\n",
    "\n",
    "plt.show()"
   ]
  },
  {
   "cell_type": "code",
   "execution_count": 10,
   "id": "e0eae89f",
   "metadata": {},
   "outputs": [
    {
     "data": {
      "image/png": "[encoded data removed]",
      "text/plain": [
       "<Figure size 640x480 with 1 Axes>"
      ]
     },
     "metadata": {},
     "output_type": "display_data"
    }
   ],
   "source": [
    "plt.plot(noclusters, silhouette_scores[2])\n",
    "plt.title(\"7 day rolling average\", fontsize=14)\n",
    "\n",
    "plt.show()"
   ]
  },
  {
   "cell_type": "code",
   "execution_count": 12,
   "id": "bec280d9",
   "metadata": {},
   "outputs": [
    {
     "data": {
      "text/plain": [
       "array([ 5,  3,  8,  6,  3,  5,  4, 13,  2,  0,  5,  7,  6,  0,  1, 14, 14,\n",
       "        9,  1,  8,  5,  7,  8,  7,  5,  7, 10, 12, 10,  1, 13, 10, 10,  6,\n",
       "       15, 13,  0,  9,  9,  3, 13,  7,  7,  1,  3,  7,  3,  0, 10,  8,  6,\n",
       "        8, 15,  6,  9,  0,  1,  5,  5,  5,  3, 13,  1, 16,  8,  8,  6,  0,\n",
       "        1, 15,  7,  9, 13,  3,  5,  4,  3,  3,  0,  1,  7, 15,  1, 10, 15,\n",
       "        3, 15,  4,  0, 16,  0,  3,  1,  0,  0,  3,  5,  8,  6, 13,  5, 14,\n",
       "        0,  6,  7,  6,  3, 13,  6,  3,  3,  1, 14,  8,  3, 10,  8,  3,  8,\n",
       "        3, 14, 10, 13,  8,  0,  0,  9,  7,  1, 10, 15,  3,  0,  2,  8,  6,\n",
       "        5,  7,  6, 15,  7,  6, 12,  9,  5,  8,  0,  0,  1, 10,  2, 10, 10,\n",
       "        0,  1,  1, 10, 10,  0,  1,  7,  1,  3,  8,  9,  8,  6,  7,  0, 11,\n",
       "       10, 13, 14,  0,  1, 15, 15, 15,  2,  2,  3, 10, 10,  8, 15, 15, 10,\n",
       "        6,  0,  6,  7,  3,  6,  7, 14,  9, 10,  5,  3,  7,  2, 15,  9,  0,\n",
       "        1,  1,  1,  1,  3,  6, 13, 12,  6,  7, 10,  1, 10,  6,  6,  0,  6,\n",
       "       13,  6,  0,  9,  5,  1,  8,  0,  0,  3,  1,  6,  6,  5,  6,  3, 15,\n",
       "        7,  6, 14,  6,  0,  6,  9, 15,  2,  5,  3,  2,  3,  3,  2,  6,  1,\n",
       "        3,  3,  5, 15,  6,  3,  6,  5,  0,  6,  1, 15, 10, 10,  5, 14,  5,\n",
       "        8,  5,  6,  7, 10,  8,  5,  6,  7,  9,  9, 13,  7,  3, 15,  1, 10,\n",
       "        0, 15,  3,  3,  5, 13,  0, 16,  3,  3,  7, 15,  3, 13,  8,  8,  0,\n",
       "        8,  8,  4, 13, 10,  9, 15,  3,  7,  1,  2,  1, 13,  7,  8,  9,  8,\n",
       "       15,  1,  5,  8,  6,  5,  0,  7, 10,  0,  0, 10, 10,  8,  6,  5,  5,\n",
       "        6, 12,  0, 15,  4,  7, 15,  3,  6,  0,  9,  7,  6,  7, 15,  3,  0,\n",
       "        7, 16,  7,  6,  1,  5,  7,  8,  5,  8,  6,  0,  8,  0,  5, 15,  8,\n",
       "       10,  5,  8,  6,  1, 13,  8,  3,  1,  4,  1,  7,  1, 10, 15, 13, 10,\n",
       "       10,  6,  3,  5,  3,  2,  5,  6, 15,  8,  3,  6,  4, 15,  7,  5,  0,\n",
       "        3,  2,  6,  7,  0,  6,  9, 10, 15,  2,  8,  5, 15,  1,  1,  1,  3,\n",
       "        9,  6,  7, 10,  6,  6,  7,  1,  0,  2, 15,  6, 10, 15,  4,  1,  0,\n",
       "        1,  0,  8,  0,  7, 10,  6, 14,  3,  5, 14,  1, 10,  6, 12,  1, 15,\n",
       "        6,  1,  6,  1,  8,  7, 10,  3, 14,  6,  1,  3,  3, 15,  2,  3, 16,\n",
       "        8,  5, 10,  6,  3,  7,  0, 13, 15,  1,  0, 10,  3,  9, 10, 10,  8,\n",
       "        1,  8, 14,  3])"
      ]
     },
     "execution_count": 12,
     "metadata": {},
     "output_type": "execute_result"
    }
   ],
   "source": [
    "labels"
   ]
  },
  {
   "cell_type": "code",
   "execution_count": 13,
   "id": "44107ffc",
   "metadata": {},
   "outputs": [
    {
     "data": {
      "text/html": [
       "<div>\n",
       "<style scoped>\n",
       "    .dataframe tbody tr th:only-of-type {\n",
       "        vertical-align: middle;\n",
       "    }\n",
       "\n",
       "    .dataframe tbody tr th {\n",
       "        vertical-align: top;\n",
       "    }\n",
       "\n",
       "    .dataframe thead th {\n",
       "        text-align: right;\n",
       "    }\n",
       "</style>\n",
       "<table border=\"1\" class=\"dataframe\">\n",
       "  <thead>\n",
       "    <tr style=\"text-align: right;\">\n",
       "      <th>Date</th>\n",
       "      <th>2022-11-01 00:00:00-04:00</th>\n",
       "      <th>2022-11-02 00:00:00-04:00</th>\n",
       "      <th>2022-11-03 00:00:00-04:00</th>\n",
       "      <th>2022-11-04 00:00:00-04:00</th>\n",
       "      <th>2022-11-07 00:00:00-05:00</th>\n",
       "      <th>2022-11-08 00:00:00-05:00</th>\n",
       "      <th>2022-11-09 00:00:00-05:00</th>\n",
       "      <th>2022-11-10 00:00:00-05:00</th>\n",
       "      <th>2022-11-11 00:00:00-05:00</th>\n",
       "      <th>2022-11-14 00:00:00-05:00</th>\n",
       "      <th>...</th>\n",
       "      <th>2023-10-16 00:00:00-04:00</th>\n",
       "      <th>2023-10-17 00:00:00-04:00</th>\n",
       "      <th>2023-10-18 00:00:00-04:00</th>\n",
       "      <th>2023-10-19 00:00:00-04:00</th>\n",
       "      <th>2023-10-20 00:00:00-04:00</th>\n",
       "      <th>2023-10-23 00:00:00-04:00</th>\n",
       "      <th>2023-10-24 00:00:00-04:00</th>\n",
       "      <th>2023-10-25 00:00:00-04:00</th>\n",
       "      <th>2023-10-26 00:00:00-04:00</th>\n",
       "      <th>2023-10-27 00:00:00-04:00</th>\n",
       "    </tr>\n",
       "  </thead>\n",
       "  <tbody>\n",
       "    <tr>\n",
       "      <th>MMM</th>\n",
       "      <td>0.071024</td>\n",
       "      <td>0.070465</td>\n",
       "      <td>0.070378</td>\n",
       "      <td>0.070723</td>\n",
       "      <td>0.071198</td>\n",
       "      <td>0.071006</td>\n",
       "      <td>0.071855</td>\n",
       "      <td>0.073305</td>\n",
       "      <td>0.074672</td>\n",
       "      <td>0.075065</td>\n",
       "      <td>...</td>\n",
       "      <td>0.053999</td>\n",
       "      <td>0.053942</td>\n",
       "      <td>0.053365</td>\n",
       "      <td>0.052562</td>\n",
       "      <td>0.052001</td>\n",
       "      <td>0.052614</td>\n",
       "      <td>0.053184</td>\n",
       "      <td>0.053796</td>\n",
       "      <td>0.053274</td>\n",
       "      <td>0.053300</td>\n",
       "    </tr>\n",
       "    <tr>\n",
       "      <th>AOS</th>\n",
       "      <td>0.051255</td>\n",
       "      <td>0.051127</td>\n",
       "      <td>0.051560</td>\n",
       "      <td>0.052569</td>\n",
       "      <td>0.053072</td>\n",
       "      <td>0.052780</td>\n",
       "      <td>0.053525</td>\n",
       "      <td>0.054791</td>\n",
       "      <td>0.056193</td>\n",
       "      <td>0.056542</td>\n",
       "      <td>...</td>\n",
       "      <td>0.068172</td>\n",
       "      <td>0.067601</td>\n",
       "      <td>0.066043</td>\n",
       "      <td>0.064396</td>\n",
       "      <td>0.063734</td>\n",
       "      <td>0.063616</td>\n",
       "      <td>0.063148</td>\n",
       "      <td>0.064017</td>\n",
       "      <td>0.064390</td>\n",
       "      <td>0.065760</td>\n",
       "    </tr>\n",
       "    <tr>\n",
       "      <th>ABT</th>\n",
       "      <td>0.059199</td>\n",
       "      <td>0.058702</td>\n",
       "      <td>0.058454</td>\n",
       "      <td>0.058746</td>\n",
       "      <td>0.059383</td>\n",
       "      <td>0.059661</td>\n",
       "      <td>0.060606</td>\n",
       "      <td>0.061495</td>\n",
       "      <td>0.062004</td>\n",
       "      <td>0.061787</td>\n",
       "      <td>...</td>\n",
       "      <td>0.056083</td>\n",
       "      <td>0.057039</td>\n",
       "      <td>0.057703</td>\n",
       "      <td>0.058649</td>\n",
       "      <td>0.058694</td>\n",
       "      <td>0.058566</td>\n",
       "      <td>0.057911</td>\n",
       "      <td>0.057545</td>\n",
       "      <td>0.057145</td>\n",
       "      <td>0.057029</td>\n",
       "    </tr>\n",
       "    <tr>\n",
       "      <th>ABBV</th>\n",
       "      <td>0.060523</td>\n",
       "      <td>0.060249</td>\n",
       "      <td>0.060023</td>\n",
       "      <td>0.060518</td>\n",
       "      <td>0.061086</td>\n",
       "      <td>0.061410</td>\n",
       "      <td>0.061634</td>\n",
       "      <td>0.061859</td>\n",
       "      <td>0.062429</td>\n",
       "      <td>0.062888</td>\n",
       "      <td>...</td>\n",
       "      <td>0.063908</td>\n",
       "      <td>0.064098</td>\n",
       "      <td>0.063852</td>\n",
       "      <td>0.063428</td>\n",
       "      <td>0.062773</td>\n",
       "      <td>0.062887</td>\n",
       "      <td>0.062747</td>\n",
       "      <td>0.062815</td>\n",
       "      <td>0.061754</td>\n",
       "      <td>0.061269</td>\n",
       "    </tr>\n",
       "    <tr>\n",
       "      <th>ACN</th>\n",
       "      <td>0.060085</td>\n",
       "      <td>0.058148</td>\n",
       "      <td>0.056691</td>\n",
       "      <td>0.056449</td>\n",
       "      <td>0.057320</td>\n",
       "      <td>0.057699</td>\n",
       "      <td>0.058986</td>\n",
       "      <td>0.060496</td>\n",
       "      <td>0.062108</td>\n",
       "      <td>0.062512</td>\n",
       "      <td>...</td>\n",
       "      <td>0.066694</td>\n",
       "      <td>0.066835</td>\n",
       "      <td>0.066660</td>\n",
       "      <td>0.065841</td>\n",
       "      <td>0.065197</td>\n",
       "      <td>0.064698</td>\n",
       "      <td>0.064383</td>\n",
       "      <td>0.064172</td>\n",
       "      <td>0.063731</td>\n",
       "      <td>0.063733</td>\n",
       "    </tr>\n",
       "    <tr>\n",
       "      <th>...</th>\n",
       "      <td>...</td>\n",
       "      <td>...</td>\n",
       "      <td>...</td>\n",
       "      <td>...</td>\n",
       "      <td>...</td>\n",
       "      <td>...</td>\n",
       "      <td>...</td>\n",
       "      <td>...</td>\n",
       "      <td>...</td>\n",
       "      <td>...</td>\n",
       "      <td>...</td>\n",
       "      <td>...</td>\n",
       "      <td>...</td>\n",
       "      <td>...</td>\n",
       "      <td>...</td>\n",
       "      <td>...</td>\n",
       "      <td>...</td>\n",
       "      <td>...</td>\n",
       "      <td>...</td>\n",
       "      <td>...</td>\n",
       "      <td>...</td>\n",
       "    </tr>\n",
       "    <tr>\n",
       "      <th>YUM</th>\n",
       "      <td>0.056827</td>\n",
       "      <td>0.057028</td>\n",
       "      <td>0.057611</td>\n",
       "      <td>0.058436</td>\n",
       "      <td>0.058899</td>\n",
       "      <td>0.058942</td>\n",
       "      <td>0.059203</td>\n",
       "      <td>0.059355</td>\n",
       "      <td>0.059443</td>\n",
       "      <td>0.059312</td>\n",
       "      <td>...</td>\n",
       "      <td>0.058051</td>\n",
       "      <td>0.058724</td>\n",
       "      <td>0.059069</td>\n",
       "      <td>0.059152</td>\n",
       "      <td>0.058788</td>\n",
       "      <td>0.058681</td>\n",
       "      <td>0.058740</td>\n",
       "      <td>0.058738</td>\n",
       "      <td>0.058662</td>\n",
       "      <td>0.058590</td>\n",
       "    </tr>\n",
       "    <tr>\n",
       "      <th>ZBRA</th>\n",
       "      <td>0.058106</td>\n",
       "      <td>0.053818</td>\n",
       "      <td>0.053224</td>\n",
       "      <td>0.053250</td>\n",
       "      <td>0.053812</td>\n",
       "      <td>0.053530</td>\n",
       "      <td>0.054838</td>\n",
       "      <td>0.057042</td>\n",
       "      <td>0.058928</td>\n",
       "      <td>0.059555</td>\n",
       "      <td>...</td>\n",
       "      <td>0.048697</td>\n",
       "      <td>0.048865</td>\n",
       "      <td>0.048177</td>\n",
       "      <td>0.047529</td>\n",
       "      <td>0.047235</td>\n",
       "      <td>0.047229</td>\n",
       "      <td>0.046797</td>\n",
       "      <td>0.046761</td>\n",
       "      <td>0.046859</td>\n",
       "      <td>0.047692</td>\n",
       "    </tr>\n",
       "    <tr>\n",
       "      <th>ZBH</th>\n",
       "      <td>0.055457</td>\n",
       "      <td>0.054136</td>\n",
       "      <td>0.052972</td>\n",
       "      <td>0.052945</td>\n",
       "      <td>0.053080</td>\n",
       "      <td>0.053233</td>\n",
       "      <td>0.054128</td>\n",
       "      <td>0.055682</td>\n",
       "      <td>0.056938</td>\n",
       "      <td>0.057308</td>\n",
       "      <td>...</td>\n",
       "      <td>0.053038</td>\n",
       "      <td>0.053356</td>\n",
       "      <td>0.053315</td>\n",
       "      <td>0.052974</td>\n",
       "      <td>0.052802</td>\n",
       "      <td>0.052807</td>\n",
       "      <td>0.052652</td>\n",
       "      <td>0.052310</td>\n",
       "      <td>0.052033</td>\n",
       "      <td>0.051994</td>\n",
       "    </tr>\n",
       "    <tr>\n",
       "      <th>ZION</th>\n",
       "      <td>0.080533</td>\n",
       "      <td>0.078523</td>\n",
       "      <td>0.077550</td>\n",
       "      <td>0.077771</td>\n",
       "      <td>0.079134</td>\n",
       "      <td>0.079320</td>\n",
       "      <td>0.081635</td>\n",
       "      <td>0.084336</td>\n",
       "      <td>0.086246</td>\n",
       "      <td>0.085848</td>\n",
       "      <td>...</td>\n",
       "      <td>0.059017</td>\n",
       "      <td>0.059633</td>\n",
       "      <td>0.057608</td>\n",
       "      <td>0.053876</td>\n",
       "      <td>0.050772</td>\n",
       "      <td>0.049462</td>\n",
       "      <td>0.049281</td>\n",
       "      <td>0.049501</td>\n",
       "      <td>0.049275</td>\n",
       "      <td>0.049468</td>\n",
       "    </tr>\n",
       "    <tr>\n",
       "      <th>ZTS</th>\n",
       "      <td>0.056205</td>\n",
       "      <td>0.053757</td>\n",
       "      <td>0.051382</td>\n",
       "      <td>0.050197</td>\n",
       "      <td>0.050829</td>\n",
       "      <td>0.050767</td>\n",
       "      <td>0.051359</td>\n",
       "      <td>0.052898</td>\n",
       "      <td>0.054553</td>\n",
       "      <td>0.055452</td>\n",
       "      <td>...</td>\n",
       "      <td>0.065738</td>\n",
       "      <td>0.065131</td>\n",
       "      <td>0.064235</td>\n",
       "      <td>0.063335</td>\n",
       "      <td>0.062954</td>\n",
       "      <td>0.062838</td>\n",
       "      <td>0.062409</td>\n",
       "      <td>0.061351</td>\n",
       "      <td>0.059959</td>\n",
       "      <td>0.059122</td>\n",
       "    </tr>\n",
       "  </tbody>\n",
       "</table>\n",
       "<p>497 rows × 249 columns</p>\n",
       "</div>"
      ],
      "text/plain": [
       "Date  2022-11-01 00:00:00-04:00  2022-11-02 00:00:00-04:00  \\\n",
       "MMM                    0.071024                   0.070465   \n",
       "AOS                    0.051255                   0.051127   \n",
       "ABT                    0.059199                   0.058702   \n",
       "ABBV                   0.060523                   0.060249   \n",
       "ACN                    0.060085                   0.058148   \n",
       "...                         ...                        ...   \n",
       "YUM                    0.056827                   0.057028   \n",
       "ZBRA                   0.058106                   0.053818   \n",
       "ZBH                    0.055457                   0.054136   \n",
       "ZION                   0.080533                   0.078523   \n",
       "ZTS                    0.056205                   0.053757   \n",
       "\n",
       "Date  2022-11-03 00:00:00-04:00  2022-11-04 00:00:00-04:00  \\\n",
       "MMM                    0.070378                   0.070723   \n",
       "AOS                    0.051560                   0.052569   \n",
       "ABT                    0.058454                   0.058746   \n",
       "ABBV                   0.060023                   0.060518   \n",
       "ACN                    0.056691                   0.056449   \n",
       "...                         ...                        ...   \n",
       "YUM                    0.057611                   0.058436   \n",
       "ZBRA                   0.053224                   0.053250   \n",
       "ZBH                    0.052972                   0.052945   \n",
       "ZION                   0.077550                   0.077771   \n",
       "ZTS                    0.051382                   0.050197   \n",
       "\n",
       "Date  2022-11-07 00:00:00-05:00  2022-11-08 00:00:00-05:00  \\\n",
       "MMM                    0.071198                   0.071006   \n",
       "AOS                    0.053072                   0.052780   \n",
       "ABT                    0.059383                   0.059661   \n",
       "ABBV                   0.061086                   0.061410   \n",
       "ACN                    0.057320                   0.057699   \n",
       "...                         ...                        ...   \n",
       "YUM                    0.058899                   0.058942   \n",
       "ZBRA                   0.053812                   0.053530   \n",
       "ZBH                    0.053080                   0.053233   \n",
       "ZION                   0.079134                   0.079320   \n",
       "ZTS                    0.050829                   0.050767   \n",
       "\n",
       "Date  2022-11-09 00:00:00-05:00  2022-11-10 00:00:00-05:00  \\\n",
       "MMM                    0.071855                   0.073305   \n",
       "AOS                    0.053525                   0.054791   \n",
       "ABT                    0.060606                   0.061495   \n",
       "ABBV                   0.061634                   0.061859   \n",
       "ACN                    0.058986                   0.060496   \n",
       "...                         ...                        ...   \n",
       "YUM                    0.059203                   0.059355   \n",
       "ZBRA                   0.054838                   0.057042   \n",
       "ZBH                    0.054128                   0.055682   \n",
       "ZION                   0.081635                   0.084336   \n",
       "ZTS                    0.051359                   0.052898   \n",
       "\n",
       "Date  2022-11-11 00:00:00-05:00  2022-11-14 00:00:00-05:00  ...  \\\n",
       "MMM                    0.074672                   0.075065  ...   \n",
       "AOS                    0.056193                   0.056542  ...   \n",
       "ABT                    0.062004                   0.061787  ...   \n",
       "ABBV                   0.062429                   0.062888  ...   \n",
       "ACN                    0.062108                   0.062512  ...   \n",
       "...                         ...                        ...  ...   \n",
       "YUM                    0.059443                   0.059312  ...   \n",
       "ZBRA                   0.058928                   0.059555  ...   \n",
       "ZBH                    0.056938                   0.057308  ...   \n",
       "ZION                   0.086246                   0.085848  ...   \n",
       "ZTS                    0.054553                   0.055452  ...   \n",
       "\n",
       "Date  2023-10-16 00:00:00-04:00  2023-10-17 00:00:00-04:00  \\\n",
       "MMM                    0.053999                   0.053942   \n",
       "AOS                    0.068172                   0.067601   \n",
       "ABT                    0.056083                   0.057039   \n",
       "ABBV                   0.063908                   0.064098   \n",
       "ACN                    0.066694                   0.066835   \n",
       "...                         ...                        ...   \n",
       "YUM                    0.058051                   0.058724   \n",
       "ZBRA                   0.048697                   0.048865   \n",
       "ZBH                    0.053038                   0.053356   \n",
       "ZION                   0.059017                   0.059633   \n",
       "ZTS                    0.065738                   0.065131   \n",
       "\n",
       "Date  2023-10-18 00:00:00-04:00  2023-10-19 00:00:00-04:00  \\\n",
       "MMM                    0.053365                   0.052562   \n",
       "AOS                    0.066043                   0.064396   \n",
       "ABT                    0.057703                   0.058649   \n",
       "ABBV                   0.063852                   0.063428   \n",
       "ACN                    0.066660                   0.065841   \n",
       "...                         ...                        ...   \n",
       "YUM                    0.059069                   0.059152   \n",
       "ZBRA                   0.048177                   0.047529   \n",
       "ZBH                    0.053315                   0.052974   \n",
       "ZION                   0.057608                   0.053876   \n",
       "ZTS                    0.064235                   0.063335   \n",
       "\n",
       "Date  2023-10-20 00:00:00-04:00  2023-10-23 00:00:00-04:00  \\\n",
       "MMM                    0.052001                   0.052614   \n",
       "AOS                    0.063734                   0.063616   \n",
       "ABT                    0.058694                   0.058566   \n",
       "ABBV                   0.062773                   0.062887   \n",
       "ACN                    0.065197                   0.064698   \n",
       "...                         ...                        ...   \n",
       "YUM                    0.058788                   0.058681   \n",
       "ZBRA                   0.047235                   0.047229   \n",
       "ZBH                    0.052802                   0.052807   \n",
       "ZION                   0.050772                   0.049462   \n",
       "ZTS                    0.062954                   0.062838   \n",
       "\n",
       "Date  2023-10-24 00:00:00-04:00  2023-10-25 00:00:00-04:00  \\\n",
       "MMM                    0.053184                   0.053796   \n",
       "AOS                    0.063148                   0.064017   \n",
       "ABT                    0.057911                   0.057545   \n",
       "ABBV                   0.062747                   0.062815   \n",
       "ACN                    0.064383                   0.064172   \n",
       "...                         ...                        ...   \n",
       "YUM                    0.058740                   0.058738   \n",
       "ZBRA                   0.046797                   0.046761   \n",
       "ZBH                    0.052652                   0.052310   \n",
       "ZION                   0.049281                   0.049501   \n",
       "ZTS                    0.062409                   0.061351   \n",
       "\n",
       "Date  2023-10-26 00:00:00-04:00  2023-10-27 00:00:00-04:00  \n",
       "MMM                    0.053274                   0.053300  \n",
       "AOS                    0.064390                   0.065760  \n",
       "ABT                    0.057145                   0.057029  \n",
       "ABBV                   0.061754                   0.061269  \n",
       "ACN                    0.063731                   0.063733  \n",
       "...                         ...                        ...  \n",
       "YUM                    0.058662                   0.058590  \n",
       "ZBRA                   0.046859                   0.047692  \n",
       "ZBH                    0.052033                   0.051994  \n",
       "ZION                   0.049275                   0.049468  \n",
       "ZTS                    0.059959                   0.059122  \n",
       "\n",
       "[497 rows x 249 columns]"
      ]
     },
     "execution_count": 13,
     "metadata": {},
     "output_type": "execute_result"
    }
   ],
   "source": [
    "df"
   ]
  },
  {
   "cell_type": "code",
   "execution_count": null,
   "id": "8356db47",
   "metadata": {},
   "outputs": [],
   "source": []
  }
 ],
 "metadata": {
  "kernelspec": {
   "display_name": "Python 3 (ipykernel)",
   "language": "python",
   "name": "python3"
  },
  "language_info": {
   "codemirror_mode": {
    "name": "ipython",
    "version": 3
   },
   "file_extension": ".py",
   "mimetype": "text/x-python",
   "name": "python",
   "nbconvert_exporter": "python",
   "pygments_lexer": "ipython3",
   "version": "3.9.12"
  }
 },
 "nbformat": 4,
 "nbformat_minor": 5
}
