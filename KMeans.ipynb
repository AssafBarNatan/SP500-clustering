{
 "cells": [
  {
   "cell_type": "code",
   "execution_count": 1,
   "id": "18193a44",
   "metadata": {},
   "outputs": [],
   "source": [
    "# Importing some things to get rid of warnings\n",
    "import os\n",
    "nthreads = 1\n",
    "os.environ[\"OMP_NUM_THREADS\"] = str(nthreads) \n",
    "os.environ[\"OPENBLAS_NUM_THREADS\"] = str(nthreads) \n",
    "os.environ[\"MKL_NUM_THREADS\"] = str(nthreads)\n",
    "\n",
    "import warnings\n",
    "warnings.filterwarnings(\"ignore\", \"is_categorical_dtype\")\n",
    "warnings.filterwarnings(\"ignore\", \"use_inf_as_na\")"
   ]
  },
  {
   "cell_type": "code",
   "execution_count": 2,
   "id": "0e164ef7",
   "metadata": {},
   "outputs": [],
   "source": [
    "# The usual suspects\n",
    "\n",
    "import numpy as np\n",
    "import pandas as pd\n",
    "import numpy as np\n",
    "import matplotlib.pyplot as plt\n",
    "import seaborn as sns\n",
    "from sklearn.metrics import davies_bouldin_score, calinski_harabasz_score, silhouette_score\n",
    "from sklearn.cluster import KMeans\n",
    "\n",
    "import SP500models as models"
   ]
  },
  {
   "cell_type": "code",
   "execution_count": 3,
   "id": "0983f453",
   "metadata": {},
   "outputs": [],
   "source": [
    "from data_processing.preprocessing import sharpe_normalize, risk\n",
    "from data_processing.preprocessing import l2_normalization\n",
    "\n",
    "closing_prices = pd.read_pickle(\"./data/stocks/closing_prices.pkl\")\n",
    "sharpe = sharpe_normalize(closing_prices)"
   ]
  },
  {
   "cell_type": "markdown",
   "id": "2303c1fa",
   "metadata": {},
   "source": [
    "To do the clustering, I made a class that keeps all of the running scores and the relevant data. This makes it easier to tune parameters down the line."
   ]
  },
  {
   "cell_type": "code",
   "execution_count": 4,
   "id": "67f97bfa",
   "metadata": {},
   "outputs": [],
   "source": [
    "class KMeans_Clustering_SP500():\n",
    "    def __init__(self, n_min = 2, n_max = None, smoothing = 1, test_size = 7, use_validation = True):\n",
    "\n",
    "        self.smoothing = smoothing\n",
    "        self.test_size = 7        \n",
    "        self.scores = {\"DaviesBouldin\": [], \"CalinskiHarabasz\": [], \"Silhouette\": []}\n",
    "        self.labels = []\n",
    "        \n",
    "        self.n_min = n_min\n",
    "        self.n_max = n_max\n",
    "        \n",
    "        self.val = use_validation\n",
    "    \n",
    "    # the fit function behaves almost exactly like the usual scikit learn models.\n",
    "    def fit(self, data):\n",
    "        self.X = data\n",
    "        self.n_min = 2\n",
    "        \n",
    "        # If no maximum clusters given, use the data\n",
    "        if self.n_max == None:\n",
    "            self.n_max = len(self.X.columns) - 1\n",
    "        \n",
    "        # doing the train-test split\n",
    "        if self.val == True:\n",
    "            self.X_train = self.X.iloc[:-self.test_size, :]\n",
    "            self.X_test = self.X.iloc[-self.test_size:, :]\n",
    "        \n",
    "        if self.val == False:\n",
    "            self.X_train = self.X\n",
    "            self.X_test = self.X\n",
    "        \n",
    "        # reweighing the data\n",
    "        weights = [self.smoothing ** k for k in range(self.X_train.shape[0])]\n",
    "        self.X_train_transformed = self.X_train.mul(weights, axis = 0)\n",
    "\n",
    "        \n",
    "        # perform the kmeans fitting for each n between n_min and n_max:\n",
    "        for i in range(self.n_min, self.n_max):\n",
    "            print(f\"Fitting Kmeans with {i} clusters\")\n",
    "            kmeans = KMeans(n_clusters = i, \n",
    "                            init='k-means++', \n",
    "                            max_iter=300, \n",
    "                            n_init=10, \n",
    "                            random_state=0).fit(self.X_train_transformed.T.values)\n",
    "            # stores the labels of the clustering\n",
    "            self.labels.append(kmeans.labels_)\n",
    "            \n",
    "            # scores the clustering\n",
    "            DB_test = davies_bouldin_score(self.X_test.T.values, kmeans.labels_)\n",
    "            CH_test = calinski_harabasz_score(self.X_test.T.values, kmeans.labels_)\n",
    "            Sil_test = silhouette_score(self.X_test.T.values, kmeans.labels_, metric='euclidean')\n",
    "            \n",
    "            self.scores[\"DaviesBouldin\"].append(DB_test)\n",
    "            self.scores[\"CalinskiHarabasz\"].append(CH_test)\n",
    "            self.scores[\"Silhouette\"].append(Sil_test)\n",
    "        \n",
    "    # this bit of code produces pretty pictures.\n",
    "    def summarize(self, comparison = None):\n",
    "        comparison_labels = list(comparison.values())\n",
    "\n",
    "        DB_compare = davies_bouldin_score(self.X_test.values.T, \n",
    "                                          comparison_labels)\n",
    "        CH_compare = calinski_harabasz_score(self.X_test.values.T, \n",
    "                                             comparison_labels)\n",
    "        Sil_compare = silhouette_score(self.X_test.values.T, \n",
    "                                       comparison_labels, \n",
    "                                       metric='euclidean')\n",
    "\n",
    "        f, axarr = plt.subplots(3, sharex=True)\n",
    "        f.set_figheight(12)\n",
    "        f.set_figwidth(12)\n",
    "\n",
    "        axarr[0].set_title(\"Comparing scores between kmeans and Industry clusters (in red)\")\n",
    "        axarr[2].set_xlabel(\"number of clusters in kmeans\")\n",
    "\n",
    "        p1 = sns.lineplot(x = list(range(self.n_min, self.n_max)), \n",
    "                          y = self.scores[\"DaviesBouldin\"], \n",
    "                          ax = axarr[0])\n",
    "        p1.axhline(y = DB_compare, color = 'red')\n",
    "        p1.set_ylabel(\"Davies Bouldin Score (low is good)\")\n",
    "\n",
    "        p2 = sns.lineplot(x = list(range(self.n_min, self.n_max)), \n",
    "                          y = self.scores[\"CalinskiHarabasz\"],\n",
    "                          ax = axarr[1], \n",
    "                          legend = False)\n",
    "        p2.axhline(y = CH_compare, color = 'red')\n",
    "        p2.set_ylabel(\"Calinski Harabasz Score (high is good)\")\n",
    "\n",
    "        p3 = sns.lineplot(x = list(range(kmeansSP500.n_min, kmeansSP500.n_max)), \n",
    "                          y = self.scores[\"Silhouette\"], \n",
    "                          ax = axarr[2], \n",
    "                          legend = False)\n",
    "        p3.axhline(y = Sil_compare, color = 'red')\n",
    "        p3.set_ylabel(\"Silhouette Score (high is good)\")\n",
    "\n",
    "        plt.show()"
   ]
  },
  {
   "cell_type": "markdown",
   "id": "3af4d87b",
   "metadata": {},
   "source": [
    "# Doing the fitting and modeling"
   ]
  },
  {
   "cell_type": "markdown",
   "id": "814eee24",
   "metadata": {},
   "source": [
    "For this kmeans, we tune two parameters that do not exist in the usual kmeans algorithm:\n",
    "- smoothing: the idea is to scale down data that is far from the prediction horizon. This smoothing factor is a number between 0 and 1, and if $r_{-i}$ is the return of investment $i$ days ago, then the smoothing factor transforms the data $r_{-i} \\to (smoothing)^i * r_{-i}$. In other words, it exponentially decays the effect of older days\n",
    "- test_size: since we are doing a time series, all clustering metrics are measured on the validation data instead of the training data. test_size tunes this parameter. This can be toggled on or off with the use_validation argument, which is by default set to True."
   ]
  },
  {
   "cell_type": "code",
   "execution_count": 5,
   "id": "93659fcc",
   "metadata": {},
   "outputs": [],
   "source": [
    "import pickle\n",
    "with open('./models/industry_clusters.pkl', 'rb') as handle:\n",
    "    industry_clusters = pickle.load(handle)\n",
    "\n",
    "kmeansSP500 = KMeans_Clustering_SP500(n_min = 2, \n",
    "                                      n_max = 30, \n",
    "                                      smoothing = 0.88, \n",
    "                                      test_size = 7, \n",
    "                                      use_validation = True)"
   ]
  },
  {
   "cell_type": "markdown",
   "id": "8782b812",
   "metadata": {},
   "source": [
    "# Clustering closing prices"
   ]
  },
  {
   "cell_type": "code",
   "execution_count": 8,
   "id": "3ee2c143",
   "metadata": {},
   "outputs": [
    {
     "name": "stdout",
     "output_type": "stream",
     "text": [
      "Fitting Kmeans with 2 clusters\n",
      "Fitting Kmeans with 3 clusters\n",
      "Fitting Kmeans with 4 clusters\n",
      "Fitting Kmeans with 5 clusters\n",
      "Fitting Kmeans with 6 clusters\n",
      "Fitting Kmeans with 7 clusters\n",
      "Fitting Kmeans with 8 clusters\n",
      "Fitting Kmeans with 9 clusters\n",
      "Fitting Kmeans with 10 clusters\n",
      "Fitting Kmeans with 11 clusters\n",
      "Fitting Kmeans with 12 clusters\n",
      "Fitting Kmeans with 13 clusters\n",
      "Fitting Kmeans with 14 clusters\n",
      "Fitting Kmeans with 15 clusters\n",
      "Fitting Kmeans with 16 clusters\n",
      "Fitting Kmeans with 17 clusters\n",
      "Fitting Kmeans with 18 clusters\n",
      "Fitting Kmeans with 19 clusters\n",
      "Fitting Kmeans with 20 clusters\n",
      "Fitting Kmeans with 21 clusters\n",
      "Fitting Kmeans with 22 clusters\n",
      "Fitting Kmeans with 23 clusters\n",
      "Fitting Kmeans with 24 clusters\n",
      "Fitting Kmeans with 25 clusters\n",
      "Fitting Kmeans with 26 clusters\n",
      "Fitting Kmeans with 27 clusters\n",
      "Fitting Kmeans with 28 clusters\n",
      "Fitting Kmeans with 29 clusters\n"
     ]
    },
    {
     "ename": "ValueError",
     "evalue": "All arrays must be of the same length",
     "output_type": "error",
     "traceback": [
      "\u001b[1;31m---------------------------------------------------------------------------\u001b[0m",
      "\u001b[1;31mValueError\u001b[0m                                Traceback (most recent call last)",
      "Cell \u001b[1;32mIn[8], line 2\u001b[0m\n\u001b[0;32m      1\u001b[0m kmeansSP500\u001b[38;5;241m.\u001b[39mfit(closing_prices)\n\u001b[1;32m----> 2\u001b[0m \u001b[43mkmeansSP500\u001b[49m\u001b[38;5;241;43m.\u001b[39;49m\u001b[43msummarize\u001b[49m\u001b[43m(\u001b[49m\u001b[43mindustry_clusters\u001b[49m\u001b[43m)\u001b[49m\n",
      "Cell \u001b[1;32mIn[4], line 76\u001b[0m, in \u001b[0;36mKMeans_Clustering_SP500.summarize\u001b[1;34m(self, comparison)\u001b[0m\n\u001b[0;32m     73\u001b[0m axarr[\u001b[38;5;241m0\u001b[39m]\u001b[38;5;241m.\u001b[39mset_title(\u001b[38;5;124m\"\u001b[39m\u001b[38;5;124mComparing scores between kmeans and Industry clusters (in red)\u001b[39m\u001b[38;5;124m\"\u001b[39m)\n\u001b[0;32m     74\u001b[0m axarr[\u001b[38;5;241m2\u001b[39m]\u001b[38;5;241m.\u001b[39mset_xlabel(\u001b[38;5;124m\"\u001b[39m\u001b[38;5;124mnumber of clusters in kmeans\u001b[39m\u001b[38;5;124m\"\u001b[39m)\n\u001b[1;32m---> 76\u001b[0m p1 \u001b[38;5;241m=\u001b[39m \u001b[43msns\u001b[49m\u001b[38;5;241;43m.\u001b[39;49m\u001b[43mlineplot\u001b[49m\u001b[43m(\u001b[49m\u001b[43mx\u001b[49m\u001b[43m \u001b[49m\u001b[38;5;241;43m=\u001b[39;49m\u001b[43m \u001b[49m\u001b[38;5;28;43mlist\u001b[39;49m\u001b[43m(\u001b[49m\u001b[38;5;28;43mrange\u001b[39;49m\u001b[43m(\u001b[49m\u001b[38;5;28;43mself\u001b[39;49m\u001b[38;5;241;43m.\u001b[39;49m\u001b[43mn_min\u001b[49m\u001b[43m,\u001b[49m\u001b[43m \u001b[49m\u001b[38;5;28;43mself\u001b[39;49m\u001b[38;5;241;43m.\u001b[39;49m\u001b[43mn_max\u001b[49m\u001b[43m)\u001b[49m\u001b[43m)\u001b[49m\u001b[43m,\u001b[49m\u001b[43m \u001b[49m\n\u001b[0;32m     77\u001b[0m \u001b[43m                  \u001b[49m\u001b[43my\u001b[49m\u001b[43m \u001b[49m\u001b[38;5;241;43m=\u001b[39;49m\u001b[43m \u001b[49m\u001b[38;5;28;43mself\u001b[39;49m\u001b[38;5;241;43m.\u001b[39;49m\u001b[43mscores\u001b[49m\u001b[43m[\u001b[49m\u001b[38;5;124;43m\"\u001b[39;49m\u001b[38;5;124;43mDaviesBouldin\u001b[39;49m\u001b[38;5;124;43m\"\u001b[39;49m\u001b[43m]\u001b[49m\u001b[43m,\u001b[49m\u001b[43m \u001b[49m\n\u001b[0;32m     78\u001b[0m \u001b[43m                  \u001b[49m\u001b[43max\u001b[49m\u001b[43m \u001b[49m\u001b[38;5;241;43m=\u001b[39;49m\u001b[43m \u001b[49m\u001b[43maxarr\u001b[49m\u001b[43m[\u001b[49m\u001b[38;5;241;43m0\u001b[39;49m\u001b[43m]\u001b[49m\u001b[43m)\u001b[49m\n\u001b[0;32m     79\u001b[0m p1\u001b[38;5;241m.\u001b[39maxhline(y \u001b[38;5;241m=\u001b[39m DB_compare, color \u001b[38;5;241m=\u001b[39m \u001b[38;5;124m'\u001b[39m\u001b[38;5;124mred\u001b[39m\u001b[38;5;124m'\u001b[39m)\n\u001b[0;32m     80\u001b[0m p1\u001b[38;5;241m.\u001b[39mset_ylabel(\u001b[38;5;124m\"\u001b[39m\u001b[38;5;124mDavies Bouldin Score (low is good)\u001b[39m\u001b[38;5;124m\"\u001b[39m)\n",
      "File \u001b[1;32m~\\Anaconda3\\envs\\tf\\lib\\site-packages\\seaborn\\relational.py:618\u001b[0m, in \u001b[0;36mlineplot\u001b[1;34m(data, x, y, hue, size, style, units, palette, hue_order, hue_norm, sizes, size_order, size_norm, dashes, markers, style_order, estimator, errorbar, n_boot, seed, orient, sort, err_style, err_kws, legend, ci, ax, **kwargs)\u001b[0m\n\u001b[0;32m    615\u001b[0m errorbar \u001b[38;5;241m=\u001b[39m _deprecate_ci(errorbar, ci)\n\u001b[0;32m    617\u001b[0m variables \u001b[38;5;241m=\u001b[39m _LinePlotter\u001b[38;5;241m.\u001b[39mget_semantics(\u001b[38;5;28mlocals\u001b[39m())\n\u001b[1;32m--> 618\u001b[0m p \u001b[38;5;241m=\u001b[39m \u001b[43m_LinePlotter\u001b[49m\u001b[43m(\u001b[49m\n\u001b[0;32m    619\u001b[0m \u001b[43m    \u001b[49m\u001b[43mdata\u001b[49m\u001b[38;5;241;43m=\u001b[39;49m\u001b[43mdata\u001b[49m\u001b[43m,\u001b[49m\u001b[43m \u001b[49m\u001b[43mvariables\u001b[49m\u001b[38;5;241;43m=\u001b[39;49m\u001b[43mvariables\u001b[49m\u001b[43m,\u001b[49m\n\u001b[0;32m    620\u001b[0m \u001b[43m    \u001b[49m\u001b[43mestimator\u001b[49m\u001b[38;5;241;43m=\u001b[39;49m\u001b[43mestimator\u001b[49m\u001b[43m,\u001b[49m\u001b[43m \u001b[49m\u001b[43mn_boot\u001b[49m\u001b[38;5;241;43m=\u001b[39;49m\u001b[43mn_boot\u001b[49m\u001b[43m,\u001b[49m\u001b[43m \u001b[49m\u001b[43mseed\u001b[49m\u001b[38;5;241;43m=\u001b[39;49m\u001b[43mseed\u001b[49m\u001b[43m,\u001b[49m\u001b[43m \u001b[49m\u001b[43merrorbar\u001b[49m\u001b[38;5;241;43m=\u001b[39;49m\u001b[43merrorbar\u001b[49m\u001b[43m,\u001b[49m\n\u001b[0;32m    621\u001b[0m \u001b[43m    \u001b[49m\u001b[43msort\u001b[49m\u001b[38;5;241;43m=\u001b[39;49m\u001b[43msort\u001b[49m\u001b[43m,\u001b[49m\u001b[43m \u001b[49m\u001b[43morient\u001b[49m\u001b[38;5;241;43m=\u001b[39;49m\u001b[43morient\u001b[49m\u001b[43m,\u001b[49m\u001b[43m \u001b[49m\u001b[43merr_style\u001b[49m\u001b[38;5;241;43m=\u001b[39;49m\u001b[43merr_style\u001b[49m\u001b[43m,\u001b[49m\u001b[43m \u001b[49m\u001b[43merr_kws\u001b[49m\u001b[38;5;241;43m=\u001b[39;49m\u001b[43merr_kws\u001b[49m\u001b[43m,\u001b[49m\n\u001b[0;32m    622\u001b[0m \u001b[43m    \u001b[49m\u001b[43mlegend\u001b[49m\u001b[38;5;241;43m=\u001b[39;49m\u001b[43mlegend\u001b[49m\u001b[43m,\u001b[49m\n\u001b[0;32m    623\u001b[0m \u001b[43m\u001b[49m\u001b[43m)\u001b[49m\n\u001b[0;32m    625\u001b[0m p\u001b[38;5;241m.\u001b[39mmap_hue(palette\u001b[38;5;241m=\u001b[39mpalette, order\u001b[38;5;241m=\u001b[39mhue_order, norm\u001b[38;5;241m=\u001b[39mhue_norm)\n\u001b[0;32m    626\u001b[0m p\u001b[38;5;241m.\u001b[39mmap_size(sizes\u001b[38;5;241m=\u001b[39msizes, order\u001b[38;5;241m=\u001b[39msize_order, norm\u001b[38;5;241m=\u001b[39msize_norm)\n",
      "File \u001b[1;32m~\\Anaconda3\\envs\\tf\\lib\\site-packages\\seaborn\\relational.py:365\u001b[0m, in \u001b[0;36m_LinePlotter.__init__\u001b[1;34m(self, data, variables, estimator, n_boot, seed, errorbar, sort, orient, err_style, err_kws, legend)\u001b[0m\n\u001b[0;32m    351\u001b[0m \u001b[38;5;28;01mdef\u001b[39;00m \u001b[38;5;21m__init__\u001b[39m(\n\u001b[0;32m    352\u001b[0m     \u001b[38;5;28mself\u001b[39m, \u001b[38;5;241m*\u001b[39m,\n\u001b[0;32m    353\u001b[0m     data\u001b[38;5;241m=\u001b[39m\u001b[38;5;28;01mNone\u001b[39;00m, variables\u001b[38;5;241m=\u001b[39m{},\n\u001b[1;32m   (...)\u001b[0m\n\u001b[0;32m    359\u001b[0m     \u001b[38;5;66;03m# the kind of plot to draw, but for the time being we need to set\u001b[39;00m\n\u001b[0;32m    360\u001b[0m     \u001b[38;5;66;03m# this information so the SizeMapping can use it\u001b[39;00m\n\u001b[0;32m    361\u001b[0m     \u001b[38;5;28mself\u001b[39m\u001b[38;5;241m.\u001b[39m_default_size_range \u001b[38;5;241m=\u001b[39m (\n\u001b[0;32m    362\u001b[0m         np\u001b[38;5;241m.\u001b[39mr_[\u001b[38;5;241m.5\u001b[39m, \u001b[38;5;241m2\u001b[39m] \u001b[38;5;241m*\u001b[39m mpl\u001b[38;5;241m.\u001b[39mrcParams[\u001b[38;5;124m\"\u001b[39m\u001b[38;5;124mlines.linewidth\u001b[39m\u001b[38;5;124m\"\u001b[39m]\n\u001b[0;32m    363\u001b[0m     )\n\u001b[1;32m--> 365\u001b[0m     \u001b[38;5;28;43msuper\u001b[39;49m\u001b[43m(\u001b[49m\u001b[43m)\u001b[49m\u001b[38;5;241;43m.\u001b[39;49m\u001b[38;5;21;43m__init__\u001b[39;49m\u001b[43m(\u001b[49m\u001b[43mdata\u001b[49m\u001b[38;5;241;43m=\u001b[39;49m\u001b[43mdata\u001b[49m\u001b[43m,\u001b[49m\u001b[43m \u001b[49m\u001b[43mvariables\u001b[49m\u001b[38;5;241;43m=\u001b[39;49m\u001b[43mvariables\u001b[49m\u001b[43m)\u001b[49m\n\u001b[0;32m    367\u001b[0m     \u001b[38;5;28mself\u001b[39m\u001b[38;5;241m.\u001b[39mestimator \u001b[38;5;241m=\u001b[39m estimator\n\u001b[0;32m    368\u001b[0m     \u001b[38;5;28mself\u001b[39m\u001b[38;5;241m.\u001b[39merrorbar \u001b[38;5;241m=\u001b[39m errorbar\n",
      "File \u001b[1;32m~\\Anaconda3\\envs\\tf\\lib\\site-packages\\seaborn\\_oldcore.py:640\u001b[0m, in \u001b[0;36mVectorPlotter.__init__\u001b[1;34m(self, data, variables)\u001b[0m\n\u001b[0;32m    635\u001b[0m \u001b[38;5;66;03m# var_ordered is relevant only for categorical axis variables, and may\u001b[39;00m\n\u001b[0;32m    636\u001b[0m \u001b[38;5;66;03m# be better handled by an internal axis information object that tracks\u001b[39;00m\n\u001b[0;32m    637\u001b[0m \u001b[38;5;66;03m# such information and is set up by the scale_* methods. The analogous\u001b[39;00m\n\u001b[0;32m    638\u001b[0m \u001b[38;5;66;03m# information for numeric axes would be information about log scales.\u001b[39;00m\n\u001b[0;32m    639\u001b[0m \u001b[38;5;28mself\u001b[39m\u001b[38;5;241m.\u001b[39m_var_ordered \u001b[38;5;241m=\u001b[39m {\u001b[38;5;124m\"\u001b[39m\u001b[38;5;124mx\u001b[39m\u001b[38;5;124m\"\u001b[39m: \u001b[38;5;28;01mFalse\u001b[39;00m, \u001b[38;5;124m\"\u001b[39m\u001b[38;5;124my\u001b[39m\u001b[38;5;124m\"\u001b[39m: \u001b[38;5;28;01mFalse\u001b[39;00m}  \u001b[38;5;66;03m# alt., used DefaultDict\u001b[39;00m\n\u001b[1;32m--> 640\u001b[0m \u001b[38;5;28;43mself\u001b[39;49m\u001b[38;5;241;43m.\u001b[39;49m\u001b[43massign_variables\u001b[49m\u001b[43m(\u001b[49m\u001b[43mdata\u001b[49m\u001b[43m,\u001b[49m\u001b[43m \u001b[49m\u001b[43mvariables\u001b[49m\u001b[43m)\u001b[49m\n\u001b[0;32m    642\u001b[0m \u001b[38;5;28;01mfor\u001b[39;00m var, \u001b[38;5;28mcls\u001b[39m \u001b[38;5;129;01min\u001b[39;00m \u001b[38;5;28mself\u001b[39m\u001b[38;5;241m.\u001b[39m_semantic_mappings\u001b[38;5;241m.\u001b[39mitems():\n\u001b[0;32m    643\u001b[0m \n\u001b[0;32m    644\u001b[0m     \u001b[38;5;66;03m# Create the mapping function\u001b[39;00m\n\u001b[0;32m    645\u001b[0m     map_func \u001b[38;5;241m=\u001b[39m partial(\u001b[38;5;28mcls\u001b[39m\u001b[38;5;241m.\u001b[39mmap, plotter\u001b[38;5;241m=\u001b[39m\u001b[38;5;28mself\u001b[39m)\n",
      "File \u001b[1;32m~\\Anaconda3\\envs\\tf\\lib\\site-packages\\seaborn\\_oldcore.py:701\u001b[0m, in \u001b[0;36mVectorPlotter.assign_variables\u001b[1;34m(self, data, variables)\u001b[0m\n\u001b[0;32m    699\u001b[0m \u001b[38;5;28;01melse\u001b[39;00m:\n\u001b[0;32m    700\u001b[0m     \u001b[38;5;28mself\u001b[39m\u001b[38;5;241m.\u001b[39minput_format \u001b[38;5;241m=\u001b[39m \u001b[38;5;124m\"\u001b[39m\u001b[38;5;124mlong\u001b[39m\u001b[38;5;124m\"\u001b[39m\n\u001b[1;32m--> 701\u001b[0m     plot_data, variables \u001b[38;5;241m=\u001b[39m \u001b[38;5;28mself\u001b[39m\u001b[38;5;241m.\u001b[39m_assign_variables_longform(\n\u001b[0;32m    702\u001b[0m         data, \u001b[38;5;241m*\u001b[39m\u001b[38;5;241m*\u001b[39mvariables,\n\u001b[0;32m    703\u001b[0m     )\n\u001b[0;32m    705\u001b[0m \u001b[38;5;28mself\u001b[39m\u001b[38;5;241m.\u001b[39mplot_data \u001b[38;5;241m=\u001b[39m plot_data\n\u001b[0;32m    706\u001b[0m \u001b[38;5;28mself\u001b[39m\u001b[38;5;241m.\u001b[39mvariables \u001b[38;5;241m=\u001b[39m variables\n",
      "File \u001b[1;32m~\\Anaconda3\\envs\\tf\\lib\\site-packages\\seaborn\\_oldcore.py:962\u001b[0m, in \u001b[0;36mVectorPlotter._assign_variables_longform\u001b[1;34m(self, data, **kwargs)\u001b[0m\n\u001b[0;32m    958\u001b[0m         variables[key] \u001b[38;5;241m=\u001b[39m \u001b[38;5;28mgetattr\u001b[39m(val, \u001b[38;5;124m\"\u001b[39m\u001b[38;5;124mname\u001b[39m\u001b[38;5;124m\"\u001b[39m, \u001b[38;5;28;01mNone\u001b[39;00m)\n\u001b[0;32m    960\u001b[0m \u001b[38;5;66;03m# Construct a tidy plot DataFrame. This will convert a number of\u001b[39;00m\n\u001b[0;32m    961\u001b[0m \u001b[38;5;66;03m# types automatically, aligning on index in case of pandas objects\u001b[39;00m\n\u001b[1;32m--> 962\u001b[0m plot_data \u001b[38;5;241m=\u001b[39m \u001b[43mpd\u001b[49m\u001b[38;5;241;43m.\u001b[39;49m\u001b[43mDataFrame\u001b[49m\u001b[43m(\u001b[49m\u001b[43mplot_data\u001b[49m\u001b[43m)\u001b[49m\n\u001b[0;32m    964\u001b[0m \u001b[38;5;66;03m# Reduce the variables dictionary to fields with valid data\u001b[39;00m\n\u001b[0;32m    965\u001b[0m variables \u001b[38;5;241m=\u001b[39m {\n\u001b[0;32m    966\u001b[0m     var: name\n\u001b[0;32m    967\u001b[0m     \u001b[38;5;28;01mfor\u001b[39;00m var, name \u001b[38;5;129;01min\u001b[39;00m variables\u001b[38;5;241m.\u001b[39mitems()\n\u001b[0;32m    968\u001b[0m     \u001b[38;5;28;01mif\u001b[39;00m plot_data[var]\u001b[38;5;241m.\u001b[39mnotnull()\u001b[38;5;241m.\u001b[39many()\n\u001b[0;32m    969\u001b[0m }\n",
      "File \u001b[1;32m~\\Anaconda3\\envs\\tf\\lib\\site-packages\\pandas\\core\\frame.py:736\u001b[0m, in \u001b[0;36mDataFrame.__init__\u001b[1;34m(self, data, index, columns, dtype, copy)\u001b[0m\n\u001b[0;32m    730\u001b[0m     mgr \u001b[38;5;241m=\u001b[39m \u001b[38;5;28mself\u001b[39m\u001b[38;5;241m.\u001b[39m_init_mgr(\n\u001b[0;32m    731\u001b[0m         data, axes\u001b[38;5;241m=\u001b[39m{\u001b[38;5;124m\"\u001b[39m\u001b[38;5;124mindex\u001b[39m\u001b[38;5;124m\"\u001b[39m: index, \u001b[38;5;124m\"\u001b[39m\u001b[38;5;124mcolumns\u001b[39m\u001b[38;5;124m\"\u001b[39m: columns}, dtype\u001b[38;5;241m=\u001b[39mdtype, copy\u001b[38;5;241m=\u001b[39mcopy\n\u001b[0;32m    732\u001b[0m     )\n\u001b[0;32m    734\u001b[0m \u001b[38;5;28;01melif\u001b[39;00m \u001b[38;5;28misinstance\u001b[39m(data, \u001b[38;5;28mdict\u001b[39m):\n\u001b[0;32m    735\u001b[0m     \u001b[38;5;66;03m# GH#38939 de facto copy defaults to False only in non-dict cases\u001b[39;00m\n\u001b[1;32m--> 736\u001b[0m     mgr \u001b[38;5;241m=\u001b[39m \u001b[43mdict_to_mgr\u001b[49m\u001b[43m(\u001b[49m\u001b[43mdata\u001b[49m\u001b[43m,\u001b[49m\u001b[43m \u001b[49m\u001b[43mindex\u001b[49m\u001b[43m,\u001b[49m\u001b[43m \u001b[49m\u001b[43mcolumns\u001b[49m\u001b[43m,\u001b[49m\u001b[43m \u001b[49m\u001b[43mdtype\u001b[49m\u001b[38;5;241;43m=\u001b[39;49m\u001b[43mdtype\u001b[49m\u001b[43m,\u001b[49m\u001b[43m \u001b[49m\u001b[43mcopy\u001b[49m\u001b[38;5;241;43m=\u001b[39;49m\u001b[43mcopy\u001b[49m\u001b[43m,\u001b[49m\u001b[43m \u001b[49m\u001b[43mtyp\u001b[49m\u001b[38;5;241;43m=\u001b[39;49m\u001b[43mmanager\u001b[49m\u001b[43m)\u001b[49m\n\u001b[0;32m    737\u001b[0m \u001b[38;5;28;01melif\u001b[39;00m \u001b[38;5;28misinstance\u001b[39m(data, ma\u001b[38;5;241m.\u001b[39mMaskedArray):\n\u001b[0;32m    738\u001b[0m     \u001b[38;5;28;01mfrom\u001b[39;00m \u001b[38;5;21;01mnumpy\u001b[39;00m\u001b[38;5;21;01m.\u001b[39;00m\u001b[38;5;21;01mma\u001b[39;00m \u001b[38;5;28;01mimport\u001b[39;00m mrecords\n",
      "File \u001b[1;32m~\\Anaconda3\\envs\\tf\\lib\\site-packages\\pandas\\core\\internals\\construction.py:503\u001b[0m, in \u001b[0;36mdict_to_mgr\u001b[1;34m(data, index, columns, dtype, typ, copy)\u001b[0m\n\u001b[0;32m    499\u001b[0m     \u001b[38;5;28;01melse\u001b[39;00m:\n\u001b[0;32m    500\u001b[0m         \u001b[38;5;66;03m# dtype check to exclude e.g. range objects, scalars\u001b[39;00m\n\u001b[0;32m    501\u001b[0m         arrays \u001b[38;5;241m=\u001b[39m [x\u001b[38;5;241m.\u001b[39mcopy() \u001b[38;5;28;01mif\u001b[39;00m \u001b[38;5;28mhasattr\u001b[39m(x, \u001b[38;5;124m\"\u001b[39m\u001b[38;5;124mdtype\u001b[39m\u001b[38;5;124m\"\u001b[39m) \u001b[38;5;28;01melse\u001b[39;00m x \u001b[38;5;28;01mfor\u001b[39;00m x \u001b[38;5;129;01min\u001b[39;00m arrays]\n\u001b[1;32m--> 503\u001b[0m \u001b[38;5;28;01mreturn\u001b[39;00m \u001b[43marrays_to_mgr\u001b[49m\u001b[43m(\u001b[49m\u001b[43marrays\u001b[49m\u001b[43m,\u001b[49m\u001b[43m \u001b[49m\u001b[43mcolumns\u001b[49m\u001b[43m,\u001b[49m\u001b[43m \u001b[49m\u001b[43mindex\u001b[49m\u001b[43m,\u001b[49m\u001b[43m \u001b[49m\u001b[43mdtype\u001b[49m\u001b[38;5;241;43m=\u001b[39;49m\u001b[43mdtype\u001b[49m\u001b[43m,\u001b[49m\u001b[43m \u001b[49m\u001b[43mtyp\u001b[49m\u001b[38;5;241;43m=\u001b[39;49m\u001b[43mtyp\u001b[49m\u001b[43m,\u001b[49m\u001b[43m \u001b[49m\u001b[43mconsolidate\u001b[49m\u001b[38;5;241;43m=\u001b[39;49m\u001b[43mcopy\u001b[49m\u001b[43m)\u001b[49m\n",
      "File \u001b[1;32m~\\Anaconda3\\envs\\tf\\lib\\site-packages\\pandas\\core\\internals\\construction.py:114\u001b[0m, in \u001b[0;36marrays_to_mgr\u001b[1;34m(arrays, columns, index, dtype, verify_integrity, typ, consolidate)\u001b[0m\n\u001b[0;32m    111\u001b[0m \u001b[38;5;28;01mif\u001b[39;00m verify_integrity:\n\u001b[0;32m    112\u001b[0m     \u001b[38;5;66;03m# figure out the index, if necessary\u001b[39;00m\n\u001b[0;32m    113\u001b[0m     \u001b[38;5;28;01mif\u001b[39;00m index \u001b[38;5;129;01mis\u001b[39;00m \u001b[38;5;28;01mNone\u001b[39;00m:\n\u001b[1;32m--> 114\u001b[0m         index \u001b[38;5;241m=\u001b[39m \u001b[43m_extract_index\u001b[49m\u001b[43m(\u001b[49m\u001b[43marrays\u001b[49m\u001b[43m)\u001b[49m\n\u001b[0;32m    115\u001b[0m     \u001b[38;5;28;01melse\u001b[39;00m:\n\u001b[0;32m    116\u001b[0m         index \u001b[38;5;241m=\u001b[39m ensure_index(index)\n",
      "File \u001b[1;32m~\\Anaconda3\\envs\\tf\\lib\\site-packages\\pandas\\core\\internals\\construction.py:677\u001b[0m, in \u001b[0;36m_extract_index\u001b[1;34m(data)\u001b[0m\n\u001b[0;32m    675\u001b[0m lengths \u001b[38;5;241m=\u001b[39m \u001b[38;5;28mlist\u001b[39m(\u001b[38;5;28mset\u001b[39m(raw_lengths))\n\u001b[0;32m    676\u001b[0m \u001b[38;5;28;01mif\u001b[39;00m \u001b[38;5;28mlen\u001b[39m(lengths) \u001b[38;5;241m>\u001b[39m \u001b[38;5;241m1\u001b[39m:\n\u001b[1;32m--> 677\u001b[0m     \u001b[38;5;28;01mraise\u001b[39;00m \u001b[38;5;167;01mValueError\u001b[39;00m(\u001b[38;5;124m\"\u001b[39m\u001b[38;5;124mAll arrays must be of the same length\u001b[39m\u001b[38;5;124m\"\u001b[39m)\n\u001b[0;32m    679\u001b[0m \u001b[38;5;28;01mif\u001b[39;00m have_dicts:\n\u001b[0;32m    680\u001b[0m     \u001b[38;5;28;01mraise\u001b[39;00m \u001b[38;5;167;01mValueError\u001b[39;00m(\n\u001b[0;32m    681\u001b[0m         \u001b[38;5;124m\"\u001b[39m\u001b[38;5;124mMixing dicts with non-Series may lead to ambiguous ordering.\u001b[39m\u001b[38;5;124m\"\u001b[39m\n\u001b[0;32m    682\u001b[0m     )\n",
      "\u001b[1;31mValueError\u001b[0m: All arrays must be of the same length"
     ]
    },
    {
     "data": {
      "image/png": "[encoded data removed]",
      "text/plain": [
       "<Figure size 1200x1200 with 3 Axes>"
      ]
     },
     "metadata": {},
     "output_type": "display_data"
    }
   ],
   "source": [
    "kmeansSP500.fit(closing_prices)\n",
    "kmeansSP500.summarize(industry_clusters)"
   ]
  },
  {
   "cell_type": "markdown",
   "id": "c6d84bcb",
   "metadata": {},
   "source": [
    "# Clustering returns"
   ]
  },
  {
   "cell_type": "code",
   "execution_count": null,
   "id": "6894700e",
   "metadata": {},
   "outputs": [],
   "source": [
    "kmeansSP500 = KMeans_Clustering_SP500(n_min = 2, \n",
    "                                      n_max = 30, \n",
    "                                      smoothing = 0.88, \n",
    "                                      test_size = 7, \n",
    "                                      use_validation = True)\n",
    "kmeansSP500.fit(closing_prices.pct_change().dropna())\n",
    "kmeansSP500.summarize(industry_clusters)"
   ]
  },
  {
   "cell_type": "markdown",
   "id": "d29be227",
   "metadata": {},
   "source": [
    "# Clustering risk-adjusted returns"
   ]
  },
  {
   "cell_type": "code",
   "execution_count": null,
   "id": "c686d67c",
   "metadata": {},
   "outputs": [],
   "source": [
    "kmeansSP500.fit(sharpe)\n",
    "kmeansSP500.summarize(industry_clusters)"
   ]
  },
  {
   "cell_type": "markdown",
   "id": "639b6565",
   "metadata": {},
   "source": [
    "As we can see, Kmeans on its own cannot beat the baseline model of industry clustering for risk-adjusted returns, which are the most useful for financial modeling.\n",
    "\n",
    "There are two possible alternate approaches. \n",
    "- The first is to cluster *within* each industry cluster, and to refine the industry clustering. \n",
    "- The second is to try to remove the influence of \"industry\" on the sharpe rates of return, and then to try clustering again."
   ]
  },
  {
   "cell_type": "code",
   "execution_count": null,
   "id": "dbd40ec2",
   "metadata": {},
   "outputs": [],
   "source": []
  }
 ],
 "metadata": {
  "kernelspec": {
   "display_name": "Python 3 (ipykernel)",
   "language": "python",
   "name": "python3"
  },
  "language_info": {
   "codemirror_mode": {
    "name": "ipython",
    "version": 3
   },
   "file_extension": ".py",
   "mimetype": "text/x-python",
   "name": "python",
   "nbconvert_exporter": "python",
   "pygments_lexer": "ipython3",
   "version": "3.10.10"
  }
 },
 "nbformat": 4,
 "nbformat_minor": 5
}
