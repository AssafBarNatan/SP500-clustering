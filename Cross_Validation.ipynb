{
 "cells": [
  {
   "cell_type": "markdown",
   "id": "aae756cc",
   "metadata": {},
   "source": [
    "# Cross Validation and Model Selection"
   ]
  },
  {
   "cell_type": "code",
   "execution_count": 1,
   "id": "39db1eb8",
   "metadata": {},
   "outputs": [],
   "source": [
    "import SP500models as models\n",
    "import pandas as pd\n",
    "import numpy as np\n",
    "import pickle"
   ]
  },
  {
   "cell_type": "code",
   "execution_count": 2,
   "id": "764932c7",
   "metadata": {},
   "outputs": [],
   "source": [
    "closing_prices = pd.read_pickle(\"./data/stocks/closing_prices.pkl\")\n",
    "closing_prices_l2 = closing_prices / closing_prices.apply(lambda x: np.linalg.norm(x))"
   ]
  },
  {
   "cell_type": "code",
   "execution_count": 3,
   "id": "0928a20a",
   "metadata": {},
   "outputs": [],
   "source": [
    "base1 = models.one_cluster(closing_prices_l2)\n",
    "base2 = models.different_clusters(closing_prices_l2)\n",
    "base3 = models.industry(closing_prices_l2)\n",
    "# base4 is a random assignment of clusters - it's not serious\n",
    "with open('./models/test_model.pkl', 'rb') as f:\n",
    "    random_model = pickle.load(f)"
   ]
  },
  {
   "cell_type": "code",
   "execution_count": 4,
   "id": "05f9d6a7",
   "metadata": {},
   "outputs": [],
   "source": [
    "prices_train = closing_prices.iloc[:-7]\n",
    "prices_test = closing_prices.iloc[-7:]"
   ]
  },
  {
   "cell_type": "code",
   "execution_count": 5,
   "id": "36bd6fa8",
   "metadata": {},
   "outputs": [],
   "source": [
    "from sklearn.model_selection import TimeSeriesSplit\n",
    "from sklearn.metrics import silhouette_score\n",
    "from sklearn.metrics import davies_bouldin_score\n",
    "from sklearn.metrics import calinski_harabasz_score\n",
    "\n",
    "from SP500metrics import WCSS #home-build WCSS function, because I can't find one online"
   ]
  },
  {
   "cell_type": "code",
   "execution_count": 6,
   "id": "5b2d5146",
   "metadata": {},
   "outputs": [],
   "source": [
    "n_splits = 5\n",
    "cv = TimeSeriesSplit(n_splits = n_splits, test_size = 3)\n",
    "\n",
    "scores = np.zeros((4, n_splits))\n",
    "i = 0\n",
    "for train_index, test_index in cv.split(X = prices_train):\n",
    "    ## Get the training and holdout sets\n",
    "    prices_tt = prices_train.iloc[train_index]\n",
    "    prices_ho = prices_train.iloc[test_index]\n",
    "    \n",
    "    ## cross validation happens here\n",
    "    base1 = models.one_cluster(prices_tt)\n",
    "    scores[0][i] = WCSS(prices_ho, base1)\n",
    "    \n",
    "    base2 = models.different_clusters(closing_prices_l2)\n",
    "    scores[1][i] = WCSS(prices_ho, base2)\n",
    "\n",
    "    base3 = models.industry(closing_prices_l2)\n",
    "    scores[2][i] = WCSS(prices_ho, base3)\n",
    "    \n",
    "    i = i + 1"
   ]
  },
  {
   "cell_type": "code",
   "execution_count": null,
   "id": "9c6a97b6",
   "metadata": {},
   "outputs": [],
   "source": [
    "scores.mean(axis = 1)"
   ]
  },
  {
   "cell_type": "code",
   "execution_count": null,
   "id": "b31826fb",
   "metadata": {},
   "outputs": [],
   "source": []
  }
 ],
 "metadata": {
  "kernelspec": {
   "display_name": "Python 3 (ipykernel)",
   "language": "python",
   "name": "python3"
  },
  "language_info": {
   "codemirror_mode": {
    "name": "ipython",
    "version": 3
   },
   "file_extension": ".py",
   "mimetype": "text/x-python",
   "name": "python",
   "nbconvert_exporter": "python",
   "pygments_lexer": "ipython3",
   "version": "3.9.12"
  }
 },
 "nbformat": 4,
 "nbformat_minor": 5
}
