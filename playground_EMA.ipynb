{
 "cells": [
  {
   "cell_type": "code",
   "execution_count": null,
   "metadata": {},
   "outputs": [],
   "source": [
    "from sklearn.metrics import calinski_harabasz_score\n",
    "def get_CH_score(df, clusters):\n",
    "    labels = [clusters[col] for col in df.columns]\n",
    "    X = df.T.values # transposes data so that features are columns instead of rows\n",
    "    return calinski_harabasz_score(X, labels)"
   ]
  },
  {
   "cell_type": "code",
   "execution_count": 1,
   "metadata": {},
   "outputs": [],
   "source": [
    "from data_pipeline.retrieval import DataBank, download_adj_close"
   ]
  },
  {
   "cell_type": "code",
   "execution_count": 2,
   "metadata": {},
   "outputs": [],
   "source": [
    "data_bank = DataBank()"
   ]
  },
  {
   "cell_type": "code",
   "execution_count": 3,
   "metadata": {},
   "outputs": [],
   "source": [
    "sec_to_tick_map = data_bank.sector_to_ticker_map()"
   ]
  },
  {
   "cell_type": "code",
   "execution_count": 6,
   "metadata": {},
   "outputs": [],
   "source": [
    "start = '2023-11-14'\n",
    "end = '2023-11-27'"
   ]
  },
  {
   "cell_type": "code",
   "execution_count": 13,
   "metadata": {},
   "outputs": [
    {
     "name": "stdout",
     "output_type": "stream",
     "text": [
      "[*********************100%%**********************]  77 of 77 completed\n",
      "[*********************100%%**********************]  64 of 64 completed\n",
      "[*********************100%%**********************]  64 of 64 completed\n",
      "[*********************100%%**********************]  38 of 38 completed"
     ]
    },
    {
     "name": "stderr",
     "output_type": "stream",
     "text": [
      "\n",
      "1 Failed download:\n",
      "['BF.B']: Exception('%ticker%: No price data found, symbol may be delisted (1d 2023-11-14 00:00:00 -> 2023-11-27)')\n"
     ]
    },
    {
     "name": "stdout",
     "output_type": "stream",
     "text": [
      "\n",
      "[*********************100%%**********************]  30 of 30 completed\n",
      "[*********************100%%**********************]  72 of 72 completed"
     ]
    },
    {
     "name": "stderr",
     "output_type": "stream",
     "text": [
      "\n",
      "1 Failed download:\n",
      "['BRK.B']: Exception('%ticker%: No timezone found, symbol may be delisted')\n"
     ]
    },
    {
     "name": "stdout",
     "output_type": "stream",
     "text": [
      "\n",
      "[*********************100%%**********************]  53 of 53 completed\n",
      "[*********************100%%**********************]  29 of 29 completed\n",
      "[*********************100%%**********************]  31 of 31 completed\n",
      "[*********************100%%**********************]  22 of 22 completed\n",
      "[*********************100%%**********************]  23 of 23 completed\n"
     ]
    }
   ],
   "source": [
    "sector_dfs = {\n",
    "    sector : download_adj_close(tickers, start, end, save_data=False) for sector, tickers in sec_to_tick_map.items()\n",
    "}"
   ]
  },
  {
   "cell_type": "code",
   "execution_count": 24,
   "metadata": {},
   "outputs": [],
   "source": [
    "from data_pipeline.processing import ClusterInput"
   ]
  },
  {
   "cell_type": "code",
   "execution_count": 138,
   "metadata": {},
   "outputs": [],
   "source": [
    "combined_df = pd.concat(list(sector_dfs.values()), axis = 1)\n",
    "\n",
    "combined_input = ClusterInput(combined_df).df"
   ]
  },
  {
   "cell_type": "code",
   "execution_count": 129,
   "metadata": {},
   "outputs": [
    {
     "data": {
      "text/plain": [
       "501"
      ]
     },
     "execution_count": 129,
     "metadata": {},
     "output_type": "execute_result"
    }
   ],
   "source": [
    "combined_labels = [sector for sector in sector_dfs.keys() for _ in range(len(sector_dfs[sector].columns))]\n",
    "len(combined_labels)"
   ]
  },
  {
   "cell_type": "code",
   "execution_count": 16,
   "metadata": {},
   "outputs": [],
   "source": [
    "sectors = list(sec_to_tick_map.keys())"
   ]
  },
  {
   "cell_type": "code",
   "execution_count": 68,
   "metadata": {},
   "outputs": [],
   "source": [
    "cluster_inputs = [\n",
    "    ClusterInput(sector_dfs[sector]).df for sector in sectors\n",
    "]"
   ]
  },
  {
   "cell_type": "code",
   "execution_count": 69,
   "metadata": {},
   "outputs": [],
   "source": [
    "from sklearn.cluster import KMeans"
   ]
  },
  {
   "cell_type": "code",
   "execution_count": 197,
   "metadata": {},
   "outputs": [],
   "source": [
    "kmeans = KMeans(init = 'k-means++')"
   ]
  },
  {
   "cell_type": "code",
   "execution_count": 198,
   "metadata": {},
   "outputs": [
    {
     "name": "stderr",
     "output_type": "stream",
     "text": [
      "c:\\Users\\elmeh\\anaconda3\\lib\\site-packages\\sklearn\\cluster\\_kmeans.py:870: FutureWarning: The default value of `n_init` will change from 10 to 'auto' in 1.4. Set the value of `n_init` explicitly to suppress the warning\n",
      "  warnings.warn(\n",
      "c:\\Users\\elmeh\\anaconda3\\lib\\site-packages\\sklearn\\cluster\\_kmeans.py:1382: UserWarning: KMeans is known to have a memory leak on Windows with MKL, when there are less chunks than available threads. You can avoid it by setting the environment variable OMP_NUM_THREADS=1.\n",
      "  warnings.warn(\n",
      "c:\\Users\\elmeh\\anaconda3\\lib\\site-packages\\sklearn\\cluster\\_kmeans.py:870: FutureWarning: The default value of `n_init` will change from 10 to 'auto' in 1.4. Set the value of `n_init` explicitly to suppress the warning\n",
      "  warnings.warn(\n",
      "c:\\Users\\elmeh\\anaconda3\\lib\\site-packages\\sklearn\\cluster\\_kmeans.py:1382: UserWarning: KMeans is known to have a memory leak on Windows with MKL, when there are less chunks than available threads. You can avoid it by setting the environment variable OMP_NUM_THREADS=1.\n",
      "  warnings.warn(\n",
      "c:\\Users\\elmeh\\anaconda3\\lib\\site-packages\\sklearn\\cluster\\_kmeans.py:870: FutureWarning: The default value of `n_init` will change from 10 to 'auto' in 1.4. Set the value of `n_init` explicitly to suppress the warning\n",
      "  warnings.warn(\n",
      "c:\\Users\\elmeh\\anaconda3\\lib\\site-packages\\sklearn\\cluster\\_kmeans.py:1382: UserWarning: KMeans is known to have a memory leak on Windows with MKL, when there are less chunks than available threads. You can avoid it by setting the environment variable OMP_NUM_THREADS=1.\n",
      "  warnings.warn(\n",
      "c:\\Users\\elmeh\\anaconda3\\lib\\site-packages\\sklearn\\cluster\\_kmeans.py:870: FutureWarning: The default value of `n_init` will change from 10 to 'auto' in 1.4. Set the value of `n_init` explicitly to suppress the warning\n",
      "  warnings.warn(\n",
      "c:\\Users\\elmeh\\anaconda3\\lib\\site-packages\\sklearn\\cluster\\_kmeans.py:1382: UserWarning: KMeans is known to have a memory leak on Windows with MKL, when there are less chunks than available threads. You can avoid it by setting the environment variable OMP_NUM_THREADS=1.\n",
      "  warnings.warn(\n",
      "c:\\Users\\elmeh\\anaconda3\\lib\\site-packages\\sklearn\\cluster\\_kmeans.py:870: FutureWarning: The default value of `n_init` will change from 10 to 'auto' in 1.4. Set the value of `n_init` explicitly to suppress the warning\n",
      "  warnings.warn(\n",
      "c:\\Users\\elmeh\\anaconda3\\lib\\site-packages\\sklearn\\cluster\\_kmeans.py:1382: UserWarning: KMeans is known to have a memory leak on Windows with MKL, when there are less chunks than available threads. You can avoid it by setting the environment variable OMP_NUM_THREADS=1.\n",
      "  warnings.warn(\n",
      "c:\\Users\\elmeh\\anaconda3\\lib\\site-packages\\sklearn\\cluster\\_kmeans.py:870: FutureWarning: The default value of `n_init` will change from 10 to 'auto' in 1.4. Set the value of `n_init` explicitly to suppress the warning\n",
      "  warnings.warn(\n",
      "c:\\Users\\elmeh\\anaconda3\\lib\\site-packages\\sklearn\\cluster\\_kmeans.py:1382: UserWarning: KMeans is known to have a memory leak on Windows with MKL, when there are less chunks than available threads. You can avoid it by setting the environment variable OMP_NUM_THREADS=1.\n",
      "  warnings.warn(\n",
      "c:\\Users\\elmeh\\anaconda3\\lib\\site-packages\\sklearn\\cluster\\_kmeans.py:870: FutureWarning: The default value of `n_init` will change from 10 to 'auto' in 1.4. Set the value of `n_init` explicitly to suppress the warning\n",
      "  warnings.warn(\n",
      "c:\\Users\\elmeh\\anaconda3\\lib\\site-packages\\sklearn\\cluster\\_kmeans.py:1382: UserWarning: KMeans is known to have a memory leak on Windows with MKL, when there are less chunks than available threads. You can avoid it by setting the environment variable OMP_NUM_THREADS=1.\n",
      "  warnings.warn(\n",
      "c:\\Users\\elmeh\\anaconda3\\lib\\site-packages\\sklearn\\cluster\\_kmeans.py:870: FutureWarning: The default value of `n_init` will change from 10 to 'auto' in 1.4. Set the value of `n_init` explicitly to suppress the warning\n",
      "  warnings.warn(\n",
      "c:\\Users\\elmeh\\anaconda3\\lib\\site-packages\\sklearn\\cluster\\_kmeans.py:1382: UserWarning: KMeans is known to have a memory leak on Windows with MKL, when there are less chunks than available threads. You can avoid it by setting the environment variable OMP_NUM_THREADS=1.\n",
      "  warnings.warn(\n",
      "c:\\Users\\elmeh\\anaconda3\\lib\\site-packages\\sklearn\\cluster\\_kmeans.py:870: FutureWarning: The default value of `n_init` will change from 10 to 'auto' in 1.4. Set the value of `n_init` explicitly to suppress the warning\n",
      "  warnings.warn(\n",
      "c:\\Users\\elmeh\\anaconda3\\lib\\site-packages\\sklearn\\cluster\\_kmeans.py:1382: UserWarning: KMeans is known to have a memory leak on Windows with MKL, when there are less chunks than available threads. You can avoid it by setting the environment variable OMP_NUM_THREADS=1.\n",
      "  warnings.warn(\n",
      "c:\\Users\\elmeh\\anaconda3\\lib\\site-packages\\sklearn\\cluster\\_kmeans.py:870: FutureWarning: The default value of `n_init` will change from 10 to 'auto' in 1.4. Set the value of `n_init` explicitly to suppress the warning\n",
      "  warnings.warn(\n",
      "c:\\Users\\elmeh\\anaconda3\\lib\\site-packages\\sklearn\\cluster\\_kmeans.py:1382: UserWarning: KMeans is known to have a memory leak on Windows with MKL, when there are less chunks than available threads. You can avoid it by setting the environment variable OMP_NUM_THREADS=1.\n",
      "  warnings.warn(\n",
      "c:\\Users\\elmeh\\anaconda3\\lib\\site-packages\\sklearn\\cluster\\_kmeans.py:870: FutureWarning: The default value of `n_init` will change from 10 to 'auto' in 1.4. Set the value of `n_init` explicitly to suppress the warning\n",
      "  warnings.warn(\n",
      "c:\\Users\\elmeh\\anaconda3\\lib\\site-packages\\sklearn\\cluster\\_kmeans.py:1382: UserWarning: KMeans is known to have a memory leak on Windows with MKL, when there are less chunks than available threads. You can avoid it by setting the environment variable OMP_NUM_THREADS=1.\n",
      "  warnings.warn(\n"
     ]
    }
   ],
   "source": [
    "new_clusters = {\n",
    "    i : None for i in range(len(cluster_inputs))\n",
    "}\n",
    "\n",
    "for i, cluster in enumerate(cluster_inputs):\n",
    "    new_clusters[i] = kmeans.fit(cluster).labels_"
   ]
  },
  {
   "cell_type": "code",
   "execution_count": 199,
   "metadata": {},
   "outputs": [],
   "source": [
    "new_labels = [f'{sector}_{subcluster}' for (i, sector) in enumerate(sectors) for subcluster in new_clusters[i]]"
   ]
  },
  {
   "cell_type": "code",
   "execution_count": 193,
   "metadata": {},
   "outputs": [],
   "source": [
    "from data_pipeline.processing import correlation_histogram as corr_hist"
   ]
  },
  {
   "cell_type": "code",
   "execution_count": 200,
   "metadata": {},
   "outputs": [
    {
     "data": {
      "image/png": "[encoded data removed]",
      "text/plain": [
       "<Figure size 432x288 with 1 Axes>"
      ]
     },
     "metadata": {
      "needs_background": "light"
     },
     "output_type": "display_data"
    }
   ],
   "source": [
    "corr_hist(combined_df.pct_change().dropna(), bins = 20, clusters = {ticker : label for (ticker, label) in zip(combined_df.columns, new_labels)})"
   ]
  },
  {
   "cell_type": "code",
   "execution_count": 132,
   "metadata": {},
   "outputs": [
    {
     "data": {
      "image/png": "[encoded data removed]",
      "text/plain": [
       "<Figure size 432x288 with 1 Axes>"
      ]
     },
     "metadata": {
      "needs_background": "light"
     },
     "output_type": "display_data"
    }
   ],
   "source": [
    "corr_hist(combined_df.pct_change().dropna(), bins = 20, clusters = {ticker : label for (ticker, label) in zip(combined_df.columns, combined_labels)})"
   ]
  },
  {
   "cell_type": "code",
   "execution_count": 133,
   "metadata": {},
   "outputs": [],
   "source": [
    "from sklearn.metrics import davies_bouldin_score as db_score\n",
    "from sklearn.metrics import calinski_harabasz_score as ch_score"
   ]
  },
  {
   "cell_type": "code",
   "execution_count": 201,
   "metadata": {},
   "outputs": [
    {
     "name": "stdout",
     "output_type": "stream",
     "text": [
      "\n",
      "DB Score for old labels: 6.367639758449277. \n",
      "DB Score for new labels: 1.7986939860034683.\n",
      "\n"
     ]
    }
   ],
   "source": [
    "print(f\"\"\"\n",
    "DB Score for old labels: {db_score(combined_input, combined_labels)}. \n",
    "DB Score for new labels: {db_score(combined_input, new_labels)}.\n",
    "\"\"\")"
   ]
  },
  {
   "cell_type": "code",
   "execution_count": 203,
   "metadata": {},
   "outputs": [
    {
     "name": "stdout",
     "output_type": "stream",
     "text": [
      "\n",
      "CH Score for old labels: 6.063544656014349 \n",
      "CH Score for new labels: 13.901430661342529\n",
      "\n"
     ]
    }
   ],
   "source": [
    "print(f\"\"\"\n",
    "CH Score for old labels: {ch_score(combined_input, combined_labels)} \n",
    "CH Score for new labels: {ch_score(combined_input, new_labels)}\n",
    "\"\"\")"
   ]
  },
  {
   "cell_type": "code",
   "execution_count": 142,
   "metadata": {},
   "outputs": [],
   "source": [
    "from collections import Counter\n",
    "\n",
    "new_counts = Counter(new_labels)"
   ]
  },
  {
   "cell_type": "code",
   "execution_count": 144,
   "metadata": {},
   "outputs": [],
   "source": [
    "import matplotlib.pyplot as plt"
   ]
  },
  {
   "cell_type": "code",
   "execution_count": 217,
   "metadata": {},
   "outputs": [
    {
     "data": {
      "text/html": [
       "<div>\n",
       "<style scoped>\n",
       "    .dataframe tbody tr th:only-of-type {\n",
       "        vertical-align: middle;\n",
       "    }\n",
       "\n",
       "    .dataframe tbody tr th {\n",
       "        vertical-align: top;\n",
       "    }\n",
       "\n",
       "    .dataframe thead th {\n",
       "        text-align: right;\n",
       "    }\n",
       "</style>\n",
       "<table border=\"1\" class=\"dataframe\">\n",
       "  <thead>\n",
       "    <tr style=\"text-align: right;\">\n",
       "      <th>Date</th>\n",
       "      <th>2023-11-15 00:00:00</th>\n",
       "      <th>2023-11-16 00:00:00</th>\n",
       "      <th>2023-11-17 00:00:00</th>\n",
       "      <th>2023-11-20 00:00:00</th>\n",
       "      <th>2023-11-21 00:00:00</th>\n",
       "    </tr>\n",
       "  </thead>\n",
       "  <tbody>\n",
       "    <tr>\n",
       "      <th>AAL</th>\n",
       "      <td>0.013878</td>\n",
       "      <td>-0.018519</td>\n",
       "      <td>0.008203</td>\n",
       "      <td>0.008950</td>\n",
       "      <td>-0.021774</td>\n",
       "    </tr>\n",
       "    <tr>\n",
       "      <th>ADP</th>\n",
       "      <td>0.000174</td>\n",
       "      <td>-0.002387</td>\n",
       "      <td>-0.002262</td>\n",
       "      <td>0.010114</td>\n",
       "      <td>-0.002158</td>\n",
       "    </tr>\n",
       "    <tr>\n",
       "      <th>ALK</th>\n",
       "      <td>0.025492</td>\n",
       "      <td>-0.021886</td>\n",
       "      <td>0.015470</td>\n",
       "      <td>0.014962</td>\n",
       "      <td>-0.017422</td>\n",
       "    </tr>\n",
       "    <tr>\n",
       "      <th>ALLE</th>\n",
       "      <td>0.006986</td>\n",
       "      <td>-0.006750</td>\n",
       "      <td>0.003775</td>\n",
       "      <td>-0.005736</td>\n",
       "      <td>-0.014942</td>\n",
       "    </tr>\n",
       "    <tr>\n",
       "      <th>AME</th>\n",
       "      <td>-0.010534</td>\n",
       "      <td>0.005683</td>\n",
       "      <td>0.010976</td>\n",
       "      <td>-0.005461</td>\n",
       "      <td>0.003811</td>\n",
       "    </tr>\n",
       "    <tr>\n",
       "      <th>...</th>\n",
       "      <td>...</td>\n",
       "      <td>...</td>\n",
       "      <td>...</td>\n",
       "      <td>...</td>\n",
       "      <td>...</td>\n",
       "    </tr>\n",
       "    <tr>\n",
       "      <th>SLB</th>\n",
       "      <td>-0.012327</td>\n",
       "      <td>-0.029247</td>\n",
       "      <td>0.014201</td>\n",
       "      <td>-0.002081</td>\n",
       "      <td>-0.000379</td>\n",
       "    </tr>\n",
       "    <tr>\n",
       "      <th>TRGP</th>\n",
       "      <td>-0.001851</td>\n",
       "      <td>-0.028051</td>\n",
       "      <td>0.025880</td>\n",
       "      <td>0.009998</td>\n",
       "      <td>0.007827</td>\n",
       "    </tr>\n",
       "    <tr>\n",
       "      <th>VLO</th>\n",
       "      <td>0.004917</td>\n",
       "      <td>-0.029917</td>\n",
       "      <td>0.017963</td>\n",
       "      <td>0.004996</td>\n",
       "      <td>-0.012507</td>\n",
       "    </tr>\n",
       "    <tr>\n",
       "      <th>WMB</th>\n",
       "      <td>0.002550</td>\n",
       "      <td>-0.017807</td>\n",
       "      <td>0.019568</td>\n",
       "      <td>0.005080</td>\n",
       "      <td>0.009548</td>\n",
       "    </tr>\n",
       "    <tr>\n",
       "      <th>XOM</th>\n",
       "      <td>-0.006041</td>\n",
       "      <td>-0.011576</td>\n",
       "      <td>0.024400</td>\n",
       "      <td>-0.004383</td>\n",
       "      <td>-0.000383</td>\n",
       "    </tr>\n",
       "  </tbody>\n",
       "</table>\n",
       "<p>501 rows × 5 columns</p>\n",
       "</div>"
      ],
      "text/plain": [
       "Date  2023-11-15 00:00:00  2023-11-16 00:00:00  2023-11-17 00:00:00  \\\n",
       "AAL              0.013878            -0.018519             0.008203   \n",
       "ADP              0.000174            -0.002387            -0.002262   \n",
       "ALK              0.025492            -0.021886             0.015470   \n",
       "ALLE             0.006986            -0.006750             0.003775   \n",
       "AME             -0.010534             0.005683             0.010976   \n",
       "...                   ...                  ...                  ...   \n",
       "SLB             -0.012327            -0.029247             0.014201   \n",
       "TRGP            -0.001851            -0.028051             0.025880   \n",
       "VLO              0.004917            -0.029917             0.017963   \n",
       "WMB              0.002550            -0.017807             0.019568   \n",
       "XOM             -0.006041            -0.011576             0.024400   \n",
       "\n",
       "Date  2023-11-20 00:00:00  2023-11-21 00:00:00  \n",
       "AAL              0.008950            -0.021774  \n",
       "ADP              0.010114            -0.002158  \n",
       "ALK              0.014962            -0.017422  \n",
       "ALLE            -0.005736            -0.014942  \n",
       "AME             -0.005461             0.003811  \n",
       "...                   ...                  ...  \n",
       "SLB             -0.002081            -0.000379  \n",
       "TRGP             0.009998             0.007827  \n",
       "VLO              0.004996            -0.012507  \n",
       "WMB              0.005080             0.009548  \n",
       "XOM             -0.004383            -0.000383  \n",
       "\n",
       "[501 rows x 5 columns]"
      ]
     },
     "execution_count": 217,
     "metadata": {},
     "output_type": "execute_result"
    }
   ],
   "source": [
    "combined_input.iloc[:, 0 : -2]"
   ]
  },
  {
   "cell_type": "code",
   "execution_count": 216,
   "metadata": {},
   "outputs": [
    {
     "data": {
      "text/html": [
       "<div>\n",
       "<style scoped>\n",
       "    .dataframe tbody tr th:only-of-type {\n",
       "        vertical-align: middle;\n",
       "    }\n",
       "\n",
       "    .dataframe tbody tr th {\n",
       "        vertical-align: top;\n",
       "    }\n",
       "\n",
       "    .dataframe thead th {\n",
       "        text-align: right;\n",
       "    }\n",
       "</style>\n",
       "<table border=\"1\" class=\"dataframe\">\n",
       "  <thead>\n",
       "    <tr style=\"text-align: right;\">\n",
       "      <th>Date</th>\n",
       "      <th>2023-11-22 00:00:00</th>\n",
       "      <th>2023-11-24 00:00:00</th>\n",
       "    </tr>\n",
       "  </thead>\n",
       "  <tbody>\n",
       "    <tr>\n",
       "      <th>AAL</th>\n",
       "      <td>0.014839</td>\n",
       "      <td>0.000000</td>\n",
       "    </tr>\n",
       "    <tr>\n",
       "      <th>ADP</th>\n",
       "      <td>-0.000260</td>\n",
       "      <td>-0.002120</td>\n",
       "    </tr>\n",
       "    <tr>\n",
       "      <th>ALK</th>\n",
       "      <td>0.007365</td>\n",
       "      <td>0.007311</td>\n",
       "    </tr>\n",
       "    <tr>\n",
       "      <th>ALLE</th>\n",
       "      <td>0.004896</td>\n",
       "      <td>0.003535</td>\n",
       "    </tr>\n",
       "    <tr>\n",
       "      <th>AME</th>\n",
       "      <td>0.001609</td>\n",
       "      <td>0.003405</td>\n",
       "    </tr>\n",
       "    <tr>\n",
       "      <th>...</th>\n",
       "      <td>...</td>\n",
       "      <td>...</td>\n",
       "    </tr>\n",
       "    <tr>\n",
       "      <th>SLB</th>\n",
       "      <td>-0.003794</td>\n",
       "      <td>0.001523</td>\n",
       "    </tr>\n",
       "    <tr>\n",
       "      <th>TRGP</th>\n",
       "      <td>-0.003883</td>\n",
       "      <td>0.007108</td>\n",
       "    </tr>\n",
       "    <tr>\n",
       "      <th>VLO</th>\n",
       "      <td>0.017780</td>\n",
       "      <td>-0.003191</td>\n",
       "    </tr>\n",
       "    <tr>\n",
       "      <th>WMB</th>\n",
       "      <td>0.007789</td>\n",
       "      <td>0.002484</td>\n",
       "    </tr>\n",
       "    <tr>\n",
       "      <th>XOM</th>\n",
       "      <td>-0.004308</td>\n",
       "      <td>0.005384</td>\n",
       "    </tr>\n",
       "  </tbody>\n",
       "</table>\n",
       "<p>501 rows × 2 columns</p>\n",
       "</div>"
      ],
      "text/plain": [
       "Date  2023-11-22 00:00:00  2023-11-24 00:00:00\n",
       "AAL              0.014839             0.000000\n",
       "ADP             -0.000260            -0.002120\n",
       "ALK              0.007365             0.007311\n",
       "ALLE             0.004896             0.003535\n",
       "AME              0.001609             0.003405\n",
       "...                   ...                  ...\n",
       "SLB             -0.003794             0.001523\n",
       "TRGP            -0.003883             0.007108\n",
       "VLO              0.017780            -0.003191\n",
       "WMB              0.007789             0.002484\n",
       "XOM             -0.004308             0.005384\n",
       "\n",
       "[501 rows x 2 columns]"
      ]
     },
     "execution_count": 216,
     "metadata": {},
     "output_type": "execute_result"
    }
   ],
   "source": [
    "combined_input.iloc[:, -2 : ]"
   ]
  },
  {
   "cell_type": "code",
   "execution_count": 218,
   "metadata": {},
   "outputs": [
    {
     "name": "stderr",
     "output_type": "stream",
     "text": [
      "c:\\Users\\elmeh\\anaconda3\\lib\\site-packages\\sklearn\\cluster\\_kmeans.py:870: FutureWarning: The default value of `n_init` will change from 10 to 'auto' in 1.4. Set the value of `n_init` explicitly to suppress the warning\n",
      "  warnings.warn(\n",
      "c:\\Users\\elmeh\\anaconda3\\lib\\site-packages\\sklearn\\cluster\\_kmeans.py:1382: UserWarning: KMeans is known to have a memory leak on Windows with MKL, when there are less chunks than available threads. You can avoid it by setting the environment variable OMP_NUM_THREADS=2.\n",
      "  warnings.warn(\n"
     ]
    }
   ],
   "source": [
    "kmeans_alt = KMeans(11)\n",
    "\n",
    "combined_labels_alt = kmeans_alt.fit(combined_input.iloc[:, 0 : -2]).labels_"
   ]
  },
  {
   "cell_type": "code",
   "execution_count": 220,
   "metadata": {},
   "outputs": [
    {
     "data": {
      "text/plain": [
       "(11.71851054222678, 14.501231893225729)"
      ]
     },
     "execution_count": 220,
     "metadata": {},
     "output_type": "execute_result"
    }
   ],
   "source": [
    "db_score(combined_input.iloc[:, -2 : ], combined_labels_alt), db_score(combined_input.iloc[:, -2 : ], combined_labels)"
   ]
  },
  {
   "cell_type": "code",
   "execution_count": 164,
   "metadata": {},
   "outputs": [
    {
     "data": {
      "text/plain": [
       "array([39, 13, 39, 56, 60, 60, 31, 22,  2,  8, 20, 81, 40, 40, 47,  2,  5,\n",
       "       10, 52, 73, 68, 74, 60, 40,  8, 40,  7, 13, 62, 62, 47, 47, 31, 85,\n",
       "       30, 40, 31, 31, 16, 73, 60, 47, 30, 30, 34,  4, 24, 74, 30,  0,  1,\n",
       "       31, 66, 10, 47, 74, 56,  7, 47, 46, 36, 36, 59, 74, 84,  1, 60, 10,\n",
       "       10,  5, 86, 20,  6, 13, 60, 13, 25, 21, 31,  5, 22, 42, 86, 30, 24,\n",
       "       13, 69, 79, 36, 63, 30, 13, 79, 65, 29, 40,  7, 12, 68, 18, 36, 24,\n",
       "       60,  4, 68, 59, 25, 58,  5, 23, 39, 73, 38,  5, 31, 63, 36, 12, 58,\n",
       "       47, 44, 61, 73, 18, 31, 73, 73, 13, 79, 22,  5, 12,  2, 30, 45, 34,\n",
       "       57, 13, 12, 24,  5, 43, 24, 36, 68, 15, 40, 35, 87, 60, 42, 31, 66,\n",
       "       63, 53, 47, 77,  0, 75, 44,  1,  2, 80,  1, 38, 20, 49, 64, 24, 70,\n",
       "       47, 36, 33, 86, 43, 43, 10, 39, 43, 31,  4, 47, 49, 51, 44, 39,  8,\n",
       "       27,  1, 56, 10, 31, 81, 36, 43, 10, 40,  7, 10, 10, 68, 13, 36,  4,\n",
       "        0,  7,  2, 40, 61, 25, 61, 33, 46, 49, 55, 17, 25, 30, 46, 74, 30,\n",
       "       30, 30, 30, 33,  0, 36, 31, 46, 13, 24, 30, 59,  0,  7, 53, 24, 40,\n",
       "       26, 20, 55, 19, 40, 25,  4, 46, 20, 63, 46, 46, 73, 46, 46, 46, 46,\n",
       "        0, 30,  7, 42, 31,  7,  1, 60, 67, 46, 31, 59, 31, 62, 30, 46, 46,\n",
       "       63, 25, 25, 25, 36, 79, 47,  8, 68, 20, 32, 74, 24, 36, 68, 20, 36,\n",
       "       59, 11, 30, 11, 61, 85, 37, 79, 79, 73, 84, 11, 10, 25, 39,  8, 11,\n",
       "       61,  5,  4, 42, 31, 11,  5, 30,  2, 60, 30, 36, 20,  5, 34,  5,  0,\n",
       "       74, 79, 20, 74, 39, 11, 40, 11, 47, 56, 14, 11, 10, 61, 44, 30, 20,\n",
       "       61, 30, 67, 39,  8, 34, 13, 83, 28,  8, 68, 78, 36, 39,  8, 40,  7,\n",
       "       64, 71, 48, 49, 66, 13, 47, 28, 56,  2, 76,  8,  1, 67, 33, 13,  2,\n",
       "       36, 82, 42, 71, 24,  7, 13, 60, 40, 62, 28, 50, 59, 63, 10, 56, 72,\n",
       "       28,  3, 56, 74, 36, 54, 40, 73,  7,  0,  0, 41, 20, 56, 20, 31, 24,\n",
       "        0, 28, 59, 64, 31, 20, 25, 32, 61, 40, 40, 31, 10, 36,  1, 25, 69,\n",
       "       24, 53, 53, 39, 40, 24, 53, 60, 13, 13, 53, 53, 42, 53, 10,  8, 47,\n",
       "       56, 53,  5, 53, 24, 42, 56, 42, 47, 53, 53, 42, 47,  4, 82, 24, 86,\n",
       "        1, 10, 10, 59, 59, 10,  4, 43, 71, 86,  2,  2, 34,  9,  5, 31, 31,\n",
       "        5, 34, 14, 37, 37, 49, 74, 37, 37, 28, 37, 37, 37, 40, 49, 14, 74,\n",
       "        1, 68, 74, 37, 37, 49,  1, 74])"
      ]
     },
     "execution_count": 164,
     "metadata": {},
     "output_type": "execute_result"
    }
   ],
   "source": [
    "combined_labels_alt"
   ]
  },
  {
   "cell_type": "code",
   "execution_count": 172,
   "metadata": {},
   "outputs": [],
   "source": [
    "from tslearn.clustering import TimeSeriesKMeans"
   ]
  },
  {
   "cell_type": "code",
   "execution_count": 188,
   "metadata": {},
   "outputs": [],
   "source": [
    "tskmeans = TimeSeriesKMeans(n_clusters = 11, init = 'k-means++', metric = \"softdtw\")\n",
    "\n",
    "combined_labels_ts = tskmeans.fit(combined_input).labels_"
   ]
  },
  {
   "cell_type": "code",
   "execution_count": 189,
   "metadata": {},
   "outputs": [
    {
     "data": {
      "text/plain": [
       "array([9, 9, 3, 9, 9, 9, 9, 9, 9, 9, 9, 9, 9, 9, 9, 9, 9, 9, 9, 9, 3, 9,\n",
       "       9, 9, 9, 9, 9, 9, 9, 3, 9, 9, 9, 0, 9, 9, 9, 9, 2, 9, 9, 9, 9, 9,\n",
       "       9, 9, 3, 9, 9, 3, 9, 9, 9, 9, 9, 9, 9, 9, 9, 9, 9, 9, 9, 9, 9, 9,\n",
       "       9, 9, 9, 9, 3, 9, 9, 9, 9, 9, 9, 3, 9, 3, 9, 9, 3, 9, 3, 9, 9, 9,\n",
       "       9, 0, 9, 9, 9, 3, 3, 9, 9, 3, 3, 3, 9, 3, 9, 9, 3, 9, 0, 9, 3, 9,\n",
       "       9, 3, 3, 9, 9, 0, 0, 3, 9, 9, 3, 9, 3, 9, 9, 3, 9, 0, 9, 9, 9, 3,\n",
       "       9, 9, 0, 9, 3, 9, 3, 3, 9, 9, 3, 9, 3, 9, 9, 9, 9, 9, 9, 9, 9, 0,\n",
       "       9, 9, 4, 3, 1, 3, 9, 9, 3, 9, 3, 9, 9, 9, 9, 3, 9, 9, 9, 3, 9, 9,\n",
       "       9, 9, 9, 9, 9, 9, 9, 6, 3, 9, 0, 0, 9, 9, 9, 9, 9, 0, 9, 9, 9, 9,\n",
       "       9, 9, 9, 9, 9, 9, 9, 9, 9, 9, 9, 0, 9, 9, 9, 9, 9, 9, 9, 9, 9, 9,\n",
       "       9, 9, 9, 9, 9, 9, 9, 9, 9, 9, 9, 9, 9, 9, 9, 0, 3, 9, 3, 9, 9, 4,\n",
       "       9, 9, 9, 9, 9, 0, 9, 9, 9, 9, 9, 9, 9, 3, 9, 9, 9, 9, 9, 9, 9, 9,\n",
       "       9, 9, 9, 9, 9, 9, 9, 9, 0, 0, 9, 0, 9, 9, 9, 9, 3, 9, 3, 9, 3, 9,\n",
       "       9, 9, 9, 9, 3, 9, 9, 9, 9, 9, 9, 9, 3, 9, 3, 9, 9, 9, 9, 9, 9, 9,\n",
       "       9, 9, 9, 3, 9, 9, 9, 9, 9, 9, 3, 9, 9, 9, 9, 9, 9, 3, 9, 9, 9, 9,\n",
       "       3, 9, 9, 0, 3, 9, 9, 3, 9, 9, 9, 9, 9, 9, 0, 9, 9, 4, 3, 0, 3, 3,\n",
       "       9, 9, 9, 9, 9, 9, 3, 3, 9, 9, 9, 9, 3, 9, 9, 0, 9, 0, 9, 9, 9, 9,\n",
       "       9, 9, 9, 3, 9, 9, 0, 9, 9, 9, 3, 6, 9, 0, 9, 9, 9, 3, 3, 9, 9, 9,\n",
       "       9, 9, 3, 9, 3, 3, 9, 9, 9, 9, 9, 3, 3, 3, 9, 9, 9, 9, 0, 3, 9, 9,\n",
       "       9, 9, 9, 9, 9, 0, 9, 9, 9, 9, 9, 9, 3, 0, 9, 9, 9, 9, 0, 9, 9, 9,\n",
       "       9, 9, 9, 9, 9, 9, 9, 9, 9, 9, 9, 9, 9, 9, 9, 9, 9, 9, 3, 9, 9, 9,\n",
       "       9, 9, 9, 9, 9, 3, 3, 9, 9, 9, 3, 9, 9, 9, 9, 9, 0, 9, 9, 9, 9, 9,\n",
       "       0, 3, 9, 0, 9, 9, 9, 9, 9, 9, 9, 9, 0, 9, 9, 9, 9], dtype=int64)"
      ]
     },
     "execution_count": 189,
     "metadata": {},
     "output_type": "execute_result"
    }
   ],
   "source": [
    "combined_labels_ts"
   ]
  },
  {
   "cell_type": "code",
   "execution_count": 191,
   "metadata": {},
   "outputs": [
    {
     "data": {
      "text/plain": [
       "1.5252946650058097"
      ]
     },
     "execution_count": 191,
     "metadata": {},
     "output_type": "execute_result"
    }
   ],
   "source": [
    "db_score(combined_input, combined_labels_ts)"
   ]
  },
  {
   "cell_type": "code",
   "execution_count": null,
   "metadata": {},
   "outputs": [],
   "source": []
  }
 ],
 "metadata": {
  "kernelspec": {
   "display_name": "base",
   "language": "python",
   "name": "python3"
  },
  "language_info": {
   "codemirror_mode": {
    "name": "ipython",
    "version": 3
   },
   "file_extension": ".py",
   "mimetype": "text/x-python",
   "name": "python",
   "nbconvert_exporter": "python",
   "pygments_lexer": "ipython3",
   "version": "3.10.9"
  }
 },
 "nbformat": 4,
 "nbformat_minor": 2
}
