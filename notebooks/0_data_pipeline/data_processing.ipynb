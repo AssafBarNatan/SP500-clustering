{
 "cells": [
  {
   "cell_type": "markdown",
   "metadata": {},
   "source": [
    "# Data Retrieval"
   ]
  },
  {
   "cell_type": "markdown",
   "metadata": {},
   "source": [
    "This notebook demonstrates our data retrieval process."
   ]
  },
  {
   "cell_type": "markdown",
   "metadata": {},
   "source": [
    "## The `DataBank` Construct"
   ]
  },
  {
   "cell_type": "code",
   "execution_count": 1,
   "metadata": {},
   "outputs": [],
   "source": [
    "from data_pipeline.retrieval import DataBank, download_adj_close"
   ]
  },
  {
   "cell_type": "markdown",
   "metadata": {},
   "source": [
    "Our `DataBank` collects all the tickers from the Wikipedia article on the list of S&P 500 companies. It has methods for downloading all the tickers, as well as organizing the tickers by GCIS Sector and GCIS Sub-Industry. Let's initialize an instance of our `DataBank` and collect tickers. (As a sanity check, we compute the length of the list of tickers we obtain.)"
   ]
  },
  {
   "cell_type": "code",
   "execution_count": 2,
   "metadata": {},
   "outputs": [
    {
     "data": {
      "text/plain": [
       "503"
      ]
     },
     "execution_count": 2,
     "metadata": {},
     "output_type": "execute_result"
    }
   ],
   "source": [
    "data_bank = DataBank()\n",
    "tickers = data_bank.get_tickers()\n",
    "\n",
    "len(tickers)"
   ]
  },
  {
   "cell_type": "code",
   "execution_count": 3,
   "metadata": {},
   "outputs": [
    {
     "data": {
      "text/plain": [
       "['MMM', 'AOS', 'ABT', 'ABBV', 'ACN']"
      ]
     },
     "execution_count": 3,
     "metadata": {},
     "output_type": "execute_result"
    }
   ],
   "source": [
    "tickers[:5]"
   ]
  },
  {
   "cell_type": "markdown",
   "metadata": {},
   "source": [
    "## Tickers by Sector and Sub-Industry"
   ]
  },
  {
   "cell_type": "markdown",
   "metadata": {},
   "source": [
    "The tickers can also be obtained by sector and sub-industry. In particular, the `DataBank` object has methods for constructing ticker-to-sector maps and ticker-to-subindustry maps. Here, the terms 'sector' and 'sub-industry' refer to the [GICS](https://en.wikipedia.org/wiki/Global_Industry_Classification_Standard) sectors and sub-industries. \n",
    "\n",
    "These methods are particularly useful when one would like to cluster particular tickers in accordance with their GICS classifications."
   ]
  },
  {
   "cell_type": "code",
   "execution_count": 12,
   "metadata": {},
   "outputs": [
    {
     "data": {
      "text/plain": [
       "['Industrials',\n",
       " 'Health Care',\n",
       " 'Information Technology',\n",
       " 'Consumer Staples',\n",
       " 'Utilities']"
      ]
     },
     "execution_count": 12,
     "metadata": {},
     "output_type": "execute_result"
    }
   ],
   "source": [
    "data_bank.get_sectors_list()[:5]"
   ]
  },
  {
   "cell_type": "code",
   "execution_count": 13,
   "metadata": {},
   "outputs": [
    {
     "data": {
      "text/plain": [
       "['Industrial Conglomerates',\n",
       " 'Building Products',\n",
       " 'Health Care Equipment',\n",
       " 'Pharmaceuticals',\n",
       " 'IT Consulting & Other Services']"
      ]
     },
     "execution_count": 13,
     "metadata": {},
     "output_type": "execute_result"
    }
   ],
   "source": [
    "data_bank.get_subind_list()[:5]"
   ]
  },
  {
   "cell_type": "code",
   "execution_count": 8,
   "metadata": {},
   "outputs": [],
   "source": [
    "from itertools import islice"
   ]
  },
  {
   "cell_type": "code",
   "execution_count": 10,
   "metadata": {},
   "outputs": [
    {
     "data": {
      "text/plain": [
       "{'MMM': 'Industrials',\n",
       " 'AOS': 'Industrials',\n",
       " 'ABT': 'Health Care',\n",
       " 'ABBV': 'Health Care',\n",
       " 'ACN': 'Information Technology'}"
      ]
     },
     "execution_count": 10,
     "metadata": {},
     "output_type": "execute_result"
    }
   ],
   "source": [
    "dict(islice(data_bank.ticker_to_sector_map().items(), 5))"
   ]
  },
  {
   "cell_type": "code",
   "execution_count": 11,
   "metadata": {},
   "outputs": [
    {
     "data": {
      "text/plain": [
       "{'MMM': 'Industrial Conglomerates',\n",
       " 'AOS': 'Building Products',\n",
       " 'ABT': 'Health Care Equipment',\n",
       " 'ABBV': 'Pharmaceuticals',\n",
       " 'ACN': 'IT Consulting & Other Services'}"
      ]
     },
     "execution_count": 11,
     "metadata": {},
     "output_type": "execute_result"
    }
   ],
   "source": [
    "dict(islice(data_bank.ticker_to_subind_map().items(), 5))"
   ]
  },
  {
   "cell_type": "markdown",
   "metadata": {},
   "source": [
    "## Downloading Data"
   ]
  },
  {
   "cell_type": "markdown",
   "metadata": {},
   "source": [
    "We download our data from Yahoo! Finance. Our primary data of interest will be the adjusted closing prices for the various tickers considered. One has to select a list of tickers, a `start` date and an `end` date (instead of a period), and one then obtains a dataframe whose columns are the tickers, and whose index is the date."
   ]
  },
  {
   "cell_type": "code",
   "execution_count": 8,
   "metadata": {},
   "outputs": [],
   "source": [
    "start = '2023-11-18'\n",
    "end = TODAY"
   ]
  },
  {
   "cell_type": "code",
   "execution_count": 9,
   "metadata": {},
   "outputs": [
    {
     "name": "stdout",
     "output_type": "stream",
     "text": [
      "[*********************100%%**********************]  503 of 503 completed"
     ]
    },
    {
     "name": "stderr",
     "output_type": "stream",
     "text": [
      "\n",
      "2 Failed downloads:\n",
      "['BRK.B']: Exception('%ticker%: No timezone found, symbol may be delisted')\n",
      "['BF.B']: Exception('%ticker%: No price data found, symbol may be delisted (1d 2023-11-18 00:00:00 -> 2023-11-28 17:04:11.277871)')\n"
     ]
    },
    {
     "name": "stdout",
     "output_type": "stream",
     "text": [
      "\n"
     ]
    }
   ],
   "source": [
    "adj_closing_prices = download_adj_close(tickers, start, save_data=False)"
   ]
  },
  {
   "cell_type": "code",
   "execution_count": 10,
   "metadata": {},
   "outputs": [
    {
     "data": {
      "text/html": [
       "<div>\n",
       "<style scoped>\n",
       "    .dataframe tbody tr th:only-of-type {\n",
       "        vertical-align: middle;\n",
       "    }\n",
       "\n",
       "    .dataframe tbody tr th {\n",
       "        vertical-align: top;\n",
       "    }\n",
       "\n",
       "    .dataframe thead th {\n",
       "        text-align: right;\n",
       "    }\n",
       "</style>\n",
       "<table border=\"1\" class=\"dataframe\">\n",
       "  <thead>\n",
       "    <tr style=\"text-align: right;\">\n",
       "      <th></th>\n",
       "      <th>A</th>\n",
       "      <th>AAL</th>\n",
       "      <th>AAPL</th>\n",
       "      <th>ABBV</th>\n",
       "      <th>ABNB</th>\n",
       "      <th>ABT</th>\n",
       "      <th>ACGL</th>\n",
       "      <th>ACN</th>\n",
       "      <th>ADBE</th>\n",
       "      <th>ADI</th>\n",
       "      <th>...</th>\n",
       "      <th>WYNN</th>\n",
       "      <th>XEL</th>\n",
       "      <th>XOM</th>\n",
       "      <th>XRAY</th>\n",
       "      <th>XYL</th>\n",
       "      <th>YUM</th>\n",
       "      <th>ZBH</th>\n",
       "      <th>ZBRA</th>\n",
       "      <th>ZION</th>\n",
       "      <th>ZTS</th>\n",
       "    </tr>\n",
       "    <tr>\n",
       "      <th>Date</th>\n",
       "      <th></th>\n",
       "      <th></th>\n",
       "      <th></th>\n",
       "      <th></th>\n",
       "      <th></th>\n",
       "      <th></th>\n",
       "      <th></th>\n",
       "      <th></th>\n",
       "      <th></th>\n",
       "      <th></th>\n",
       "      <th></th>\n",
       "      <th></th>\n",
       "      <th></th>\n",
       "      <th></th>\n",
       "      <th></th>\n",
       "      <th></th>\n",
       "      <th></th>\n",
       "      <th></th>\n",
       "      <th></th>\n",
       "      <th></th>\n",
       "      <th></th>\n",
       "    </tr>\n",
       "  </thead>\n",
       "  <tbody>\n",
       "    <tr>\n",
       "      <th>2023-11-20 00:00:00</th>\n",
       "      <td>113.980003</td>\n",
       "      <td>12.40</td>\n",
       "      <td>191.449997</td>\n",
       "      <td>138.309998</td>\n",
       "      <td>129.699997</td>\n",
       "      <td>101.199997</td>\n",
       "      <td>84.459999</td>\n",
       "      <td>330.899994</td>\n",
       "      <td>612.700012</td>\n",
       "      <td>183.820007</td>\n",
       "      <td>...</td>\n",
       "      <td>87.169998</td>\n",
       "      <td>60.060001</td>\n",
       "      <td>104.500000</td>\n",
       "      <td>29.940001</td>\n",
       "      <td>100.209999</td>\n",
       "      <td>127.516830</td>\n",
       "      <td>112.500000</td>\n",
       "      <td>220.539993</td>\n",
       "      <td>35.779999</td>\n",
       "      <td>176.059998</td>\n",
       "    </tr>\n",
       "    <tr>\n",
       "      <th>2023-11-21 00:00:00</th>\n",
       "      <td>123.919998</td>\n",
       "      <td>12.13</td>\n",
       "      <td>190.639999</td>\n",
       "      <td>138.729996</td>\n",
       "      <td>126.820000</td>\n",
       "      <td>101.910004</td>\n",
       "      <td>86.129997</td>\n",
       "      <td>330.260010</td>\n",
       "      <td>610.989990</td>\n",
       "      <td>181.250000</td>\n",
       "      <td>...</td>\n",
       "      <td>86.860001</td>\n",
       "      <td>60.020000</td>\n",
       "      <td>104.459999</td>\n",
       "      <td>30.990000</td>\n",
       "      <td>101.019997</td>\n",
       "      <td>127.636276</td>\n",
       "      <td>112.900002</td>\n",
       "      <td>222.410004</td>\n",
       "      <td>34.310001</td>\n",
       "      <td>178.729996</td>\n",
       "    </tr>\n",
       "    <tr>\n",
       "      <th>2023-11-22 00:00:00</th>\n",
       "      <td>123.989998</td>\n",
       "      <td>12.31</td>\n",
       "      <td>191.309998</td>\n",
       "      <td>138.470001</td>\n",
       "      <td>129.039993</td>\n",
       "      <td>102.699997</td>\n",
       "      <td>85.949997</td>\n",
       "      <td>333.130005</td>\n",
       "      <td>619.719971</td>\n",
       "      <td>182.669998</td>\n",
       "      <td>...</td>\n",
       "      <td>87.529999</td>\n",
       "      <td>60.430000</td>\n",
       "      <td>104.010002</td>\n",
       "      <td>31.360001</td>\n",
       "      <td>102.220001</td>\n",
       "      <td>128.332977</td>\n",
       "      <td>113.830002</td>\n",
       "      <td>225.860001</td>\n",
       "      <td>34.410000</td>\n",
       "      <td>179.350006</td>\n",
       "    </tr>\n",
       "    <tr>\n",
       "      <th>2023-11-24 00:00:00</th>\n",
       "      <td>126.620003</td>\n",
       "      <td>12.31</td>\n",
       "      <td>189.970001</td>\n",
       "      <td>138.669998</td>\n",
       "      <td>128.369995</td>\n",
       "      <td>102.870003</td>\n",
       "      <td>86.599998</td>\n",
       "      <td>334.040009</td>\n",
       "      <td>619.429993</td>\n",
       "      <td>183.050003</td>\n",
       "      <td>...</td>\n",
       "      <td>88.309998</td>\n",
       "      <td>60.520000</td>\n",
       "      <td>104.570000</td>\n",
       "      <td>31.320000</td>\n",
       "      <td>103.260002</td>\n",
       "      <td>127.904991</td>\n",
       "      <td>113.430000</td>\n",
       "      <td>228.919998</td>\n",
       "      <td>34.349998</td>\n",
       "      <td>180.210007</td>\n",
       "    </tr>\n",
       "    <tr>\n",
       "      <th>2023-11-27 00:00:00</th>\n",
       "      <td>125.010002</td>\n",
       "      <td>12.18</td>\n",
       "      <td>189.789993</td>\n",
       "      <td>139.089996</td>\n",
       "      <td>129.000000</td>\n",
       "      <td>102.709999</td>\n",
       "      <td>87.000000</td>\n",
       "      <td>332.429993</td>\n",
       "      <td>619.270020</td>\n",
       "      <td>183.770004</td>\n",
       "      <td>...</td>\n",
       "      <td>87.059998</td>\n",
       "      <td>60.450001</td>\n",
       "      <td>103.959999</td>\n",
       "      <td>31.480000</td>\n",
       "      <td>103.180000</td>\n",
       "      <td>127.690002</td>\n",
       "      <td>113.839996</td>\n",
       "      <td>231.500000</td>\n",
       "      <td>34.400002</td>\n",
       "      <td>178.789993</td>\n",
       "    </tr>\n",
       "    <tr>\n",
       "      <th>2023-11-28 00:00:00</th>\n",
       "      <td>124.709999</td>\n",
       "      <td>12.17</td>\n",
       "      <td>190.399994</td>\n",
       "      <td>138.080002</td>\n",
       "      <td>127.559998</td>\n",
       "      <td>102.059998</td>\n",
       "      <td>84.449997</td>\n",
       "      <td>332.559998</td>\n",
       "      <td>623.320007</td>\n",
       "      <td>183.199997</td>\n",
       "      <td>...</td>\n",
       "      <td>84.940002</td>\n",
       "      <td>60.970001</td>\n",
       "      <td>103.900002</td>\n",
       "      <td>31.480000</td>\n",
       "      <td>102.639999</td>\n",
       "      <td>126.389999</td>\n",
       "      <td>113.089996</td>\n",
       "      <td>233.889999</td>\n",
       "      <td>34.549999</td>\n",
       "      <td>176.970001</td>\n",
       "    </tr>\n",
       "  </tbody>\n",
       "</table>\n",
       "<p>6 rows × 501 columns</p>\n",
       "</div>"
      ],
      "text/plain": [
       "                              A    AAL        AAPL        ABBV        ABNB  \\\n",
       "Date                                                                         \n",
       "2023-11-20 00:00:00  113.980003  12.40  191.449997  138.309998  129.699997   \n",
       "2023-11-21 00:00:00  123.919998  12.13  190.639999  138.729996  126.820000   \n",
       "2023-11-22 00:00:00  123.989998  12.31  191.309998  138.470001  129.039993   \n",
       "2023-11-24 00:00:00  126.620003  12.31  189.970001  138.669998  128.369995   \n",
       "2023-11-27 00:00:00  125.010002  12.18  189.789993  139.089996  129.000000   \n",
       "2023-11-28 00:00:00  124.709999  12.17  190.399994  138.080002  127.559998   \n",
       "\n",
       "                            ABT       ACGL         ACN        ADBE  \\\n",
       "Date                                                                 \n",
       "2023-11-20 00:00:00  101.199997  84.459999  330.899994  612.700012   \n",
       "2023-11-21 00:00:00  101.910004  86.129997  330.260010  610.989990   \n",
       "2023-11-22 00:00:00  102.699997  85.949997  333.130005  619.719971   \n",
       "2023-11-24 00:00:00  102.870003  86.599998  334.040009  619.429993   \n",
       "2023-11-27 00:00:00  102.709999  87.000000  332.429993  619.270020   \n",
       "2023-11-28 00:00:00  102.059998  84.449997  332.559998  623.320007   \n",
       "\n",
       "                            ADI  ...       WYNN        XEL         XOM  \\\n",
       "Date                             ...                                     \n",
       "2023-11-20 00:00:00  183.820007  ...  87.169998  60.060001  104.500000   \n",
       "2023-11-21 00:00:00  181.250000  ...  86.860001  60.020000  104.459999   \n",
       "2023-11-22 00:00:00  182.669998  ...  87.529999  60.430000  104.010002   \n",
       "2023-11-24 00:00:00  183.050003  ...  88.309998  60.520000  104.570000   \n",
       "2023-11-27 00:00:00  183.770004  ...  87.059998  60.450001  103.959999   \n",
       "2023-11-28 00:00:00  183.199997  ...  84.940002  60.970001  103.900002   \n",
       "\n",
       "                          XRAY         XYL         YUM         ZBH  \\\n",
       "Date                                                                 \n",
       "2023-11-20 00:00:00  29.940001  100.209999  127.516830  112.500000   \n",
       "2023-11-21 00:00:00  30.990000  101.019997  127.636276  112.900002   \n",
       "2023-11-22 00:00:00  31.360001  102.220001  128.332977  113.830002   \n",
       "2023-11-24 00:00:00  31.320000  103.260002  127.904991  113.430000   \n",
       "2023-11-27 00:00:00  31.480000  103.180000  127.690002  113.839996   \n",
       "2023-11-28 00:00:00  31.480000  102.639999  126.389999  113.089996   \n",
       "\n",
       "                           ZBRA       ZION         ZTS  \n",
       "Date                                                    \n",
       "2023-11-20 00:00:00  220.539993  35.779999  176.059998  \n",
       "2023-11-21 00:00:00  222.410004  34.310001  178.729996  \n",
       "2023-11-22 00:00:00  225.860001  34.410000  179.350006  \n",
       "2023-11-24 00:00:00  228.919998  34.349998  180.210007  \n",
       "2023-11-27 00:00:00  231.500000  34.400002  178.789993  \n",
       "2023-11-28 00:00:00  233.889999  34.549999  176.970001  \n",
       "\n",
       "[6 rows x 501 columns]"
      ]
     },
     "execution_count": 10,
     "metadata": {},
     "output_type": "execute_result"
    }
   ],
   "source": [
    "adj_closing_prices"
   ]
  },
  {
   "cell_type": "markdown",
   "metadata": {},
   "source": [
    "# Data Processing"
   ]
  },
  {
   "cell_type": "markdown",
   "metadata": {},
   "source": [
    "Our data processing pipeline is simple:\n",
    "* We take the adjusted close price data previously obtained as a dataframe from our retrieval process.\n",
    "* We feed this dataframe to a `ClusterInput` class as an attribute, along with an optional second attribute `transform`. This second attribute is a function that will transform the multivariate time series into a multivariate time series that is more suitable for clustering purposes. For instance, we could normalize the time series using the $\\ell_2$-norm. We would also take the series of returns as our clustering input. Alternatively, we could take the return of return series.\n",
    "* The resulting `ClusterInput` object then has a `df` attribute representing the transposed transformed time series as a dataframe. The latter can readily be used as an input (features) for various standard clustering models that are part of standard libraries such as `scikit-learn` and `tslearn`.\n",
    "\n",
    "Note that this input can be further by processing by the standard `preprocessing` classes of the aforementioned libraries. \n",
    "\n",
    "In what follows, we offer two examples: one using `KMeans` from `scikit-learn` and one using `TimeSeriesKMeans` from `tslearn`."
   ]
  },
  {
   "cell_type": "markdown",
   "metadata": {},
   "source": [
    "## Clustering Input Generation"
   ]
  },
  {
   "cell_type": "code",
   "execution_count": 11,
   "metadata": {},
   "outputs": [],
   "source": [
    "from data_pipeline.processing import ClusterInput"
   ]
  },
  {
   "cell_type": "code",
   "execution_count": 12,
   "metadata": {},
   "outputs": [
    {
     "data": {
      "text/html": [
       "<div>\n",
       "<style scoped>\n",
       "    .dataframe tbody tr th:only-of-type {\n",
       "        vertical-align: middle;\n",
       "    }\n",
       "\n",
       "    .dataframe tbody tr th {\n",
       "        vertical-align: top;\n",
       "    }\n",
       "\n",
       "    .dataframe thead th {\n",
       "        text-align: right;\n",
       "    }\n",
       "</style>\n",
       "<table border=\"1\" class=\"dataframe\">\n",
       "  <thead>\n",
       "    <tr style=\"text-align: right;\">\n",
       "      <th>Date</th>\n",
       "      <th>2023-11-21 00:00:00</th>\n",
       "      <th>2023-11-22 00:00:00</th>\n",
       "      <th>2023-11-24 00:00:00</th>\n",
       "      <th>2023-11-27 00:00:00</th>\n",
       "      <th>2023-11-28 00:00:00</th>\n",
       "    </tr>\n",
       "  </thead>\n",
       "  <tbody>\n",
       "    <tr>\n",
       "      <th>A</th>\n",
       "      <td>0.087208</td>\n",
       "      <td>0.000565</td>\n",
       "      <td>0.021211</td>\n",
       "      <td>-0.012715</td>\n",
       "      <td>-0.002400</td>\n",
       "    </tr>\n",
       "    <tr>\n",
       "      <th>AAL</th>\n",
       "      <td>-0.021774</td>\n",
       "      <td>0.014839</td>\n",
       "      <td>0.000000</td>\n",
       "      <td>-0.010561</td>\n",
       "      <td>-0.000821</td>\n",
       "    </tr>\n",
       "    <tr>\n",
       "      <th>AAPL</th>\n",
       "      <td>-0.004231</td>\n",
       "      <td>0.003514</td>\n",
       "      <td>-0.007004</td>\n",
       "      <td>-0.000948</td>\n",
       "      <td>0.003214</td>\n",
       "    </tr>\n",
       "    <tr>\n",
       "      <th>ABBV</th>\n",
       "      <td>0.003037</td>\n",
       "      <td>-0.001874</td>\n",
       "      <td>0.001444</td>\n",
       "      <td>0.003029</td>\n",
       "      <td>-0.007261</td>\n",
       "    </tr>\n",
       "    <tr>\n",
       "      <th>ABNB</th>\n",
       "      <td>-0.022205</td>\n",
       "      <td>0.017505</td>\n",
       "      <td>-0.005192</td>\n",
       "      <td>0.004908</td>\n",
       "      <td>-0.011163</td>\n",
       "    </tr>\n",
       "    <tr>\n",
       "      <th>...</th>\n",
       "      <td>...</td>\n",
       "      <td>...</td>\n",
       "      <td>...</td>\n",
       "      <td>...</td>\n",
       "      <td>...</td>\n",
       "    </tr>\n",
       "    <tr>\n",
       "      <th>YUM</th>\n",
       "      <td>0.000937</td>\n",
       "      <td>0.005458</td>\n",
       "      <td>-0.003335</td>\n",
       "      <td>-0.001681</td>\n",
       "      <td>-0.010181</td>\n",
       "    </tr>\n",
       "    <tr>\n",
       "      <th>ZBH</th>\n",
       "      <td>0.003556</td>\n",
       "      <td>0.008237</td>\n",
       "      <td>-0.003514</td>\n",
       "      <td>0.003615</td>\n",
       "      <td>-0.006588</td>\n",
       "    </tr>\n",
       "    <tr>\n",
       "      <th>ZBRA</th>\n",
       "      <td>0.008479</td>\n",
       "      <td>0.015512</td>\n",
       "      <td>0.013548</td>\n",
       "      <td>0.011270</td>\n",
       "      <td>0.010324</td>\n",
       "    </tr>\n",
       "    <tr>\n",
       "      <th>ZION</th>\n",
       "      <td>-0.041084</td>\n",
       "      <td>0.002915</td>\n",
       "      <td>-0.001744</td>\n",
       "      <td>0.001456</td>\n",
       "      <td>0.004360</td>\n",
       "    </tr>\n",
       "    <tr>\n",
       "      <th>ZTS</th>\n",
       "      <td>0.015165</td>\n",
       "      <td>0.003469</td>\n",
       "      <td>0.004795</td>\n",
       "      <td>-0.007880</td>\n",
       "      <td>-0.010179</td>\n",
       "    </tr>\n",
       "  </tbody>\n",
       "</table>\n",
       "<p>501 rows × 5 columns</p>\n",
       "</div>"
      ],
      "text/plain": [
       "Date  2023-11-21 00:00:00  2023-11-22 00:00:00  2023-11-24 00:00:00  \\\n",
       "A                0.087208             0.000565             0.021211   \n",
       "AAL             -0.021774             0.014839             0.000000   \n",
       "AAPL            -0.004231             0.003514            -0.007004   \n",
       "ABBV             0.003037            -0.001874             0.001444   \n",
       "ABNB            -0.022205             0.017505            -0.005192   \n",
       "...                   ...                  ...                  ...   \n",
       "YUM              0.000937             0.005458            -0.003335   \n",
       "ZBH              0.003556             0.008237            -0.003514   \n",
       "ZBRA             0.008479             0.015512             0.013548   \n",
       "ZION            -0.041084             0.002915            -0.001744   \n",
       "ZTS              0.015165             0.003469             0.004795   \n",
       "\n",
       "Date  2023-11-27 00:00:00  2023-11-28 00:00:00  \n",
       "A               -0.012715            -0.002400  \n",
       "AAL             -0.010561            -0.000821  \n",
       "AAPL            -0.000948             0.003214  \n",
       "ABBV             0.003029            -0.007261  \n",
       "ABNB             0.004908            -0.011163  \n",
       "...                   ...                  ...  \n",
       "YUM             -0.001681            -0.010181  \n",
       "ZBH              0.003615            -0.006588  \n",
       "ZBRA             0.011270             0.010324  \n",
       "ZION             0.001456             0.004360  \n",
       "ZTS             -0.007880            -0.010179  \n",
       "\n",
       "[501 rows x 5 columns]"
      ]
     },
     "execution_count": 12,
     "metadata": {},
     "output_type": "execute_result"
    }
   ],
   "source": [
    "clustering_input = ClusterInput(adj_closing_prices).df\n",
    "clustering_input"
   ]
  },
  {
   "cell_type": "markdown",
   "metadata": {},
   "source": [
    "## Further Preprocessing (Optional)"
   ]
  },
  {
   "cell_type": "code",
   "execution_count": 13,
   "metadata": {},
   "outputs": [
    {
     "data": {
      "text/plain": [
       "array([[ 5.82515761, -0.56052074,  2.90077242, -1.02664028, -0.13616226],\n",
       "       [-1.32279063,  1.20994666, -0.51832089, -0.81402193, -0.01055935],\n",
       "       [-0.17215902, -0.19468001, -1.64735483,  0.13455857,  0.31045918],\n",
       "       ...,\n",
       "       [ 0.6614718 ,  1.29337142,  1.66552912,  1.34018436,  0.87609464],\n",
       "       [-2.58930868, -0.26908753, -0.79939288,  0.37170474,  0.4016557 ],\n",
       "       [ 1.09999646, -0.20032221,  0.254606  , -0.54949227, -0.75508239]])"
      ]
     },
     "execution_count": 13,
     "metadata": {},
     "output_type": "execute_result"
    }
   ],
   "source": [
    "from sklearn.preprocessing import RobustScaler\n",
    "\n",
    "features_sklearn = RobustScaler().fit_transform(clustering_input)\n",
    "features_sklearn"
   ]
  },
  {
   "cell_type": "code",
   "execution_count": 14,
   "metadata": {},
   "outputs": [
    {
     "data": {
      "text/plain": [
       "array([[[1.        ],\n",
       "        [0.13290267],\n",
       "        [0.33952634],\n",
       "        [0.        ],\n",
       "        [0.10323286]],\n",
       "\n",
       "       [[0.        ],\n",
       "        [1.        ],\n",
       "        [0.59470418],\n",
       "        [0.3062709 ],\n",
       "        [0.5722797 ]],\n",
       "\n",
       "       [[0.26366751],\n",
       "        [1.        ],\n",
       "        [0.        ],\n",
       "        [0.57580398],\n",
       "        [0.97144291]],\n",
       "\n",
       "       ...,\n",
       "\n",
       "       [[0.        ],\n",
       "        [1.        ],\n",
       "        [0.72077732],\n",
       "        [0.3968758 ],\n",
       "        [0.26231056]],\n",
       "\n",
       "       [[0.        ],\n",
       "        [0.96818463],\n",
       "        [0.86568042],\n",
       "        [0.93608268],\n",
       "        [1.        ]],\n",
       "\n",
       "       [[1.        ],\n",
       "        [0.53851243],\n",
       "        [0.5908356 ],\n",
       "        [0.0907377 ],\n",
       "        [0.        ]]])"
      ]
     },
     "execution_count": 14,
     "metadata": {},
     "output_type": "execute_result"
    }
   ],
   "source": [
    "from tslearn.preprocessing import TimeSeriesScalerMinMax\n",
    "\n",
    "features_tslearn = TimeSeriesScalerMinMax().fit_transform(clustering_input)\n",
    "features_tslearn"
   ]
  },
  {
   "cell_type": "markdown",
   "metadata": {},
   "source": [
    "## Feeding Our `ClusterInput` To Models From Standard Libraries"
   ]
  },
  {
   "cell_type": "markdown",
   "metadata": {},
   "source": [
    "We demonstrate this with preprocessing (on `features_<library_name>`) and without preprocessing (on `cluster_input`)."
   ]
  },
  {
   "cell_type": "code",
   "execution_count": 15,
   "metadata": {},
   "outputs": [
    {
     "name": "stderr",
     "output_type": "stream",
     "text": [
      "c:\\Users\\elmeh\\anaconda3\\lib\\site-packages\\sklearn\\cluster\\_kmeans.py:870: FutureWarning: The default value of `n_init` will change from 10 to 'auto' in 1.4. Set the value of `n_init` explicitly to suppress the warning\n",
      "  warnings.warn(\n",
      "c:\\Users\\elmeh\\anaconda3\\lib\\site-packages\\sklearn\\cluster\\_kmeans.py:1382: UserWarning: KMeans is known to have a memory leak on Windows with MKL, when there are less chunks than available threads. You can avoid it by setting the environment variable OMP_NUM_THREADS=2.\n",
      "  warnings.warn(\n"
     ]
    },
    {
     "data": {
      "text/plain": [
       "array([0, 3, 1, 1, 3, 0, 0, 3, 3, 3, 3, 1, 6, 1, 2, 5, 0, 0, 0, 0, 1, 7,\n",
       "       7, 7, 0, 5, 0, 0, 3, 7, 3, 0, 2, 3, 3, 1, 3, 1, 7, 4, 0, 7, 2, 3,\n",
       "       3, 7, 1, 4, 4, 3, 7, 3, 4, 0, 0, 2, 2, 0, 5, 1, 7, 7, 3, 1, 4, 4,\n",
       "       3, 1, 0, 0, 3, 3, 5, 4, 7, 0, 7, 4, 0, 3, 0, 2, 3, 1, 1, 1, 2, 0,\n",
       "       7, 5, 0, 3, 5, 1, 0, 3, 2, 5, 4, 0, 3, 3, 4, 0, 3, 5, 7, 4, 0, 0,\n",
       "       0, 1, 5, 7, 4, 7, 0, 7, 1, 7, 7, 3, 7, 3, 4, 3, 0, 5, 3, 4, 5, 3,\n",
       "       3, 7, 0, 0, 1, 4, 4, 4, 2, 1, 3, 0, 3, 4, 0, 0, 3, 0, 4, 3, 0, 1,\n",
       "       5, 3, 4, 1, 3, 4, 4, 3, 3, 7, 3, 7, 1, 1, 2, 3, 7, 4, 1, 3, 4, 7,\n",
       "       4, 0, 4, 0, 7, 4, 0, 1, 0, 2, 4, 5, 7, 7, 7, 1, 1, 0, 1, 0, 4, 7,\n",
       "       0, 3, 7, 0, 7, 2, 4, 1, 1, 7, 2, 3, 3, 0, 4, 7, 5, 3, 3, 4, 0, 4,\n",
       "       1, 1, 3, 7, 3, 7, 7, 5, 7, 0, 3, 1, 3, 0, 0, 4, 3, 7, 7, 5, 3, 1,\n",
       "       2, 7, 0, 0, 1, 0, 1, 4, 3, 5, 7, 1, 4, 4, 2, 4, 7, 0, 5, 3, 3, 1,\n",
       "       0, 0, 0, 4, 0, 3, 0, 0, 0, 3, 4, 7, 4, 7, 7, 7, 3, 5, 3, 0, 5, 1,\n",
       "       0, 4, 7, 0, 5, 3, 1, 0, 7, 0, 1, 3, 0, 3, 3, 3, 5, 7, 1, 1, 0, 2,\n",
       "       3, 3, 0, 7, 3, 3, 4, 5, 4, 7, 4, 3, 4, 4, 5, 4, 1, 5, 3, 4, 4, 2,\n",
       "       3, 1, 3, 4, 0, 5, 7, 3, 3, 1, 1, 1, 3, 3, 4, 4, 0, 4, 7, 5, 1, 1,\n",
       "       1, 4, 2, 0, 5, 1, 4, 0, 3, 7, 3, 0, 4, 3, 0, 4, 3, 2, 3, 3, 5, 0,\n",
       "       3, 3, 3, 1, 4, 3, 4, 0, 4, 1, 4, 5, 1, 5, 1, 1, 1, 5, 1, 0, 2, 4,\n",
       "       3, 0, 1, 0, 4, 3, 7, 2, 1, 4, 5, 4, 0, 7, 4, 4, 4, 1, 1, 1, 0, 0,\n",
       "       1, 3, 1, 3, 7, 3, 5, 1, 3, 4, 1, 0, 0, 7, 1, 3, 4, 0, 4, 3, 0, 1,\n",
       "       2, 4, 2, 5, 0, 5, 6, 7, 7, 4, 5, 7, 1, 3, 3, 3, 2, 0, 7, 7, 4, 4,\n",
       "       0, 5, 3, 3, 0, 1, 1, 1, 4, 2, 7, 0, 0, 0, 7, 7, 1, 2, 0, 3, 5, 0,\n",
       "       0, 4, 0, 2, 4, 1, 3, 7, 3, 4, 0, 0, 1, 1, 2, 5, 0])"
      ]
     },
     "execution_count": 15,
     "metadata": {},
     "output_type": "execute_result"
    }
   ],
   "source": [
    "from sklearn.cluster import KMeans\n",
    "\n",
    "KMeans().fit(features_sklearn).labels_\n"
   ]
  },
  {
   "cell_type": "code",
   "execution_count": 16,
   "metadata": {},
   "outputs": [
    {
     "name": "stderr",
     "output_type": "stream",
     "text": [
      "c:\\Users\\elmeh\\anaconda3\\lib\\site-packages\\sklearn\\cluster\\_kmeans.py:870: FutureWarning: The default value of `n_init` will change from 10 to 'auto' in 1.4. Set the value of `n_init` explicitly to suppress the warning\n",
      "  warnings.warn(\n",
      "c:\\Users\\elmeh\\anaconda3\\lib\\site-packages\\sklearn\\cluster\\_kmeans.py:1382: UserWarning: KMeans is known to have a memory leak on Windows with MKL, when there are less chunks than available threads. You can avoid it by setting the environment variable OMP_NUM_THREADS=2.\n",
      "  warnings.warn(\n"
     ]
    },
    {
     "data": {
      "text/plain": [
       "array([0, 2, 6, 5, 7, 5, 5, 3, 3, 1, 4, 6, 6, 3, 3, 2, 5, 5, 5, 5, 3, 2,\n",
       "       7, 2, 5, 6, 7, 5, 1, 4, 6, 7, 1, 1, 3, 6, 7, 7, 4, 5, 3, 4, 1, 1,\n",
       "       4, 4, 6, 4, 5, 1, 4, 3, 6, 5, 5, 0, 1, 5, 2, 3, 4, 4, 6, 6, 6, 3,\n",
       "       4, 3, 5, 5, 7, 1, 2, 6, 4, 5, 7, 6, 5, 3, 3, 1, 1, 6, 6, 7, 1, 5,\n",
       "       4, 2, 3, 4, 2, 3, 5, 3, 3, 2, 6, 5, 3, 3, 6, 5, 3, 2, 4, 6, 5, 3,\n",
       "       7, 7, 1, 4, 6, 6, 5, 4, 3, 4, 4, 3, 4, 3, 6, 7, 3, 2, 6, 6, 4, 3,\n",
       "       3, 6, 0, 7, 3, 4, 6, 6, 1, 5, 3, 3, 3, 6, 5, 5, 3, 5, 6, 3, 5, 3,\n",
       "       2, 3, 6, 6, 4, 6, 6, 3, 3, 4, 3, 4, 7, 3, 1, 3, 4, 6, 3, 3, 6, 2,\n",
       "       6, 7, 3, 5, 4, 5, 3, 3, 5, 1, 6, 2, 4, 7, 7, 1, 3, 5, 3, 3, 5, 7,\n",
       "       3, 7, 4, 5, 6, 1, 6, 3, 3, 4, 1, 1, 1, 7, 6, 4, 2, 7, 1, 6, 5, 6,\n",
       "       3, 7, 3, 7, 3, 4, 4, 1, 4, 7, 4, 5, 3, 3, 5, 5, 1, 2, 2, 2, 6, 6,\n",
       "       1, 7, 3, 7, 3, 7, 5, 5, 1, 2, 4, 3, 6, 4, 3, 6, 4, 5, 2, 3, 3, 1,\n",
       "       7, 3, 3, 6, 3, 3, 3, 5, 3, 7, 5, 4, 5, 4, 4, 4, 3, 2, 7, 5, 2, 7,\n",
       "       5, 6, 7, 3, 1, 7, 1, 3, 2, 3, 3, 3, 0, 3, 2, 7, 1, 4, 3, 5, 7, 1,\n",
       "       3, 3, 5, 4, 1, 2, 7, 2, 6, 7, 5, 1, 5, 6, 2, 0, 7, 2, 3, 5, 3, 0,\n",
       "       3, 3, 3, 3, 5, 2, 4, 6, 3, 5, 6, 6, 5, 3, 6, 5, 7, 6, 4, 2, 6, 3,\n",
       "       5, 6, 0, 5, 2, 3, 6, 7, 1, 4, 3, 5, 6, 3, 5, 5, 7, 5, 3, 3, 1, 1,\n",
       "       3, 7, 3, 3, 3, 3, 6, 6, 6, 7, 6, 1, 7, 2, 1, 1, 6, 2, 7, 7, 1, 3,\n",
       "       7, 5, 3, 5, 5, 1, 4, 1, 7, 6, 2, 6, 5, 7, 6, 7, 6, 3, 6, 3, 5, 5,\n",
       "       5, 2, 1, 1, 2, 6, 2, 5, 3, 5, 3, 5, 5, 4, 6, 7, 6, 3, 3, 4, 5, 3,\n",
       "       1, 5, 1, 2, 5, 2, 0, 4, 7, 6, 6, 4, 7, 7, 1, 7, 3, 5, 4, 4, 7, 2,\n",
       "       5, 2, 1, 1, 5, 7, 5, 3, 6, 1, 7, 3, 5, 0, 4, 7, 1, 1, 5, 1, 2, 5,\n",
       "       3, 6, 5, 1, 5, 5, 7, 7, 3, 6, 0, 5, 7, 3, 3, 2, 5])"
      ]
     },
     "execution_count": 16,
     "metadata": {},
     "output_type": "execute_result"
    }
   ],
   "source": [
    "KMeans().fit(clustering_input).labels_"
   ]
  },
  {
   "cell_type": "code",
   "execution_count": 17,
   "metadata": {},
   "outputs": [
    {
     "data": {
      "text/plain": [
       "array([2, 1, 1, 2, 1, 2, 2, 0, 1, 1, 0, 0, 0, 1, 0, 1, 2, 2, 2, 2, 0, 0,\n",
       "       2, 1, 2, 1, 1, 2, 1, 0, 1, 2, 1, 1, 2, 1, 1, 2, 0, 2, 2, 0, 1, 1,\n",
       "       0, 0, 2, 0, 2, 1, 0, 0, 1, 2, 2, 0, 1, 2, 1, 0, 0, 0, 0, 1, 2, 0,\n",
       "       1, 2, 2, 2, 1, 1, 1, 2, 0, 2, 1, 1, 2, 1, 1, 1, 1, 1, 2, 2, 1, 2,\n",
       "       0, 1, 2, 0, 1, 0, 2, 0, 0, 1, 0, 2, 0, 0, 1, 2, 1, 1, 0, 0, 2, 2,\n",
       "       2, 2, 1, 0, 1, 1, 2, 0, 2, 0, 0, 0, 0, 0, 1, 1, 0, 1, 1, 0, 0, 0,\n",
       "       1, 1, 2, 2, 2, 0, 0, 0, 2, 2, 0, 2, 1, 1, 2, 2, 2, 2, 1, 1, 2, 1,\n",
       "       1, 2, 1, 0, 0, 1, 1, 2, 0, 0, 0, 0, 2, 2, 1, 0, 0, 1, 1, 2, 1, 1,\n",
       "       1, 2, 0, 2, 0, 2, 0, 0, 2, 1, 1, 1, 0, 1, 1, 1, 1, 2, 1, 2, 2, 2,\n",
       "       2, 1, 0, 2, 0, 1, 1, 0, 0, 0, 1, 1, 1, 2, 0, 0, 1, 2, 1, 0, 2, 0,\n",
       "       2, 2, 1, 1, 1, 0, 0, 1, 1, 2, 0, 2, 1, 0, 2, 2, 1, 0, 1, 1, 1, 1,\n",
       "       1, 1, 0, 2, 1, 2, 2, 2, 1, 1, 0, 2, 1, 0, 1, 1, 0, 2, 1, 1, 0, 1,\n",
       "       2, 2, 2, 1, 0, 2, 0, 2, 2, 1, 2, 0, 2, 0, 0, 0, 1, 1, 1, 2, 1, 2,\n",
       "       2, 0, 1, 0, 1, 2, 1, 0, 1, 2, 0, 0, 2, 1, 1, 1, 1, 0, 0, 2, 2, 1,\n",
       "       0, 1, 2, 0, 1, 1, 2, 1, 1, 1, 0, 1, 2, 1, 1, 0, 1, 1, 0, 2, 0, 0,\n",
       "       2, 1, 1, 0, 2, 1, 0, 1, 1, 2, 2, 1, 2, 2, 1, 2, 2, 2, 0, 1, 1, 2,\n",
       "       2, 1, 0, 2, 1, 1, 2, 2, 1, 0, 0, 2, 0, 1, 2, 2, 1, 2, 1, 0, 1, 1,\n",
       "       1, 2, 0, 2, 0, 1, 1, 1, 2, 2, 0, 1, 1, 1, 1, 1, 1, 1, 2, 2, 1, 0,\n",
       "       1, 2, 0, 2, 2, 1, 0, 1, 2, 1, 1, 0, 2, 0, 2, 2, 1, 2, 1, 0, 2, 2,\n",
       "       2, 1, 1, 1, 1, 1, 1, 2, 0, 2, 2, 2, 2, 0, 1, 1, 1, 0, 0, 0, 2, 2,\n",
       "       1, 2, 1, 1, 2, 1, 0, 0, 2, 1, 1, 0, 2, 1, 1, 2, 1, 2, 0, 0, 2, 1,\n",
       "       2, 1, 1, 1, 2, 2, 2, 2, 2, 1, 2, 0, 2, 2, 0, 1, 1, 1, 2, 1, 1, 2,\n",
       "       2, 0, 2, 1, 2, 2, 1, 2, 1, 0, 2, 2, 2, 2, 1, 1, 2], dtype=int64)"
      ]
     },
     "execution_count": 17,
     "metadata": {},
     "output_type": "execute_result"
    }
   ],
   "source": [
    "from tslearn.clustering import TimeSeriesKMeans\n",
    "\n",
    "TimeSeriesKMeans().fit(features_tslearn).labels_"
   ]
  },
  {
   "cell_type": "code",
   "execution_count": 18,
   "metadata": {},
   "outputs": [
    {
     "data": {
      "text/plain": [
       "array([2, 0, 0, 2, 0, 2, 1, 2, 0, 0, 2, 1, 0, 2, 2, 0, 2, 2, 2, 1, 2, 0,\n",
       "       1, 0, 2, 0, 1, 2, 0, 1, 0, 1, 0, 0, 2, 1, 1, 1, 0, 2, 2, 0, 0, 0,\n",
       "       2, 1, 2, 2, 2, 0, 1, 2, 0, 2, 2, 2, 0, 2, 0, 2, 1, 1, 0, 0, 2, 2,\n",
       "       0, 2, 1, 2, 1, 0, 0, 1, 2, 2, 1, 2, 2, 2, 2, 0, 0, 0, 2, 1, 2, 2,\n",
       "       1, 0, 2, 2, 0, 2, 1, 2, 2, 0, 1, 2, 2, 2, 0, 2, 0, 0, 1, 2, 2, 2,\n",
       "       1, 1, 0, 2, 2, 0, 1, 2, 2, 0, 1, 2, 1, 0, 0, 1, 2, 0, 0, 1, 0, 2,\n",
       "       0, 0, 2, 1, 2, 2, 2, 2, 2, 2, 2, 2, 2, 1, 1, 2, 2, 2, 0, 2, 2, 2,\n",
       "       0, 2, 0, 1, 0, 0, 0, 2, 2, 1, 2, 2, 1, 2, 0, 2, 1, 0, 2, 2, 0, 0,\n",
       "       0, 1, 2, 2, 1, 2, 2, 2, 2, 0, 0, 0, 0, 1, 1, 0, 0, 2, 0, 2, 1, 1,\n",
       "       2, 0, 1, 2, 1, 0, 0, 2, 2, 1, 0, 0, 0, 1, 1, 2, 0, 1, 0, 2, 2, 2,\n",
       "       1, 1, 0, 1, 0, 2, 1, 0, 0, 1, 2, 2, 2, 2, 1, 2, 0, 0, 0, 0, 0, 0,\n",
       "       2, 1, 2, 1, 2, 1, 2, 2, 0, 0, 2, 2, 0, 2, 2, 2, 1, 2, 0, 2, 2, 0,\n",
       "       1, 2, 2, 0, 2, 2, 2, 2, 2, 1, 2, 2, 2, 1, 0, 2, 2, 0, 1, 1, 0, 1,\n",
       "       2, 0, 1, 2, 0, 1, 0, 2, 0, 2, 2, 2, 2, 0, 0, 1, 0, 1, 2, 2, 1, 0,\n",
       "       0, 0, 2, 0, 0, 0, 1, 0, 0, 1, 2, 0, 2, 0, 0, 2, 1, 0, 2, 1, 2, 2,\n",
       "       2, 2, 2, 2, 1, 0, 2, 0, 0, 2, 1, 1, 2, 2, 0, 2, 1, 2, 1, 0, 0, 2,\n",
       "       1, 0, 2, 1, 0, 0, 1, 1, 0, 2, 2, 1, 0, 0, 2, 1, 0, 2, 2, 2, 0, 1,\n",
       "       2, 1, 2, 2, 2, 2, 2, 1, 2, 1, 2, 0, 1, 0, 0, 0, 0, 0, 1, 1, 0, 2,\n",
       "       1, 2, 2, 2, 2, 0, 1, 0, 1, 1, 0, 1, 2, 1, 1, 1, 2, 2, 0, 2, 2, 1,\n",
       "       2, 0, 0, 0, 0, 0, 0, 2, 2, 2, 2, 1, 2, 1, 1, 1, 0, 2, 2, 0, 2, 2,\n",
       "       0, 2, 0, 0, 2, 0, 2, 0, 1, 2, 0, 1, 1, 1, 0, 1, 2, 2, 2, 2, 1, 0,\n",
       "       2, 0, 0, 0, 2, 1, 2, 2, 1, 0, 1, 2, 1, 2, 1, 1, 0, 0, 2, 0, 0, 1,\n",
       "       2, 2, 2, 0, 2, 1, 0, 1, 2, 2, 2, 2, 1, 2, 2, 0, 2], dtype=int64)"
      ]
     },
     "execution_count": 18,
     "metadata": {},
     "output_type": "execute_result"
    }
   ],
   "source": [
    "TimeSeriesKMeans().fit(clustering_input).labels_"
   ]
  },
  {
   "cell_type": "code",
   "execution_count": 19,
   "metadata": {},
   "outputs": [],
   "source": [
    "import hyperopt\n"
   ]
  },
  {
   "cell_type": "code",
   "execution_count": null,
   "metadata": {},
   "outputs": [],
   "source": []
  }
 ],
 "metadata": {
  "kernelspec": {
   "display_name": "base",
   "language": "python",
   "name": "python3"
  },
  "language_info": {
   "codemirror_mode": {
    "name": "ipython",
    "version": 3
   },
   "file_extension": ".py",
   "mimetype": "text/x-python",
   "name": "python",
   "nbconvert_exporter": "python",
   "pygments_lexer": "ipython3",
   "version": "3.10.9"
  }
 },
 "nbformat": 4,
 "nbformat_minor": 2
}
